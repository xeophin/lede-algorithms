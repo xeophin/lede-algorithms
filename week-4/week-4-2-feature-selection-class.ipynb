{
 "cells": [
  {
   "cell_type": "markdown",
   "metadata": {},
   "source": [
    "## Class 4-2: Feature selection"
   ]
  },
  {
   "cell_type": "code",
   "execution_count": 1,
   "metadata": {
    "collapsed": true
   },
   "outputs": [],
   "source": [
    "import pandas as pd\n",
    "from sklearn import tree\n",
    "from sklearn.linear_model import LogisticRegression\n",
    "import matplotlib.pyplot as plt\n",
    "from pandas.plotting import scatter_matrix\n",
    "from sklearn.model_selection import train_test_split\n",
    "from sklearn import metrics\n",
    "%matplotlib inline\n"
   ]
  },
  {
   "cell_type": "markdown",
   "metadata": {},
   "source": [
    "In this class we're going to learn more about setting up problems for machine learning. The actual `fit()` call is the easy part; most of the work of applying learning machine learning is usually setting up the data.\n",
    "\n",
    "Our first task today will be trying to figure out when a plane is likely to be late. We'll be using\n",
    " a data set of arrivals at JFK in 2015\n",
    " \n",
    "Then we'll build a classifer very similar to one that was used at the New York Times to categorize occupation descriptions in campaign finance data."
   ]
  },
  {
   "cell_type": "markdown",
   "metadata": {},
   "source": [
    "## 1. Guessing late flights"
   ]
  },
  {
   "cell_type": "code",
   "execution_count": 2,
   "metadata": {},
   "outputs": [
    {
     "data": {
      "text/plain": [
       "(45648, 21)"
      ]
     },
     "execution_count": 2,
     "metadata": {},
     "output_type": "execute_result"
    }
   ],
   "source": [
    "# load flight data\n",
    "fl = pd.read_csv('ontime_reports_may_2015_ny.csv')\n",
    "fl.shape"
   ]
  },
  {
   "cell_type": "code",
   "execution_count": 3,
   "metadata": {},
   "outputs": [
    {
     "data": {
      "text/html": [
       "<div>\n",
       "<style>\n",
       "    .dataframe thead tr:only-child th {\n",
       "        text-align: right;\n",
       "    }\n",
       "\n",
       "    .dataframe thead th {\n",
       "        text-align: left;\n",
       "    }\n",
       "\n",
       "    .dataframe tbody tr th {\n",
       "        vertical-align: top;\n",
       "    }\n",
       "</style>\n",
       "<table border=\"1\" class=\"dataframe\">\n",
       "  <thead>\n",
       "    <tr style=\"text-align: right;\">\n",
       "      <th></th>\n",
       "      <th>YEAR</th>\n",
       "      <th>MONTH</th>\n",
       "      <th>DAY_OF_MONTH</th>\n",
       "      <th>CARRIER</th>\n",
       "      <th>FL_NUM</th>\n",
       "      <th>ORIGIN</th>\n",
       "      <th>DEST</th>\n",
       "      <th>DEP_DELAY</th>\n",
       "      <th>ARR_DELAY</th>\n",
       "      <th>CANCELLED</th>\n",
       "      <th>...</th>\n",
       "      <th>DIVERTED</th>\n",
       "      <th>ACTUAL_ELAPSED_TIME</th>\n",
       "      <th>AIR_TIME</th>\n",
       "      <th>DISTANCE</th>\n",
       "      <th>CARRIER_DELAY</th>\n",
       "      <th>WEATHER_DELAY</th>\n",
       "      <th>NAS_DELAY</th>\n",
       "      <th>SECURITY_DELAY</th>\n",
       "      <th>LATE_AIRCRAFT_DELAY</th>\n",
       "      <th>Unnamed: 20</th>\n",
       "    </tr>\n",
       "  </thead>\n",
       "  <tbody>\n",
       "    <tr>\n",
       "      <th>0</th>\n",
       "      <td>2015</td>\n",
       "      <td>5</td>\n",
       "      <td>1</td>\n",
       "      <td>AA</td>\n",
       "      <td>44</td>\n",
       "      <td>LAS</td>\n",
       "      <td>JFK</td>\n",
       "      <td>-6.0</td>\n",
       "      <td>-17.0</td>\n",
       "      <td>0.0</td>\n",
       "      <td>...</td>\n",
       "      <td>0.0</td>\n",
       "      <td>294.0</td>\n",
       "      <td>273.0</td>\n",
       "      <td>2248.0</td>\n",
       "      <td>NaN</td>\n",
       "      <td>NaN</td>\n",
       "      <td>NaN</td>\n",
       "      <td>NaN</td>\n",
       "      <td>NaN</td>\n",
       "      <td>NaN</td>\n",
       "    </tr>\n",
       "    <tr>\n",
       "      <th>1</th>\n",
       "      <td>2015</td>\n",
       "      <td>5</td>\n",
       "      <td>2</td>\n",
       "      <td>AA</td>\n",
       "      <td>44</td>\n",
       "      <td>LAS</td>\n",
       "      <td>JFK</td>\n",
       "      <td>-8.0</td>\n",
       "      <td>-14.0</td>\n",
       "      <td>0.0</td>\n",
       "      <td>...</td>\n",
       "      <td>0.0</td>\n",
       "      <td>299.0</td>\n",
       "      <td>280.0</td>\n",
       "      <td>2248.0</td>\n",
       "      <td>NaN</td>\n",
       "      <td>NaN</td>\n",
       "      <td>NaN</td>\n",
       "      <td>NaN</td>\n",
       "      <td>NaN</td>\n",
       "      <td>NaN</td>\n",
       "    </tr>\n",
       "    <tr>\n",
       "      <th>2</th>\n",
       "      <td>2015</td>\n",
       "      <td>5</td>\n",
       "      <td>3</td>\n",
       "      <td>AA</td>\n",
       "      <td>44</td>\n",
       "      <td>LAS</td>\n",
       "      <td>JFK</td>\n",
       "      <td>0.0</td>\n",
       "      <td>-11.0</td>\n",
       "      <td>0.0</td>\n",
       "      <td>...</td>\n",
       "      <td>0.0</td>\n",
       "      <td>294.0</td>\n",
       "      <td>274.0</td>\n",
       "      <td>2248.0</td>\n",
       "      <td>NaN</td>\n",
       "      <td>NaN</td>\n",
       "      <td>NaN</td>\n",
       "      <td>NaN</td>\n",
       "      <td>NaN</td>\n",
       "      <td>NaN</td>\n",
       "    </tr>\n",
       "    <tr>\n",
       "      <th>3</th>\n",
       "      <td>2015</td>\n",
       "      <td>5</td>\n",
       "      <td>4</td>\n",
       "      <td>AA</td>\n",
       "      <td>44</td>\n",
       "      <td>LAS</td>\n",
       "      <td>JFK</td>\n",
       "      <td>-11.0</td>\n",
       "      <td>4.0</td>\n",
       "      <td>0.0</td>\n",
       "      <td>...</td>\n",
       "      <td>0.0</td>\n",
       "      <td>320.0</td>\n",
       "      <td>275.0</td>\n",
       "      <td>2248.0</td>\n",
       "      <td>NaN</td>\n",
       "      <td>NaN</td>\n",
       "      <td>NaN</td>\n",
       "      <td>NaN</td>\n",
       "      <td>NaN</td>\n",
       "      <td>NaN</td>\n",
       "    </tr>\n",
       "    <tr>\n",
       "      <th>4</th>\n",
       "      <td>2015</td>\n",
       "      <td>5</td>\n",
       "      <td>5</td>\n",
       "      <td>AA</td>\n",
       "      <td>44</td>\n",
       "      <td>LAS</td>\n",
       "      <td>JFK</td>\n",
       "      <td>-4.0</td>\n",
       "      <td>-18.0</td>\n",
       "      <td>0.0</td>\n",
       "      <td>...</td>\n",
       "      <td>0.0</td>\n",
       "      <td>291.0</td>\n",
       "      <td>270.0</td>\n",
       "      <td>2248.0</td>\n",
       "      <td>NaN</td>\n",
       "      <td>NaN</td>\n",
       "      <td>NaN</td>\n",
       "      <td>NaN</td>\n",
       "      <td>NaN</td>\n",
       "      <td>NaN</td>\n",
       "    </tr>\n",
       "  </tbody>\n",
       "</table>\n",
       "<p>5 rows × 21 columns</p>\n",
       "</div>"
      ],
      "text/plain": [
       "   YEAR  MONTH  DAY_OF_MONTH CARRIER  FL_NUM ORIGIN DEST  DEP_DELAY  \\\n",
       "0  2015      5             1      AA      44    LAS  JFK       -6.0   \n",
       "1  2015      5             2      AA      44    LAS  JFK       -8.0   \n",
       "2  2015      5             3      AA      44    LAS  JFK        0.0   \n",
       "3  2015      5             4      AA      44    LAS  JFK      -11.0   \n",
       "4  2015      5             5      AA      44    LAS  JFK       -4.0   \n",
       "\n",
       "   ARR_DELAY  CANCELLED     ...      DIVERTED  ACTUAL_ELAPSED_TIME  AIR_TIME  \\\n",
       "0      -17.0        0.0     ...           0.0                294.0     273.0   \n",
       "1      -14.0        0.0     ...           0.0                299.0     280.0   \n",
       "2      -11.0        0.0     ...           0.0                294.0     274.0   \n",
       "3        4.0        0.0     ...           0.0                320.0     275.0   \n",
       "4      -18.0        0.0     ...           0.0                291.0     270.0   \n",
       "\n",
       "   DISTANCE  CARRIER_DELAY  WEATHER_DELAY  NAS_DELAY  SECURITY_DELAY  \\\n",
       "0    2248.0            NaN            NaN        NaN             NaN   \n",
       "1    2248.0            NaN            NaN        NaN             NaN   \n",
       "2    2248.0            NaN            NaN        NaN             NaN   \n",
       "3    2248.0            NaN            NaN        NaN             NaN   \n",
       "4    2248.0            NaN            NaN        NaN             NaN   \n",
       "\n",
       "   LATE_AIRCRAFT_DELAY  Unnamed: 20  \n",
       "0                  NaN          NaN  \n",
       "1                  NaN          NaN  \n",
       "2                  NaN          NaN  \n",
       "3                  NaN          NaN  \n",
       "4                  NaN          NaN  \n",
       "\n",
       "[5 rows x 21 columns]"
      ]
     },
     "execution_count": 3,
     "metadata": {},
     "output_type": "execute_result"
    }
   ],
   "source": [
    "# take a look\n",
    "fl.head()"
   ]
  },
  {
   "cell_type": "code",
   "execution_count": 4,
   "metadata": {},
   "outputs": [
    {
     "data": {
      "text/plain": [
       "Index(['YEAR', 'MONTH', 'DAY_OF_MONTH', 'CARRIER', 'FL_NUM', 'ORIGIN', 'DEST',\n",
       "       'DEP_DELAY', 'ARR_DELAY', 'CANCELLED', 'CANCELLATION_CODE', 'DIVERTED',\n",
       "       'ACTUAL_ELAPSED_TIME', 'AIR_TIME', 'DISTANCE', 'CARRIER_DELAY',\n",
       "       'WEATHER_DELAY', 'NAS_DELAY', 'SECURITY_DELAY', 'LATE_AIRCRAFT_DELAY',\n",
       "       'Unnamed: 20'],\n",
       "      dtype='object')"
      ]
     },
     "execution_count": 4,
     "metadata": {},
     "output_type": "execute_result"
    }
   ],
   "source": [
    "# what are the columns?\n",
    "fl.columns"
   ]
  },
  {
   "cell_type": "code",
   "execution_count": 5,
   "metadata": {
    "scrolled": true
   },
   "outputs": [
    {
     "data": {
      "text/html": [
       "<div>\n",
       "<style>\n",
       "    .dataframe thead tr:only-child th {\n",
       "        text-align: right;\n",
       "    }\n",
       "\n",
       "    .dataframe thead th {\n",
       "        text-align: left;\n",
       "    }\n",
       "\n",
       "    .dataframe tbody tr th {\n",
       "        vertical-align: top;\n",
       "    }\n",
       "</style>\n",
       "<table border=\"1\" class=\"dataframe\">\n",
       "  <thead>\n",
       "    <tr style=\"text-align: right;\">\n",
       "      <th></th>\n",
       "      <th>YEAR</th>\n",
       "      <th>MONTH</th>\n",
       "      <th>DAY_OF_MONTH</th>\n",
       "      <th>FL_NUM</th>\n",
       "      <th>DEP_DELAY</th>\n",
       "      <th>ARR_DELAY</th>\n",
       "      <th>CANCELLED</th>\n",
       "      <th>DIVERTED</th>\n",
       "      <th>ACTUAL_ELAPSED_TIME</th>\n",
       "      <th>AIR_TIME</th>\n",
       "      <th>DISTANCE</th>\n",
       "      <th>CARRIER_DELAY</th>\n",
       "      <th>WEATHER_DELAY</th>\n",
       "      <th>NAS_DELAY</th>\n",
       "      <th>SECURITY_DELAY</th>\n",
       "      <th>LATE_AIRCRAFT_DELAY</th>\n",
       "      <th>Unnamed: 20</th>\n",
       "    </tr>\n",
       "  </thead>\n",
       "  <tbody>\n",
       "    <tr>\n",
       "      <th>count</th>\n",
       "      <td>45648.0</td>\n",
       "      <td>45648.0</td>\n",
       "      <td>45648.000000</td>\n",
       "      <td>45648.000000</td>\n",
       "      <td>44920.000000</td>\n",
       "      <td>44703.000000</td>\n",
       "      <td>45648.000000</td>\n",
       "      <td>45648.000000</td>\n",
       "      <td>44703.000000</td>\n",
       "      <td>44703.000000</td>\n",
       "      <td>45648.000000</td>\n",
       "      <td>7854.000000</td>\n",
       "      <td>7854.000000</td>\n",
       "      <td>7854.000000</td>\n",
       "      <td>7854.000000</td>\n",
       "      <td>7854.000000</td>\n",
       "      <td>0.0</td>\n",
       "    </tr>\n",
       "    <tr>\n",
       "      <th>mean</th>\n",
       "      <td>2015.0</td>\n",
       "      <td>5.0</td>\n",
       "      <td>15.945759</td>\n",
       "      <td>1696.717885</td>\n",
       "      <td>10.901158</td>\n",
       "      <td>2.456099</td>\n",
       "      <td>0.016912</td>\n",
       "      <td>0.003790</td>\n",
       "      <td>167.442856</td>\n",
       "      <td>139.886853</td>\n",
       "      <td>1019.913819</td>\n",
       "      <td>18.123631</td>\n",
       "      <td>3.029157</td>\n",
       "      <td>25.238350</td>\n",
       "      <td>0.061879</td>\n",
       "      <td>26.114464</td>\n",
       "      <td>NaN</td>\n",
       "    </tr>\n",
       "    <tr>\n",
       "      <th>std</th>\n",
       "      <td>0.0</td>\n",
       "      <td>0.0</td>\n",
       "      <td>8.893316</td>\n",
       "      <td>1422.585661</td>\n",
       "      <td>43.352321</td>\n",
       "      <td>46.814900</td>\n",
       "      <td>0.128943</td>\n",
       "      <td>0.061446</td>\n",
       "      <td>88.119647</td>\n",
       "      <td>85.685890</td>\n",
       "      <td>710.691183</td>\n",
       "      <td>51.011949</td>\n",
       "      <td>20.737081</td>\n",
       "      <td>48.335216</td>\n",
       "      <td>1.564925</td>\n",
       "      <td>50.348603</td>\n",
       "      <td>NaN</td>\n",
       "    </tr>\n",
       "    <tr>\n",
       "      <th>min</th>\n",
       "      <td>2015.0</td>\n",
       "      <td>5.0</td>\n",
       "      <td>1.000000</td>\n",
       "      <td>1.000000</td>\n",
       "      <td>-28.000000</td>\n",
       "      <td>-69.000000</td>\n",
       "      <td>0.000000</td>\n",
       "      <td>0.000000</td>\n",
       "      <td>43.000000</td>\n",
       "      <td>25.000000</td>\n",
       "      <td>96.000000</td>\n",
       "      <td>0.000000</td>\n",
       "      <td>0.000000</td>\n",
       "      <td>0.000000</td>\n",
       "      <td>0.000000</td>\n",
       "      <td>0.000000</td>\n",
       "      <td>NaN</td>\n",
       "    </tr>\n",
       "    <tr>\n",
       "      <th>25%</th>\n",
       "      <td>2015.0</td>\n",
       "      <td>5.0</td>\n",
       "      <td>8.000000</td>\n",
       "      <td>507.000000</td>\n",
       "      <td>-5.000000</td>\n",
       "      <td>-19.000000</td>\n",
       "      <td>0.000000</td>\n",
       "      <td>0.000000</td>\n",
       "      <td>104.000000</td>\n",
       "      <td>77.000000</td>\n",
       "      <td>502.000000</td>\n",
       "      <td>0.000000</td>\n",
       "      <td>0.000000</td>\n",
       "      <td>0.000000</td>\n",
       "      <td>0.000000</td>\n",
       "      <td>0.000000</td>\n",
       "      <td>NaN</td>\n",
       "    </tr>\n",
       "    <tr>\n",
       "      <th>50%</th>\n",
       "      <td>2015.0</td>\n",
       "      <td>5.0</td>\n",
       "      <td>16.000000</td>\n",
       "      <td>1289.000000</td>\n",
       "      <td>-2.000000</td>\n",
       "      <td>-9.000000</td>\n",
       "      <td>0.000000</td>\n",
       "      <td>0.000000</td>\n",
       "      <td>149.000000</td>\n",
       "      <td>122.000000</td>\n",
       "      <td>828.000000</td>\n",
       "      <td>0.000000</td>\n",
       "      <td>0.000000</td>\n",
       "      <td>6.000000</td>\n",
       "      <td>0.000000</td>\n",
       "      <td>0.000000</td>\n",
       "      <td>NaN</td>\n",
       "    </tr>\n",
       "    <tr>\n",
       "      <th>75%</th>\n",
       "      <td>2015.0</td>\n",
       "      <td>5.0</td>\n",
       "      <td>24.000000</td>\n",
       "      <td>2404.000000</td>\n",
       "      <td>6.000000</td>\n",
       "      <td>5.000000</td>\n",
       "      <td>0.000000</td>\n",
       "      <td>0.000000</td>\n",
       "      <td>199.000000</td>\n",
       "      <td>168.000000</td>\n",
       "      <td>1183.000000</td>\n",
       "      <td>17.000000</td>\n",
       "      <td>0.000000</td>\n",
       "      <td>28.000000</td>\n",
       "      <td>0.000000</td>\n",
       "      <td>31.000000</td>\n",
       "      <td>NaN</td>\n",
       "    </tr>\n",
       "    <tr>\n",
       "      <th>max</th>\n",
       "      <td>2015.0</td>\n",
       "      <td>5.0</td>\n",
       "      <td>31.000000</td>\n",
       "      <td>6520.000000</td>\n",
       "      <td>1324.000000</td>\n",
       "      <td>1318.000000</td>\n",
       "      <td>1.000000</td>\n",
       "      <td>1.000000</td>\n",
       "      <td>702.000000</td>\n",
       "      <td>648.000000</td>\n",
       "      <td>4983.000000</td>\n",
       "      <td>1318.000000</td>\n",
       "      <td>732.000000</td>\n",
       "      <td>676.000000</td>\n",
       "      <td>85.000000</td>\n",
       "      <td>846.000000</td>\n",
       "      <td>NaN</td>\n",
       "    </tr>\n",
       "  </tbody>\n",
       "</table>\n",
       "</div>"
      ],
      "text/plain": [
       "          YEAR    MONTH  DAY_OF_MONTH        FL_NUM     DEP_DELAY  \\\n",
       "count  45648.0  45648.0  45648.000000  45648.000000  44920.000000   \n",
       "mean    2015.0      5.0     15.945759   1696.717885     10.901158   \n",
       "std        0.0      0.0      8.893316   1422.585661     43.352321   \n",
       "min     2015.0      5.0      1.000000      1.000000    -28.000000   \n",
       "25%     2015.0      5.0      8.000000    507.000000     -5.000000   \n",
       "50%     2015.0      5.0     16.000000   1289.000000     -2.000000   \n",
       "75%     2015.0      5.0     24.000000   2404.000000      6.000000   \n",
       "max     2015.0      5.0     31.000000   6520.000000   1324.000000   \n",
       "\n",
       "          ARR_DELAY     CANCELLED      DIVERTED  ACTUAL_ELAPSED_TIME  \\\n",
       "count  44703.000000  45648.000000  45648.000000         44703.000000   \n",
       "mean       2.456099      0.016912      0.003790           167.442856   \n",
       "std       46.814900      0.128943      0.061446            88.119647   \n",
       "min      -69.000000      0.000000      0.000000            43.000000   \n",
       "25%      -19.000000      0.000000      0.000000           104.000000   \n",
       "50%       -9.000000      0.000000      0.000000           149.000000   \n",
       "75%        5.000000      0.000000      0.000000           199.000000   \n",
       "max     1318.000000      1.000000      1.000000           702.000000   \n",
       "\n",
       "           AIR_TIME      DISTANCE  CARRIER_DELAY  WEATHER_DELAY    NAS_DELAY  \\\n",
       "count  44703.000000  45648.000000    7854.000000    7854.000000  7854.000000   \n",
       "mean     139.886853   1019.913819      18.123631       3.029157    25.238350   \n",
       "std       85.685890    710.691183      51.011949      20.737081    48.335216   \n",
       "min       25.000000     96.000000       0.000000       0.000000     0.000000   \n",
       "25%       77.000000    502.000000       0.000000       0.000000     0.000000   \n",
       "50%      122.000000    828.000000       0.000000       0.000000     6.000000   \n",
       "75%      168.000000   1183.000000      17.000000       0.000000    28.000000   \n",
       "max      648.000000   4983.000000    1318.000000     732.000000   676.000000   \n",
       "\n",
       "       SECURITY_DELAY  LATE_AIRCRAFT_DELAY  Unnamed: 20  \n",
       "count     7854.000000          7854.000000          0.0  \n",
       "mean         0.061879            26.114464          NaN  \n",
       "std          1.564925            50.348603          NaN  \n",
       "min          0.000000             0.000000          NaN  \n",
       "25%          0.000000             0.000000          NaN  \n",
       "50%          0.000000             0.000000          NaN  \n",
       "75%          0.000000            31.000000          NaN  \n",
       "max         85.000000           846.000000          NaN  "
      ]
     },
     "execution_count": 5,
     "metadata": {},
     "output_type": "execute_result"
    }
   ],
   "source": [
    "# distribution of each column\n",
    "fl.describe()"
   ]
  },
  {
   "cell_type": "code",
   "execution_count": 6,
   "metadata": {},
   "outputs": [
    {
     "data": {
      "text/plain": [
       "<matplotlib.axes._subplots.AxesSubplot at 0x11bebf4a8>"
      ]
     },
     "execution_count": 6,
     "metadata": {},
     "output_type": "execute_result"
    },
    {
     "data": {
      "image/png": "[encoded data removed]",
      "text/plain": [
       "<Figure size 432x288 with 1 Axes>"
      ]
     },
     "metadata": {},
     "output_type": "display_data"
    }
   ],
   "source": [
    "# Let's look at the column we'll try to predict\n",
    "fl.ARR_DELAY.hist(bins=50)"
   ]
  },
  {
   "cell_type": "markdown",
   "metadata": {},
   "source": [
    "So what makes planes delayed? How would we guess, given all other information, whether the plane will be on time? We can look at various factors to try to find out, including which airline was flying and where they were going."
   ]
  },
  {
   "cell_type": "code",
   "execution_count": 7,
   "metadata": {},
   "outputs": [
    {
     "data": {
      "text/plain": [
       "CARRIER\n",
       "B6   -12.0\n",
       "AA   -10.0\n",
       "DL   -10.0\n",
       "MQ    -8.0\n",
       "UA    -8.0\n",
       "WN    -8.0\n",
       "EV    -7.0\n",
       "OO    -6.0\n",
       "US    -6.0\n",
       "F9    -4.5\n",
       "VX    -4.0\n",
       "NK    -2.0\n",
       "HA     1.0\n",
       "Name: ARR_DELAY, dtype: float64"
      ]
     },
     "execution_count": 7,
     "metadata": {},
     "output_type": "execute_result"
    }
   ],
   "source": [
    "(fl.groupby('CARRIER').median()).sort_values('ARR_DELAY')['ARR_DELAY']"
   ]
  },
  {
   "cell_type": "code",
   "execution_count": 8,
   "metadata": {},
   "outputs": [
    {
     "data": {
      "text/plain": [
       "ORIGIN\n",
       "STT   -19.5\n",
       "EWR   -18.0\n",
       "SRQ   -18.0\n",
       "SJU   -18.0\n",
       "IAD   -17.0\n",
       "BTV   -17.0\n",
       "SAN   -16.5\n",
       "PWM   -16.5\n",
       "PSE   -16.0\n",
       "MSY   -15.0\n",
       "BQN   -15.0\n",
       "MKE   -14.0\n",
       "SAT   -13.5\n",
       "SLC   -13.0\n",
       "BGR   -13.0\n",
       "LAX   -13.0\n",
       "PDX   -13.0\n",
       "SYR   -13.0\n",
       "DEN   -13.0\n",
       "LGB   -12.0\n",
       "SEA   -12.0\n",
       "FLL   -12.0\n",
       "JAX   -12.0\n",
       "ISP   -12.0\n",
       "ALB   -12.0\n",
       "OMA   -12.0\n",
       "BUF   -12.0\n",
       "JFK   -12.0\n",
       "HPN   -11.0\n",
       "CHS   -11.0\n",
       "       ... \n",
       "CMH    -7.0\n",
       "ATL    -7.0\n",
       "MCI    -7.0\n",
       "BOS    -7.0\n",
       "PHX    -6.5\n",
       "GRR    -6.5\n",
       "RIC    -6.5\n",
       "STL    -6.0\n",
       "RNO    -6.0\n",
       "ELM    -6.0\n",
       "MDW    -6.0\n",
       "RDU    -6.0\n",
       "MIA    -6.0\n",
       "CAE    -4.5\n",
       "DTW    -4.0\n",
       "IAH    -4.0\n",
       "DFW    -4.0\n",
       "GSO    -4.0\n",
       "ORF    -3.0\n",
       "SDF    -3.0\n",
       "HOU    -2.0\n",
       "BNA    -2.0\n",
       "BWI    -2.0\n",
       "CLT    -2.0\n",
       "DAY    -1.5\n",
       "MYR    -1.5\n",
       "PIT     1.0\n",
       "CHO     3.5\n",
       "HNL     4.0\n",
       "DAL     8.0\n",
       "Name: ARR_DELAY, Length: 92, dtype: float64"
      ]
     },
     "execution_count": 8,
     "metadata": {},
     "output_type": "execute_result"
    }
   ],
   "source": [
    "(fl.groupby('ORIGIN').median()).sort_values('ARR_DELAY')['ARR_DELAY']"
   ]
  },
  {
   "cell_type": "markdown",
   "metadata": {},
   "source": [
    "The first surprise is that, overall, it seems most flights arrive early!\n",
    "\n",
    "But there does seem to be information here -- some airports tend to be delayed a lot more than others. Of course, many other variables will be predictive. \n",
    "\n",
    "Of course, we should expect that the departure delay correlates strongly with the arrival delay."
   ]
  },
  {
   "cell_type": "code",
   "execution_count": 9,
   "metadata": {},
   "outputs": [
    {
     "data": {
      "text/plain": [
       "<matplotlib.collections.PathCollection at 0x11c354160>"
      ]
     },
     "execution_count": 9,
     "metadata": {},
     "output_type": "execute_result"
    },
    {
     "data": {
      "image/png": "[encoded data removed]",
      "text/plain": [
       "<Figure size 432x288 with 1 Axes>"
      ]
     },
     "metadata": {},
     "output_type": "display_data"
    }
   ],
   "source": [
    "plt.scatter(fl.DEP_DELAY, fl.ARR_DELAY)"
   ]
  },
  {
   "cell_type": "markdown",
   "metadata": {},
   "source": [
    "### Encoding the columns\n",
    "\n",
    "We want to use a decision tree to predict whether the plane will be delayed. Before we can do that, we're going to frame the problem a little more specifically.\n",
    "\n",
    "- We want to predict: will the plane have an ARR_DELAY greater than 0, a binary variable?\n",
    "- From data: Everything we would know before the plane takes off. So, not the other DELAY variables, CANCELLED and DIVERTED, or ACTUAL_ELAPSED_TIME.\n",
    "\n",
    "The first problem is that we have a bunch of categorical varaibles that need to be turned into numerical variables. This means the first step is some data cleaning.\n",
    "\n",
    "Meanwhile the output we want to predict, `ARR_DELAY`, is numerical not categorical. To use a classifier, we have to guess... classes. So to start with, let's divide the flights into delayed and not delayed."
   ]
  },
  {
   "cell_type": "code",
   "execution_count": 10,
   "metadata": {},
   "outputs": [
    {
     "data": {
      "text/plain": [
       "0    0\n",
       "1    0\n",
       "2    0\n",
       "3    1\n",
       "4    0\n",
       "Name: ARR_DELAY, dtype: int64"
      ]
     },
     "execution_count": 10,
     "metadata": {},
     "output_type": "execute_result"
    }
   ],
   "source": [
    "# Predict only whether the arrival was >0 minutes late\n",
    "fl_output = fl['ARR_DELAY'].apply(lambda x: 1 if x>0 else 0 )\n",
    "fl_output.head()"
   ]
  },
  {
   "cell_type": "code",
   "execution_count": 11,
   "metadata": {
    "collapsed": true
   },
   "outputs": [],
   "source": [
    "# Keep only variables we know before the flight leaves. We'll start with the variables that are already numeric\n",
    "fl_input = fl[['YEAR', 'MONTH', 'DAY_OF_MONTH', 'AIR_TIME', 'DISTANCE']]"
   ]
  },
  {
   "cell_type": "code",
   "execution_count": 12,
   "metadata": {},
   "outputs": [
    {
     "data": {
      "text/plain": [
       "LGA    9428\n",
       "JFK    8880\n",
       "ORD    1837\n",
       "BUF    1675\n",
       "ATL    1603\n",
       "Name: ORIGIN, dtype: int64"
      ]
     },
     "execution_count": 12,
     "metadata": {},
     "output_type": "execute_result"
    }
   ],
   "source": [
    "# But what about the 'CARRIER', 'ORIGIN', and 'DEST' columns? They're not numeric, or even ordered \n",
    "fl['ORIGIN'].value_counts().head()"
   ]
  },
  {
   "cell_type": "code",
   "execution_count": 13,
   "metadata": {},
   "outputs": [
    {
     "data": {
      "text/html": [
       "<div>\n",
       "<style>\n",
       "    .dataframe thead tr:only-child th {\n",
       "        text-align: right;\n",
       "    }\n",
       "\n",
       "    .dataframe thead th {\n",
       "        text-align: left;\n",
       "    }\n",
       "\n",
       "    .dataframe tbody tr th {\n",
       "        vertical-align: top;\n",
       "    }\n",
       "</style>\n",
       "<table border=\"1\" class=\"dataframe\">\n",
       "  <thead>\n",
       "    <tr style=\"text-align: right;\">\n",
       "      <th></th>\n",
       "      <th>mycat</th>\n",
       "    </tr>\n",
       "  </thead>\n",
       "  <tbody>\n",
       "    <tr>\n",
       "      <th>0</th>\n",
       "      <td>b</td>\n",
       "    </tr>\n",
       "    <tr>\n",
       "      <th>1</th>\n",
       "      <td>b</td>\n",
       "    </tr>\n",
       "    <tr>\n",
       "      <th>2</th>\n",
       "      <td>a</td>\n",
       "    </tr>\n",
       "    <tr>\n",
       "      <th>3</th>\n",
       "      <td>c</td>\n",
       "    </tr>\n",
       "    <tr>\n",
       "      <th>4</th>\n",
       "      <td>a</td>\n",
       "    </tr>\n",
       "    <tr>\n",
       "      <th>5</th>\n",
       "      <td>b</td>\n",
       "    </tr>\n",
       "  </tbody>\n",
       "</table>\n",
       "</div>"
      ],
      "text/plain": [
       "  mycat\n",
       "0     b\n",
       "1     b\n",
       "2     a\n",
       "3     c\n",
       "4     a\n",
       "5     b"
      ]
     },
     "execution_count": 13,
     "metadata": {},
     "output_type": "execute_result"
    }
   ],
   "source": [
    "# To turn categorical variables into numeric variables, we create one binary \"dummy\" variable for each category\n",
    "# To demonstrate how this works:\n",
    "df = pd.DataFrame({'mycat':['b','b','a','c','a','b']})\n",
    "df"
   ]
  },
  {
   "cell_type": "code",
   "execution_count": 14,
   "metadata": {},
   "outputs": [
    {
     "data": {
      "text/html": [
       "<div>\n",
       "<style>\n",
       "    .dataframe thead tr:only-child th {\n",
       "        text-align: right;\n",
       "    }\n",
       "\n",
       "    .dataframe thead th {\n",
       "        text-align: left;\n",
       "    }\n",
       "\n",
       "    .dataframe tbody tr th {\n",
       "        vertical-align: top;\n",
       "    }\n",
       "</style>\n",
       "<table border=\"1\" class=\"dataframe\">\n",
       "  <thead>\n",
       "    <tr style=\"text-align: right;\">\n",
       "      <th></th>\n",
       "      <th>category_a</th>\n",
       "      <th>category_b</th>\n",
       "      <th>category_c</th>\n",
       "    </tr>\n",
       "  </thead>\n",
       "  <tbody>\n",
       "    <tr>\n",
       "      <th>0</th>\n",
       "      <td>0</td>\n",
       "      <td>1</td>\n",
       "      <td>0</td>\n",
       "    </tr>\n",
       "    <tr>\n",
       "      <th>1</th>\n",
       "      <td>0</td>\n",
       "      <td>1</td>\n",
       "      <td>0</td>\n",
       "    </tr>\n",
       "    <tr>\n",
       "      <th>2</th>\n",
       "      <td>1</td>\n",
       "      <td>0</td>\n",
       "      <td>0</td>\n",
       "    </tr>\n",
       "    <tr>\n",
       "      <th>3</th>\n",
       "      <td>0</td>\n",
       "      <td>0</td>\n",
       "      <td>1</td>\n",
       "    </tr>\n",
       "    <tr>\n",
       "      <th>4</th>\n",
       "      <td>1</td>\n",
       "      <td>0</td>\n",
       "      <td>0</td>\n",
       "    </tr>\n",
       "    <tr>\n",
       "      <th>5</th>\n",
       "      <td>0</td>\n",
       "      <td>1</td>\n",
       "      <td>0</td>\n",
       "    </tr>\n",
       "  </tbody>\n",
       "</table>\n",
       "</div>"
      ],
      "text/plain": [
       "   category_a  category_b  category_c\n",
       "0           0           1           0\n",
       "1           0           1           0\n",
       "2           1           0           0\n",
       "3           0           0           1\n",
       "4           1           0           0\n",
       "5           0           1           0"
      ]
     },
     "execution_count": 14,
     "metadata": {},
     "output_type": "execute_result"
    }
   ],
   "source": [
    "pd.get_dummies(df['mycat'],prefix='category')"
   ]
  },
  {
   "cell_type": "code",
   "execution_count": 15,
   "metadata": {},
   "outputs": [
    {
     "data": {
      "text/html": [
       "<div>\n",
       "<style>\n",
       "    .dataframe thead tr:only-child th {\n",
       "        text-align: right;\n",
       "    }\n",
       "\n",
       "    .dataframe thead th {\n",
       "        text-align: left;\n",
       "    }\n",
       "\n",
       "    .dataframe tbody tr th {\n",
       "        vertical-align: top;\n",
       "    }\n",
       "</style>\n",
       "<table border=\"1\" class=\"dataframe\">\n",
       "  <thead>\n",
       "    <tr style=\"text-align: right;\">\n",
       "      <th></th>\n",
       "      <th>YEAR</th>\n",
       "      <th>MONTH</th>\n",
       "      <th>DAY_OF_MONTH</th>\n",
       "      <th>AIR_TIME</th>\n",
       "      <th>DISTANCE</th>\n",
       "      <th>CARRIER_AA</th>\n",
       "      <th>CARRIER_B6</th>\n",
       "      <th>CARRIER_DL</th>\n",
       "      <th>CARRIER_EV</th>\n",
       "      <th>CARRIER_F9</th>\n",
       "      <th>...</th>\n",
       "      <th>FL_NUM_6074</th>\n",
       "      <th>FL_NUM_6082</th>\n",
       "      <th>FL_NUM_6119</th>\n",
       "      <th>FL_NUM_6132</th>\n",
       "      <th>FL_NUM_6153</th>\n",
       "      <th>FL_NUM_6229</th>\n",
       "      <th>FL_NUM_6257</th>\n",
       "      <th>FL_NUM_6275</th>\n",
       "      <th>FL_NUM_6482</th>\n",
       "      <th>FL_NUM_6520</th>\n",
       "    </tr>\n",
       "  </thead>\n",
       "  <tbody>\n",
       "    <tr>\n",
       "      <th>0</th>\n",
       "      <td>2015</td>\n",
       "      <td>5</td>\n",
       "      <td>1</td>\n",
       "      <td>273.0</td>\n",
       "      <td>2248.0</td>\n",
       "      <td>1</td>\n",
       "      <td>0</td>\n",
       "      <td>0</td>\n",
       "      <td>0</td>\n",
       "      <td>0</td>\n",
       "      <td>...</td>\n",
       "      <td>0</td>\n",
       "      <td>0</td>\n",
       "      <td>0</td>\n",
       "      <td>0</td>\n",
       "      <td>0</td>\n",
       "      <td>0</td>\n",
       "      <td>0</td>\n",
       "      <td>0</td>\n",
       "      <td>0</td>\n",
       "      <td>0</td>\n",
       "    </tr>\n",
       "    <tr>\n",
       "      <th>1</th>\n",
       "      <td>2015</td>\n",
       "      <td>5</td>\n",
       "      <td>2</td>\n",
       "      <td>280.0</td>\n",
       "      <td>2248.0</td>\n",
       "      <td>1</td>\n",
       "      <td>0</td>\n",
       "      <td>0</td>\n",
       "      <td>0</td>\n",
       "      <td>0</td>\n",
       "      <td>...</td>\n",
       "      <td>0</td>\n",
       "      <td>0</td>\n",
       "      <td>0</td>\n",
       "      <td>0</td>\n",
       "      <td>0</td>\n",
       "      <td>0</td>\n",
       "      <td>0</td>\n",
       "      <td>0</td>\n",
       "      <td>0</td>\n",
       "      <td>0</td>\n",
       "    </tr>\n",
       "    <tr>\n",
       "      <th>2</th>\n",
       "      <td>2015</td>\n",
       "      <td>5</td>\n",
       "      <td>3</td>\n",
       "      <td>274.0</td>\n",
       "      <td>2248.0</td>\n",
       "      <td>1</td>\n",
       "      <td>0</td>\n",
       "      <td>0</td>\n",
       "      <td>0</td>\n",
       "      <td>0</td>\n",
       "      <td>...</td>\n",
       "      <td>0</td>\n",
       "      <td>0</td>\n",
       "      <td>0</td>\n",
       "      <td>0</td>\n",
       "      <td>0</td>\n",
       "      <td>0</td>\n",
       "      <td>0</td>\n",
       "      <td>0</td>\n",
       "      <td>0</td>\n",
       "      <td>0</td>\n",
       "    </tr>\n",
       "    <tr>\n",
       "      <th>3</th>\n",
       "      <td>2015</td>\n",
       "      <td>5</td>\n",
       "      <td>4</td>\n",
       "      <td>275.0</td>\n",
       "      <td>2248.0</td>\n",
       "      <td>1</td>\n",
       "      <td>0</td>\n",
       "      <td>0</td>\n",
       "      <td>0</td>\n",
       "      <td>0</td>\n",
       "      <td>...</td>\n",
       "      <td>0</td>\n",
       "      <td>0</td>\n",
       "      <td>0</td>\n",
       "      <td>0</td>\n",
       "      <td>0</td>\n",
       "      <td>0</td>\n",
       "      <td>0</td>\n",
       "      <td>0</td>\n",
       "      <td>0</td>\n",
       "      <td>0</td>\n",
       "    </tr>\n",
       "    <tr>\n",
       "      <th>4</th>\n",
       "      <td>2015</td>\n",
       "      <td>5</td>\n",
       "      <td>5</td>\n",
       "      <td>270.0</td>\n",
       "      <td>2248.0</td>\n",
       "      <td>1</td>\n",
       "      <td>0</td>\n",
       "      <td>0</td>\n",
       "      <td>0</td>\n",
       "      <td>0</td>\n",
       "      <td>...</td>\n",
       "      <td>0</td>\n",
       "      <td>0</td>\n",
       "      <td>0</td>\n",
       "      <td>0</td>\n",
       "      <td>0</td>\n",
       "      <td>0</td>\n",
       "      <td>0</td>\n",
       "      <td>0</td>\n",
       "      <td>0</td>\n",
       "      <td>0</td>\n",
       "    </tr>\n",
       "  </tbody>\n",
       "</table>\n",
       "<p>5 rows × 2120 columns</p>\n",
       "</div>"
      ],
      "text/plain": [
       "   YEAR  MONTH  DAY_OF_MONTH  AIR_TIME  DISTANCE  CARRIER_AA  CARRIER_B6  \\\n",
       "0  2015      5             1     273.0    2248.0           1           0   \n",
       "1  2015      5             2     280.0    2248.0           1           0   \n",
       "2  2015      5             3     274.0    2248.0           1           0   \n",
       "3  2015      5             4     275.0    2248.0           1           0   \n",
       "4  2015      5             5     270.0    2248.0           1           0   \n",
       "\n",
       "   CARRIER_DL  CARRIER_EV  CARRIER_F9     ...       FL_NUM_6074  FL_NUM_6082  \\\n",
       "0           0           0           0     ...                 0            0   \n",
       "1           0           0           0     ...                 0            0   \n",
       "2           0           0           0     ...                 0            0   \n",
       "3           0           0           0     ...                 0            0   \n",
       "4           0           0           0     ...                 0            0   \n",
       "\n",
       "   FL_NUM_6119  FL_NUM_6132  FL_NUM_6153  FL_NUM_6229  FL_NUM_6257  \\\n",
       "0            0            0            0            0            0   \n",
       "1            0            0            0            0            0   \n",
       "2            0            0            0            0            0   \n",
       "3            0            0            0            0            0   \n",
       "4            0            0            0            0            0   \n",
       "\n",
       "   FL_NUM_6275  FL_NUM_6482  FL_NUM_6520  \n",
       "0            0            0            0  \n",
       "1            0            0            0  \n",
       "2            0            0            0  \n",
       "3            0            0            0  \n",
       "4            0            0            0  \n",
       "\n",
       "[5 rows x 2120 columns]"
      ]
     },
     "execution_count": 15,
     "metadata": {},
     "output_type": "execute_result"
    }
   ],
   "source": [
    "# Now we have to create a series of dummy variables, \n",
    "# one dummy variable column for each value of each of the origina categorical columns\n",
    "def add_dummy_vars_for_col(df, colname):\n",
    "    dummy_vars = pd.get_dummies(fl[colname], prefix=colname)\n",
    "    return pd.concat([df, dummy_vars], axis=1)\n",
    "\n",
    "fl_input = add_dummy_vars_for_col(fl_input, 'CARRIER')\n",
    "fl_input = add_dummy_vars_for_col(fl_input, 'ORIGIN')\n",
    "fl_input = add_dummy_vars_for_col(fl_input, 'DEST')\n",
    "\n",
    "# Flight number is a number... but it's really categorical.\n",
    "# Flight 45 is not more closely related to flight 60 than flight 200.\n",
    "fl_input = add_dummy_vars_for_col(fl_input, 'FL_NUM')\n",
    "\n",
    "fl_input.head()\n"
   ]
  },
  {
   "cell_type": "code",
   "execution_count": 16,
   "metadata": {},
   "outputs": [
    {
     "data": {
      "text/plain": [
       "(45648, 2120)"
      ]
     },
     "execution_count": 16,
     "metadata": {},
     "output_type": "execute_result"
    }
   ],
   "source": [
    "fl_input.shape"
   ]
  },
  {
   "cell_type": "markdown",
   "metadata": {},
   "source": [
    "### Fitting and testing the tree"
   ]
  },
  {
   "cell_type": "code",
   "execution_count": 17,
   "metadata": {
    "collapsed": true
   },
   "outputs": [],
   "source": [
    "# Put the features and the target column back together so we can split them together into training and test sets\n",
    "feature_cols = list(fl_input.columns)\n",
    "target_col = ['ARR_DELAY']\n",
    "features_and_target = pd.concat([fl_input,fl_output],axis=1)\n",
    "\n"
   ]
  },
  {
   "cell_type": "code",
   "execution_count": 18,
   "metadata": {},
   "outputs": [
    {
     "data": {
      "text/plain": [
       "(45648, 2121)"
      ]
     },
     "execution_count": 18,
     "metadata": {},
     "output_type": "execute_result"
    }
   ],
   "source": [
    "# Finally, need to lose any row that have nulls. Let's keep track of how many\n",
    "features_and_target.shape"
   ]
  },
  {
   "cell_type": "code",
   "execution_count": 19,
   "metadata": {
    "collapsed": true
   },
   "outputs": [],
   "source": [
    "features_and_target = features_and_target.dropna(how='any')"
   ]
  },
  {
   "cell_type": "code",
   "execution_count": 20,
   "metadata": {},
   "outputs": [
    {
     "data": {
      "text/plain": [
       "(44703, 2121)"
      ]
     },
     "execution_count": 20,
     "metadata": {},
     "output_type": "execute_result"
    }
   ],
   "source": [
    "features_and_target.shape"
   ]
  },
  {
   "cell_type": "code",
   "execution_count": 21,
   "metadata": {
    "collapsed": true
   },
   "outputs": [],
   "source": [
    "train, test = train_test_split(features_and_target, test_size=0.2)"
   ]
  },
  {
   "cell_type": "code",
   "execution_count": 22,
   "metadata": {},
   "outputs": [
    {
     "data": {
      "text/plain": [
       "DecisionTreeClassifier(class_weight=None, criterion='gini', max_depth=None,\n",
       "            max_features=None, max_leaf_nodes=None,\n",
       "            min_impurity_decrease=0.0, min_impurity_split=None,\n",
       "            min_samples_leaf=1, min_samples_split=2,\n",
       "            min_weight_fraction_leaf=0.0, presort=False, random_state=None,\n",
       "            splitter='best')"
      ]
     },
     "execution_count": 22,
     "metadata": {},
     "output_type": "execute_result"
    }
   ],
   "source": [
    "# Fit a decision tree to the test data\n",
    "x_train = train[feature_cols].values\n",
    "y_train = train[target_col].values\n",
    "\n",
    "dt = tree.DecisionTreeClassifier()\n",
    "dt.fit(x_train,y_train)"
   ]
  },
  {
   "cell_type": "code",
   "execution_count": 23,
   "metadata": {},
   "outputs": [
    {
     "data": {
      "text/plain": [
       "1.0"
      ]
     },
     "execution_count": 23,
     "metadata": {},
     "output_type": "execute_result"
    }
   ],
   "source": [
    "# Let's see how well it did on the training\n",
    "y_train_pred = dt.predict(x_train)\n",
    "metrics.accuracy_score(y_train_pred, y_train)"
   ]
  },
  {
   "cell_type": "code",
   "execution_count": 24,
   "metadata": {},
   "outputs": [
    {
     "data": {
      "text/plain": [
       "0.69377027178167994"
      ]
     },
     "execution_count": 24,
     "metadata": {},
     "output_type": "execute_result"
    }
   ],
   "source": [
    "# Ok, but seriously, on data it's never seen before?\n",
    "x_test = test[feature_cols].values\n",
    "y_test = test[target_col].values\n",
    "y_test_pred = dt.predict(x_test)\n",
    "metrics.accuracy_score(y_test_pred, y_test)"
   ]
  },
  {
   "cell_type": "code",
   "execution_count": 25,
   "metadata": {},
   "outputs": [
    {
     "data": {
      "text/plain": [
       "array([[5042, 1557],\n",
       "       [1181, 1161]])"
      ]
     },
     "execution_count": 25,
     "metadata": {},
     "output_type": "execute_result"
    }
   ],
   "source": [
    "metrics.confusion_matrix(y_test_pred, y_test)"
   ]
  },
  {
   "cell_type": "markdown",
   "metadata": {},
   "source": [
    "There's a better way of testing the accuracy of a classifier: more reliable and fewer lines of code. The idea is to break the original data into K pieces. Then we build K different classifiers, each of which uses one of the K pieces as test data, while the other K-1 pieces become the training data. Then we average the accuracy from each run. \n",
    "\n",
    "This is called \"cross validation\", and there's a function to do it automatically."
   ]
  },
  {
   "cell_type": "code",
   "execution_count": 26,
   "metadata": {
    "collapsed": true
   },
   "outputs": [],
   "source": [
    "from sklearn.model_selection import cross_val_score\n"
   ]
  },
  {
   "cell_type": "code",
   "execution_count": 27,
   "metadata": {},
   "outputs": [
    {
     "data": {
      "text/plain": [
       "array([ 0.69567163,  0.68963203,  0.46281177,  0.54239374,  0.57237136])"
      ]
     },
     "execution_count": 27,
     "metadata": {},
     "output_type": "execute_result"
    }
   ],
   "source": [
    "my_classifier = tree.DecisionTreeClassifier()\n",
    "scores = cross_val_score(my_classifier, \n",
    "                         features_and_target[feature_cols].values, \n",
    "                         features_and_target[target_col].values,\n",
    "                         cv=5)\n",
    "scores\n"
   ]
  },
  {
   "cell_type": "code",
   "execution_count": 28,
   "metadata": {},
   "outputs": [
    {
     "data": {
      "text/plain": [
       "0.59257610480037293"
      ]
     },
     "execution_count": 28,
     "metadata": {},
     "output_type": "execute_result"
    }
   ],
   "source": [
    "scores.mean()"
   ]
  },
  {
   "cell_type": "markdown",
   "metadata": {},
   "source": [
    "## 2. Classifying text\n",
    "\n",
    "So far, we've classified data points which have binary, numerical, or categorical values. What about classifying text? To do that, first we have to turn the text into vectors. Yup, it's document vector time once more!\n",
    "\n",
    "This code was adapted from a New York Times project to standardize campaign finance data to enable new types of analyses. Specifically, it tries to categorize a free-form occupation/employer string into a discrete job category (for example, the strings \"LAWYER\" and \"ATTORNEY\" would both be categorized under \"LAW\"). \n",
    "\n",
    "This classifier uses one-letter category codes (e.g. \"L\" for \"law\") which are specifically designed for analyzing campaign finance donations, and are maintained by the Center for Responsive Politics. Full documentation [here](https://www.opensecrets.org/resources/ftm/ch12p1.php).\n",
    "\n",
    "This section of the notebook was adapted from the [2015 version](https://github.com/datapolitan/lede_algorithms/blob/master/class2_1/EDA_Review.ipynb) of this course by Chase Davis and Richard Dunks, with grateful permission.\n"
   ]
  },
  {
   "cell_type": "code",
   "execution_count": 29,
   "metadata": {
    "collapsed": true
   },
   "outputs": [],
   "source": [
    "import csv, re, string\n",
    "from sklearn.linear_model import LogisticRegression\n",
    "from sklearn.feature_extraction.text import CountVectorizer\n",
    "from sklearn.pipeline import Pipeline"
   ]
  },
  {
   "cell_type": "code",
   "execution_count": 30,
   "metadata": {
    "collapsed": true
   },
   "outputs": [],
   "source": [
    "# Some basic setup for data-cleaning purposes\n",
    "punctuation = re.compile('[' + re.escape(string.punctuation) + ']' )\n",
    "valid_occupation_codes = ['A', 'B', 'C', 'D', 'E', 'F', 'G', 'H', 'J', 'K', 'L', 'M', 'T', 'X', 'Z']"
   ]
  },
  {
   "cell_type": "code",
   "execution_count": 31,
   "metadata": {},
   "outputs": [
    {
     "data": {
      "text/html": [
       "<div>\n",
       "<style>\n",
       "    .dataframe thead tr:only-child th {\n",
       "        text-align: right;\n",
       "    }\n",
       "\n",
       "    .dataframe thead th {\n",
       "        text-align: left;\n",
       "    }\n",
       "\n",
       "    .dataframe tbody tr th {\n",
       "        vertical-align: top;\n",
       "    }\n",
       "</style>\n",
       "<table border=\"1\" class=\"dataframe\">\n",
       "  <thead>\n",
       "    <tr style=\"text-align: right;\">\n",
       "      <th></th>\n",
       "      <th>Title</th>\n",
       "      <th>Employer</th>\n",
       "      <th>Code</th>\n",
       "    </tr>\n",
       "  </thead>\n",
       "  <tbody>\n",
       "    <tr>\n",
       "      <th>0</th>\n",
       "      <td>Owner</td>\n",
       "      <td>First Priority Title Llc</td>\n",
       "      <td>F4300</td>\n",
       "    </tr>\n",
       "    <tr>\n",
       "      <th>1</th>\n",
       "      <td>SENIOR PARTNER</td>\n",
       "      <td>ARES MANAGEMENT</td>\n",
       "      <td>Z9500</td>\n",
       "    </tr>\n",
       "    <tr>\n",
       "      <th>2</th>\n",
       "      <td>CEO</td>\n",
       "      <td>HB AGENCY</td>\n",
       "      <td>Z9500</td>\n",
       "    </tr>\n",
       "    <tr>\n",
       "      <th>3</th>\n",
       "      <td>AKERS &amp; ARMEY INSURANCE</td>\n",
       "      <td>NaN</td>\n",
       "      <td>F3100</td>\n",
       "    </tr>\n",
       "    <tr>\n",
       "      <th>4</th>\n",
       "      <td>OWNER</td>\n",
       "      <td>OPTIONCARE</td>\n",
       "      <td>Y4000</td>\n",
       "    </tr>\n",
       "  </tbody>\n",
       "</table>\n",
       "</div>"
      ],
      "text/plain": [
       "                     Title                  Employer   Code\n",
       "0                    Owner  First Priority Title Llc  F4300\n",
       "1           SENIOR PARTNER           ARES MANAGEMENT  Z9500\n",
       "2                      CEO                 HB AGENCY  Z9500\n",
       "3  AKERS & ARMEY INSURANCE                       NaN  F3100\n",
       "4                    OWNER                OPTIONCARE  Y4000"
      ]
     },
     "execution_count": 31,
     "metadata": {},
     "output_type": "execute_result"
    }
   ],
   "source": [
    "# Load the training data. The goal is to predict the first letter of the occupation code\n",
    "df = pd.read_csv('category-training.csv',names=['Title','Employer','Code'])\n",
    "df.head()"
   ]
  },
  {
   "cell_type": "code",
   "execution_count": 32,
   "metadata": {},
   "outputs": [
    {
     "data": {
      "text/html": [
       "<div>\n",
       "<style>\n",
       "    .dataframe thead tr:only-child th {\n",
       "        text-align: right;\n",
       "    }\n",
       "\n",
       "    .dataframe thead th {\n",
       "        text-align: left;\n",
       "    }\n",
       "\n",
       "    .dataframe tbody tr th {\n",
       "        vertical-align: top;\n",
       "    }\n",
       "</style>\n",
       "<table border=\"1\" class=\"dataframe\">\n",
       "  <thead>\n",
       "    <tr style=\"text-align: right;\">\n",
       "      <th></th>\n",
       "      <th>Title</th>\n",
       "      <th>Employer</th>\n",
       "      <th>Code</th>\n",
       "      <th>text</th>\n",
       "    </tr>\n",
       "  </thead>\n",
       "  <tbody>\n",
       "    <tr>\n",
       "      <th>0</th>\n",
       "      <td>Owner</td>\n",
       "      <td>First Priority Title Llc</td>\n",
       "      <td>F4300</td>\n",
       "      <td>Owner First Priority Title Llc</td>\n",
       "    </tr>\n",
       "    <tr>\n",
       "      <th>1</th>\n",
       "      <td>SENIOR PARTNER</td>\n",
       "      <td>ARES MANAGEMENT</td>\n",
       "      <td>Z9500</td>\n",
       "      <td>SENIOR PARTNER ARES MANAGEMENT</td>\n",
       "    </tr>\n",
       "    <tr>\n",
       "      <th>2</th>\n",
       "      <td>CEO</td>\n",
       "      <td>HB AGENCY</td>\n",
       "      <td>Z9500</td>\n",
       "      <td>CEO HB AGENCY</td>\n",
       "    </tr>\n",
       "    <tr>\n",
       "      <th>3</th>\n",
       "      <td>AKERS &amp; ARMEY INSURANCE</td>\n",
       "      <td>NaN</td>\n",
       "      <td>F3100</td>\n",
       "      <td>NaN</td>\n",
       "    </tr>\n",
       "    <tr>\n",
       "      <th>4</th>\n",
       "      <td>OWNER</td>\n",
       "      <td>OPTIONCARE</td>\n",
       "      <td>Y4000</td>\n",
       "      <td>OWNER OPTIONCARE</td>\n",
       "    </tr>\n",
       "    <tr>\n",
       "      <th>5</th>\n",
       "      <td>VI</td>\n",
       "      <td>NATIONAL COUNCIL OF JEWISH WOMEN</td>\n",
       "      <td>J5100</td>\n",
       "      <td>VI NATIONAL COUNCIL OF JEWISH WOMEN</td>\n",
       "    </tr>\n",
       "    <tr>\n",
       "      <th>6</th>\n",
       "      <td>AESTHETIC &amp; RECONSTRUCTIV</td>\n",
       "      <td>NaN</td>\n",
       "      <td>H1000</td>\n",
       "      <td>NaN</td>\n",
       "    </tr>\n",
       "    <tr>\n",
       "      <th>7</th>\n",
       "      <td>MINER</td>\n",
       "      <td>MCCOY ELKHORN COAL CORPORATION</td>\n",
       "      <td>E1210</td>\n",
       "      <td>MINER MCCOY ELKHORN COAL CORPORATION</td>\n",
       "    </tr>\n",
       "    <tr>\n",
       "      <th>8</th>\n",
       "      <td>VICE PRESIDENT</td>\n",
       "      <td>BAYSTATE HEALTH</td>\n",
       "      <td>H0000</td>\n",
       "      <td>VICE PRESIDENT BAYSTATE HEALTH</td>\n",
       "    </tr>\n",
       "    <tr>\n",
       "      <th>9</th>\n",
       "      <td>CHIEF EXEC OFF</td>\n",
       "      <td>LARTA INST/CHIEF EXEC OFF</td>\n",
       "      <td>Y4000</td>\n",
       "      <td>CHIEF EXEC OFF LARTA INST CHIEF EXEC OFF</td>\n",
       "    </tr>\n",
       "  </tbody>\n",
       "</table>\n",
       "</div>"
      ],
      "text/plain": [
       "                       Title                          Employer   Code  \\\n",
       "0                      Owner          First Priority Title Llc  F4300   \n",
       "1             SENIOR PARTNER                   ARES MANAGEMENT  Z9500   \n",
       "2                        CEO                         HB AGENCY  Z9500   \n",
       "3    AKERS & ARMEY INSURANCE                               NaN  F3100   \n",
       "4                      OWNER                        OPTIONCARE  Y4000   \n",
       "5                         VI  NATIONAL COUNCIL OF JEWISH WOMEN  J5100   \n",
       "6  AESTHETIC & RECONSTRUCTIV                               NaN  H1000   \n",
       "7                      MINER    MCCOY ELKHORN COAL CORPORATION  E1210   \n",
       "8             VICE PRESIDENT                   BAYSTATE HEALTH  H0000   \n",
       "9             CHIEF EXEC OFF         LARTA INST/CHIEF EXEC OFF  Y4000   \n",
       "\n",
       "                                       text  \n",
       "0            Owner First Priority Title Llc  \n",
       "1            SENIOR PARTNER ARES MANAGEMENT  \n",
       "2                             CEO HB AGENCY  \n",
       "3                                       NaN  \n",
       "4                          OWNER OPTIONCARE  \n",
       "5       VI NATIONAL COUNCIL OF JEWISH WOMEN  \n",
       "6                                       NaN  \n",
       "7      MINER MCCOY ELKHORN COAL CORPORATION  \n",
       "8            VICE PRESIDENT BAYSTATE HEALTH  \n",
       "9  CHIEF EXEC OFF LARTA INST CHIEF EXEC OFF  "
      ]
     },
     "execution_count": 32,
     "metadata": {},
     "output_type": "execute_result"
    }
   ],
   "source": [
    "# Concatenate the occupation and employer strings together and remove punctuation. \n",
    "# Both together will be used in prediction\n",
    "df['text'] = df['Title'] + ' ' + df['Employer']\n",
    "df['text'] = df['text'].str.replace(punctuation, ' ')  # replace punctuation with spaces to preserve word boundaries\n",
    "df.head(10)"
   ]
  },
  {
   "cell_type": "code",
   "execution_count": 33,
   "metadata": {
    "collapsed": true
   },
   "outputs": [],
   "source": [
    "# Take only the first letter of the occupation code as the prediction target\n",
    "df['target'] = df['Code'].str[0]"
   ]
  },
  {
   "cell_type": "code",
   "execution_count": 34,
   "metadata": {},
   "outputs": [
    {
     "data": {
      "text/html": [
       "<div>\n",
       "<style>\n",
       "    .dataframe thead tr:only-child th {\n",
       "        text-align: right;\n",
       "    }\n",
       "\n",
       "    .dataframe thead th {\n",
       "        text-align: left;\n",
       "    }\n",
       "\n",
       "    .dataframe tbody tr th {\n",
       "        vertical-align: top;\n",
       "    }\n",
       "</style>\n",
       "<table border=\"1\" class=\"dataframe\">\n",
       "  <thead>\n",
       "    <tr style=\"text-align: right;\">\n",
       "      <th></th>\n",
       "      <th>Title</th>\n",
       "      <th>Employer</th>\n",
       "      <th>Code</th>\n",
       "      <th>text</th>\n",
       "      <th>target</th>\n",
       "    </tr>\n",
       "  </thead>\n",
       "  <tbody>\n",
       "    <tr>\n",
       "      <th>0</th>\n",
       "      <td>Owner</td>\n",
       "      <td>First Priority Title Llc</td>\n",
       "      <td>F4300</td>\n",
       "      <td>Owner First Priority Title Llc</td>\n",
       "      <td>F</td>\n",
       "    </tr>\n",
       "    <tr>\n",
       "      <th>1</th>\n",
       "      <td>SENIOR PARTNER</td>\n",
       "      <td>ARES MANAGEMENT</td>\n",
       "      <td>Z9500</td>\n",
       "      <td>SENIOR PARTNER ARES MANAGEMENT</td>\n",
       "      <td>Z</td>\n",
       "    </tr>\n",
       "    <tr>\n",
       "      <th>2</th>\n",
       "      <td>CEO</td>\n",
       "      <td>HB AGENCY</td>\n",
       "      <td>Z9500</td>\n",
       "      <td>CEO HB AGENCY</td>\n",
       "      <td>Z</td>\n",
       "    </tr>\n",
       "    <tr>\n",
       "      <th>3</th>\n",
       "      <td>AKERS &amp; ARMEY INSURANCE</td>\n",
       "      <td>NaN</td>\n",
       "      <td>F3100</td>\n",
       "      <td>NaN</td>\n",
       "      <td>F</td>\n",
       "    </tr>\n",
       "    <tr>\n",
       "      <th>4</th>\n",
       "      <td>OWNER</td>\n",
       "      <td>OPTIONCARE</td>\n",
       "      <td>Y4000</td>\n",
       "      <td>OWNER OPTIONCARE</td>\n",
       "      <td>Y</td>\n",
       "    </tr>\n",
       "  </tbody>\n",
       "</table>\n",
       "</div>"
      ],
      "text/plain": [
       "                     Title                  Employer   Code  \\\n",
       "0                    Owner  First Priority Title Llc  F4300   \n",
       "1           SENIOR PARTNER           ARES MANAGEMENT  Z9500   \n",
       "2                      CEO                 HB AGENCY  Z9500   \n",
       "3  AKERS & ARMEY INSURANCE                       NaN  F3100   \n",
       "4                    OWNER                OPTIONCARE  Y4000   \n",
       "\n",
       "                             text target  \n",
       "0  Owner First Priority Title Llc      F  \n",
       "1  SENIOR PARTNER ARES MANAGEMENT      Z  \n",
       "2                   CEO HB AGENCY      Z  \n",
       "3                             NaN      F  \n",
       "4                OWNER OPTIONCARE      Y  "
      ]
     },
     "execution_count": 34,
     "metadata": {},
     "output_type": "execute_result"
    }
   ],
   "source": [
    "df.head()"
   ]
  },
  {
   "cell_type": "code",
   "execution_count": 35,
   "metadata": {},
   "outputs": [
    {
     "data": {
      "text/plain": [
       "24190"
      ]
     },
     "execution_count": 35,
     "metadata": {},
     "output_type": "execute_result"
    }
   ],
   "source": [
    "# We still have lots of empty text fields though\n",
    "df.text.isnull().sum()"
   ]
  },
  {
   "cell_type": "code",
   "execution_count": 36,
   "metadata": {},
   "outputs": [
    {
     "data": {
      "text/plain": [
       "75810"
      ]
     },
     "execution_count": 36,
     "metadata": {},
     "output_type": "execute_result"
    }
   ],
   "source": [
    "df.dropna(how='any', inplace=True)\n",
    "len(df)"
   ]
  },
  {
   "cell_type": "code",
   "execution_count": 37,
   "metadata": {},
   "outputs": [
    {
     "data": {
      "text/plain": [
       "20000"
      ]
     },
     "execution_count": 37,
     "metadata": {},
     "output_type": "execute_result"
    }
   ],
   "source": [
    "# My notebook keeps crashing, so I'm going to take only 20,000 rows\n",
    "df = df.sample(20000).reset_index(drop=True)\n",
    "len(df)"
   ]
  },
  {
   "cell_type": "markdown",
   "metadata": {},
   "source": [
    "### Document vectors, again\n",
    "We now have our text and the training labels. From here we need to turn that text into features... remember document vectors? But fun fact: the CountVectorizer (and TfIdfVectorizer) don't actually need a separate tokenizer. It's super simple to do quick and dirty document vectors.\n",
    "\n",
    "We're also going to use the `min_df=2` option which means: throw out any word that doesn't appear in at least two documents. This will cut down the number of features by a factor of three, and generally speed up this slow notebook."
   ]
  },
  {
   "cell_type": "code",
   "execution_count": 38,
   "metadata": {
    "collapsed": true
   },
   "outputs": [],
   "source": [
    "from sklearn.feature_extraction.text import CountVectorizer"
   ]
  },
  {
   "cell_type": "code",
   "execution_count": 55,
   "metadata": {
    "collapsed": true
   },
   "outputs": [],
   "source": [
    "# Make our training data into vectors!\n",
    "vectorizer = CountVectorizer(stop_words='english', min_df=2)\n",
    "matrix = vectorizer.fit_transform(df.text)"
   ]
  },
  {
   "cell_type": "code",
   "execution_count": 56,
   "metadata": {},
   "outputs": [
    {
     "data": {
      "text/plain": [
       "['10',\n",
       " '11',\n",
       " '13',\n",
       " '1st',\n",
       " '2000',\n",
       " '2004',\n",
       " '2012',\n",
       " '20th',\n",
       " '21',\n",
       " '21st',\n",
       " '22',\n",
       " '2nd',\n",
       " '360',\n",
       " '3m',\n",
       " '3rd',\n",
       " '47',\n",
       " '800',\n",
       " '95',\n",
       " 'aaa',\n",
       " 'aaron']"
      ]
     },
     "execution_count": 56,
     "metadata": {},
     "output_type": "execute_result"
    }
   ],
   "source": [
    "vectorizer.get_feature_names()[:20]"
   ]
  },
  {
   "cell_type": "code",
   "execution_count": 57,
   "metadata": {
    "scrolled": true
   },
   "outputs": [
    {
     "data": {
      "text/html": [
       "<div>\n",
       "<style>\n",
       "    .dataframe thead tr:only-child th {\n",
       "        text-align: right;\n",
       "    }\n",
       "\n",
       "    .dataframe thead th {\n",
       "        text-align: left;\n",
       "    }\n",
       "\n",
       "    .dataframe tbody tr th {\n",
       "        vertical-align: top;\n",
       "    }\n",
       "</style>\n",
       "<table border=\"1\" class=\"dataframe\">\n",
       "  <thead>\n",
       "    <tr style=\"text-align: right;\">\n",
       "      <th></th>\n",
       "      <th>10</th>\n",
       "      <th>11</th>\n",
       "      <th>13</th>\n",
       "      <th>1st</th>\n",
       "      <th>2000</th>\n",
       "      <th>2004</th>\n",
       "      <th>2012</th>\n",
       "      <th>20th</th>\n",
       "      <th>21</th>\n",
       "      <th>21st</th>\n",
       "      <th>...</th>\n",
       "      <th>zachry</th>\n",
       "      <th>zack</th>\n",
       "      <th>zc</th>\n",
       "      <th>zetlin</th>\n",
       "      <th>ziegler</th>\n",
       "      <th>zimmerman</th>\n",
       "      <th>zook</th>\n",
       "      <th>zuckerman</th>\n",
       "      <th>zurich</th>\n",
       "      <th>zwirn</th>\n",
       "    </tr>\n",
       "  </thead>\n",
       "  <tbody>\n",
       "    <tr>\n",
       "      <th>0</th>\n",
       "      <td>0</td>\n",
       "      <td>0</td>\n",
       "      <td>0</td>\n",
       "      <td>0</td>\n",
       "      <td>0</td>\n",
       "      <td>0</td>\n",
       "      <td>0</td>\n",
       "      <td>0</td>\n",
       "      <td>0</td>\n",
       "      <td>0</td>\n",
       "      <td>...</td>\n",
       "      <td>0</td>\n",
       "      <td>0</td>\n",
       "      <td>0</td>\n",
       "      <td>0</td>\n",
       "      <td>0</td>\n",
       "      <td>0</td>\n",
       "      <td>0</td>\n",
       "      <td>0</td>\n",
       "      <td>0</td>\n",
       "      <td>0</td>\n",
       "    </tr>\n",
       "    <tr>\n",
       "      <th>1</th>\n",
       "      <td>0</td>\n",
       "      <td>0</td>\n",
       "      <td>0</td>\n",
       "      <td>0</td>\n",
       "      <td>0</td>\n",
       "      <td>0</td>\n",
       "      <td>0</td>\n",
       "      <td>0</td>\n",
       "      <td>0</td>\n",
       "      <td>0</td>\n",
       "      <td>...</td>\n",
       "      <td>0</td>\n",
       "      <td>0</td>\n",
       "      <td>0</td>\n",
       "      <td>0</td>\n",
       "      <td>0</td>\n",
       "      <td>0</td>\n",
       "      <td>0</td>\n",
       "      <td>0</td>\n",
       "      <td>0</td>\n",
       "      <td>0</td>\n",
       "    </tr>\n",
       "    <tr>\n",
       "      <th>2</th>\n",
       "      <td>0</td>\n",
       "      <td>0</td>\n",
       "      <td>0</td>\n",
       "      <td>0</td>\n",
       "      <td>0</td>\n",
       "      <td>0</td>\n",
       "      <td>0</td>\n",
       "      <td>0</td>\n",
       "      <td>0</td>\n",
       "      <td>0</td>\n",
       "      <td>...</td>\n",
       "      <td>0</td>\n",
       "      <td>0</td>\n",
       "      <td>0</td>\n",
       "      <td>0</td>\n",
       "      <td>0</td>\n",
       "      <td>0</td>\n",
       "      <td>0</td>\n",
       "      <td>0</td>\n",
       "      <td>0</td>\n",
       "      <td>0</td>\n",
       "    </tr>\n",
       "    <tr>\n",
       "      <th>3</th>\n",
       "      <td>0</td>\n",
       "      <td>0</td>\n",
       "      <td>0</td>\n",
       "      <td>0</td>\n",
       "      <td>0</td>\n",
       "      <td>0</td>\n",
       "      <td>0</td>\n",
       "      <td>0</td>\n",
       "      <td>0</td>\n",
       "      <td>0</td>\n",
       "      <td>...</td>\n",
       "      <td>0</td>\n",
       "      <td>0</td>\n",
       "      <td>0</td>\n",
       "      <td>0</td>\n",
       "      <td>0</td>\n",
       "      <td>0</td>\n",
       "      <td>0</td>\n",
       "      <td>0</td>\n",
       "      <td>0</td>\n",
       "      <td>0</td>\n",
       "    </tr>\n",
       "    <tr>\n",
       "      <th>4</th>\n",
       "      <td>0</td>\n",
       "      <td>0</td>\n",
       "      <td>0</td>\n",
       "      <td>0</td>\n",
       "      <td>0</td>\n",
       "      <td>0</td>\n",
       "      <td>0</td>\n",
       "      <td>0</td>\n",
       "      <td>0</td>\n",
       "      <td>0</td>\n",
       "      <td>...</td>\n",
       "      <td>0</td>\n",
       "      <td>0</td>\n",
       "      <td>0</td>\n",
       "      <td>0</td>\n",
       "      <td>0</td>\n",
       "      <td>0</td>\n",
       "      <td>0</td>\n",
       "      <td>0</td>\n",
       "      <td>0</td>\n",
       "      <td>0</td>\n",
       "    </tr>\n",
       "  </tbody>\n",
       "</table>\n",
       "<p>5 rows × 5393 columns</p>\n",
       "</div>"
      ],
      "text/plain": [
       "   10  11  13  1st  2000  2004  2012  20th  21  21st  ...    zachry  zack  zc  \\\n",
       "0   0   0   0    0     0     0     0     0   0     0  ...         0     0   0   \n",
       "1   0   0   0    0     0     0     0     0   0     0  ...         0     0   0   \n",
       "2   0   0   0    0     0     0     0     0   0     0  ...         0     0   0   \n",
       "3   0   0   0    0     0     0     0     0   0     0  ...         0     0   0   \n",
       "4   0   0   0    0     0     0     0     0   0     0  ...         0     0   0   \n",
       "\n",
       "   zetlin  ziegler  zimmerman  zook  zuckerman  zurich  zwirn  \n",
       "0       0        0          0     0          0       0      0  \n",
       "1       0        0          0     0          0       0      0  \n",
       "2       0        0          0     0          0       0      0  \n",
       "3       0        0          0     0          0       0      0  \n",
       "4       0        0          0     0          0       0      0  \n",
       "\n",
       "[5 rows x 5393 columns]"
      ]
     },
     "execution_count": 57,
     "metadata": {},
     "output_type": "execute_result"
    }
   ],
   "source": [
    "# Here are the actual document vectors. Because the \"documents\" are so short, almost every element is zero.\n",
    "vectors = pd.DataFrame(matrix.toarray(), columns=vectorizer.get_feature_names())\n",
    "vectors.head()"
   ]
  },
  {
   "cell_type": "markdown",
   "metadata": {},
   "source": [
    "### Using a decision tree for text classification\n",
    "This goes pretty much as we've done it before. Really most of the work is data wrangling."
   ]
  },
  {
   "cell_type": "code",
   "execution_count": 58,
   "metadata": {},
   "outputs": [
    {
     "data": {
      "text/html": [
       "<div>\n",
       "<style>\n",
       "    .dataframe thead tr:only-child th {\n",
       "        text-align: right;\n",
       "    }\n",
       "\n",
       "    .dataframe thead th {\n",
       "        text-align: left;\n",
       "    }\n",
       "\n",
       "    .dataframe tbody tr th {\n",
       "        vertical-align: top;\n",
       "    }\n",
       "</style>\n",
       "<table border=\"1\" class=\"dataframe\">\n",
       "  <thead>\n",
       "    <tr style=\"text-align: right;\">\n",
       "      <th></th>\n",
       "      <th>target</th>\n",
       "      <th>10</th>\n",
       "      <th>11</th>\n",
       "      <th>13</th>\n",
       "      <th>1st</th>\n",
       "      <th>2000</th>\n",
       "      <th>2004</th>\n",
       "      <th>2012</th>\n",
       "      <th>20th</th>\n",
       "      <th>21</th>\n",
       "      <th>...</th>\n",
       "      <th>zachry</th>\n",
       "      <th>zack</th>\n",
       "      <th>zc</th>\n",
       "      <th>zetlin</th>\n",
       "      <th>ziegler</th>\n",
       "      <th>zimmerman</th>\n",
       "      <th>zook</th>\n",
       "      <th>zuckerman</th>\n",
       "      <th>zurich</th>\n",
       "      <th>zwirn</th>\n",
       "    </tr>\n",
       "  </thead>\n",
       "  <tbody>\n",
       "    <tr>\n",
       "      <th>0</th>\n",
       "      <td>X</td>\n",
       "      <td>0</td>\n",
       "      <td>0</td>\n",
       "      <td>0</td>\n",
       "      <td>0</td>\n",
       "      <td>0</td>\n",
       "      <td>0</td>\n",
       "      <td>0</td>\n",
       "      <td>0</td>\n",
       "      <td>0</td>\n",
       "      <td>...</td>\n",
       "      <td>0</td>\n",
       "      <td>0</td>\n",
       "      <td>0</td>\n",
       "      <td>0</td>\n",
       "      <td>0</td>\n",
       "      <td>0</td>\n",
       "      <td>0</td>\n",
       "      <td>0</td>\n",
       "      <td>0</td>\n",
       "      <td>0</td>\n",
       "    </tr>\n",
       "    <tr>\n",
       "      <th>1</th>\n",
       "      <td>Y</td>\n",
       "      <td>0</td>\n",
       "      <td>0</td>\n",
       "      <td>0</td>\n",
       "      <td>0</td>\n",
       "      <td>0</td>\n",
       "      <td>0</td>\n",
       "      <td>0</td>\n",
       "      <td>0</td>\n",
       "      <td>0</td>\n",
       "      <td>...</td>\n",
       "      <td>0</td>\n",
       "      <td>0</td>\n",
       "      <td>0</td>\n",
       "      <td>0</td>\n",
       "      <td>0</td>\n",
       "      <td>0</td>\n",
       "      <td>0</td>\n",
       "      <td>0</td>\n",
       "      <td>0</td>\n",
       "      <td>0</td>\n",
       "    </tr>\n",
       "    <tr>\n",
       "      <th>2</th>\n",
       "      <td>B</td>\n",
       "      <td>0</td>\n",
       "      <td>0</td>\n",
       "      <td>0</td>\n",
       "      <td>0</td>\n",
       "      <td>0</td>\n",
       "      <td>0</td>\n",
       "      <td>0</td>\n",
       "      <td>0</td>\n",
       "      <td>0</td>\n",
       "      <td>...</td>\n",
       "      <td>0</td>\n",
       "      <td>0</td>\n",
       "      <td>0</td>\n",
       "      <td>0</td>\n",
       "      <td>0</td>\n",
       "      <td>0</td>\n",
       "      <td>0</td>\n",
       "      <td>0</td>\n",
       "      <td>0</td>\n",
       "      <td>0</td>\n",
       "    </tr>\n",
       "    <tr>\n",
       "      <th>3</th>\n",
       "      <td>Y</td>\n",
       "      <td>0</td>\n",
       "      <td>0</td>\n",
       "      <td>0</td>\n",
       "      <td>0</td>\n",
       "      <td>0</td>\n",
       "      <td>0</td>\n",
       "      <td>0</td>\n",
       "      <td>0</td>\n",
       "      <td>0</td>\n",
       "      <td>...</td>\n",
       "      <td>0</td>\n",
       "      <td>0</td>\n",
       "      <td>0</td>\n",
       "      <td>0</td>\n",
       "      <td>0</td>\n",
       "      <td>0</td>\n",
       "      <td>0</td>\n",
       "      <td>0</td>\n",
       "      <td>0</td>\n",
       "      <td>0</td>\n",
       "    </tr>\n",
       "    <tr>\n",
       "      <th>4</th>\n",
       "      <td>X</td>\n",
       "      <td>0</td>\n",
       "      <td>0</td>\n",
       "      <td>0</td>\n",
       "      <td>0</td>\n",
       "      <td>0</td>\n",
       "      <td>0</td>\n",
       "      <td>0</td>\n",
       "      <td>0</td>\n",
       "      <td>0</td>\n",
       "      <td>...</td>\n",
       "      <td>0</td>\n",
       "      <td>0</td>\n",
       "      <td>0</td>\n",
       "      <td>0</td>\n",
       "      <td>0</td>\n",
       "      <td>0</td>\n",
       "      <td>0</td>\n",
       "      <td>0</td>\n",
       "      <td>0</td>\n",
       "      <td>0</td>\n",
       "    </tr>\n",
       "  </tbody>\n",
       "</table>\n",
       "<p>5 rows × 5394 columns</p>\n",
       "</div>"
      ],
      "text/plain": [
       "  target  10  11  13  1st  2000  2004  2012  20th  21  ...    zachry  zack  \\\n",
       "0      X   0   0   0    0     0     0     0     0   0  ...         0     0   \n",
       "1      Y   0   0   0    0     0     0     0     0   0  ...         0     0   \n",
       "2      B   0   0   0    0     0     0     0     0   0  ...         0     0   \n",
       "3      Y   0   0   0    0     0     0     0     0   0  ...         0     0   \n",
       "4      X   0   0   0    0     0     0     0     0   0  ...         0     0   \n",
       "\n",
       "   zc  zetlin  ziegler  zimmerman  zook  zuckerman  zurich  zwirn  \n",
       "0   0       0        0          0     0          0       0      0  \n",
       "1   0       0        0          0     0          0       0      0  \n",
       "2   0       0        0          0     0          0       0      0  \n",
       "3   0       0        0          0     0          0       0      0  \n",
       "4   0       0        0          0     0          0       0      0  \n",
       "\n",
       "[5 rows x 5394 columns]"
      ]
     },
     "execution_count": 58,
     "metadata": {},
     "output_type": "execute_result"
    }
   ],
   "source": [
    "# Glue the occupation codes back together with the document vectors, into one dataframe\n",
    "features_and_target = pd.concat([df.target, vectors],axis=1)\n",
    "features_and_target.head()"
   ]
  },
  {
   "cell_type": "code",
   "execution_count": 59,
   "metadata": {
    "collapsed": true
   },
   "outputs": [],
   "source": [
    "# Split off some test data\n",
    "train, test = train_test_split(features_and_target, test_size=0.2)"
   ]
  },
  {
   "cell_type": "code",
   "execution_count": 60,
   "metadata": {},
   "outputs": [
    {
     "data": {
      "text/plain": [
       "DecisionTreeClassifier(class_weight=None, criterion='gini', max_depth=None,\n",
       "            max_features=None, max_leaf_nodes=None,\n",
       "            min_impurity_decrease=0.0, min_impurity_split=None,\n",
       "            min_samples_leaf=1, min_samples_split=2,\n",
       "            min_weight_fraction_leaf=0.0, presort=False, random_state=None,\n",
       "            splitter='best')"
      ]
     },
     "execution_count": 60,
     "metadata": {},
     "output_type": "execute_result"
    }
   ],
   "source": [
    "# Build a decision tree on the training data\n",
    "# Normally we would use \n",
    "#  train.drop('target', axis=1).values\n",
    "#  train[['target']].values \n",
    "# But 'target' is also a feature name, because it appears in the bill titles! So we just use direct numeric indexing \n",
    "x_train = train.iloc[:,1:].values\n",
    "y_train = train.iloc[:,0].values\n",
    "\n",
    "dt = tree.DecisionTreeClassifier()\n",
    "dt.fit(x_train,y_train)"
   ]
  },
  {
   "cell_type": "code",
   "execution_count": 61,
   "metadata": {},
   "outputs": [
    {
     "data": {
      "text/plain": [
       "0.45650000000000002"
      ]
     },
     "execution_count": 61,
     "metadata": {},
     "output_type": "execute_result"
    }
   ],
   "source": [
    "# We're only going to test how well it did out-of-sample, because the in-sample result will always be nearly perfect\n",
    "x_test = test.iloc[:,1:].values\n",
    "y_test = test.iloc[:,0].values\n",
    "y_test_pred = dt.predict(x_test)\n",
    "metrics.accuracy_score(y_test_pred, y_test)"
   ]
  },
  {
   "cell_type": "markdown",
   "metadata": {},
   "source": [
    "This is really not very good accuracy, less than 50%. To see if we can do better, first let's look at the confusion matrix to see where it got confused."
   ]
  },
  {
   "cell_type": "code",
   "execution_count": 62,
   "metadata": {},
   "outputs": [
    {
     "data": {
      "text/plain": [
       "array([[ 26,   0,   1,   0,   0,   4,   5,   0,   4,   1,   0,   2,   0,\n",
       "          0,  10,   0],\n",
       "       [  1,  77,   4,   0,   5,   6,   4,   0,   5,   0,   1,   0,   1,\n",
       "          3,  28,   4],\n",
       "       [  1,   6,  50,   4,   2,  11,   9,   6,   8,   2,   0,   2,   3,\n",
       "          4,  27,   6],\n",
       "       [  0,   3,   2,   0,   0,   1,   2,   0,   1,   0,   0,   0,   1,\n",
       "          0,   4,   0],\n",
       "       [  2,   0,   1,   0,  43,   2,   2,   0,   3,   1,   0,   0,   3,\n",
       "          0,  13,   2],\n",
       "       [  2,  10,   5,   0,   6, 289,  17,  17,  35,  11,   1,   4,   7,\n",
       "          5, 113,  10],\n",
       "       [  6,   1,   5,   2,   2,  10,  71,   6,  16,   6,   0,   6,   4,\n",
       "          3,  67,   4],\n",
       "       [  2,   4,   2,   0,   1,   5,   7, 225,  25,   3,   1,   0,   4,\n",
       "          4,  58,  17],\n",
       "       [  3,   2,  11,   0,   1,  26,   6,  15,  19,  10,   1,   3,   3,\n",
       "          3,  53,   6],\n",
       "       [  0,   3,   6,   1,   4,   7,   5,   1,  22, 149,   0,   1,   0,\n",
       "          2,  76,  10],\n",
       "       [  1,   0,   0,   0,   0,   0,   0,   0,   2,   0,   3,   0,   0,\n",
       "          2,   3,   0],\n",
       "       [  0,   2,   3,   1,   2,   5,   3,   1,   1,   0,   1,   9,   1,\n",
       "          0,  16,   0],\n",
       "       [  0,   1,   0,   2,   0,   4,   6,   0,   5,   0,   1,   1,  42,\n",
       "          2,  14,   1],\n",
       "       [  0,   0,   0,   0,   0,   5,   4,   5,  13,   0,   1,   0,   2,\n",
       "         89,  35,   5],\n",
       "       [ 21,  68,  74,  11,  36, 153,  98, 118, 114,  69,  12,  32,  28,\n",
       "         38, 729,  35],\n",
       "       [  0,   0,   1,   0,   3,  15,   6,   9,   9,  17,   0,   4,   1,\n",
       "          5,  28,   5]])"
      ]
     },
     "execution_count": 62,
     "metadata": {},
     "output_type": "execute_result"
    }
   ],
   "source": [
    "metrics.confusion_matrix(y_test_pred, y_test)"
   ]
  },
  {
   "cell_type": "markdown",
   "metadata": {},
   "source": [
    "Not very helpful. We need to handle our categorical target variable better."
   ]
  },
  {
   "cell_type": "markdown",
   "metadata": {},
   "source": [
    "### Printing out nice category names\n",
    "\n",
    "We are going to build a new classifier, using Pandas categorical types for the target column. This will let us print out a more sensible confusion matrix.\n"
   ]
  },
  {
   "cell_type": "code",
   "execution_count": 47,
   "metadata": {
    "collapsed": true
   },
   "outputs": [],
   "source": [
    "# Convert to categorical type\n",
    "df['target'] = df['target'].astype('category')"
   ]
  },
  {
   "cell_type": "code",
   "execution_count": 48,
   "metadata": {},
   "outputs": [
    {
     "data": {
      "text/plain": [
       "0    X\n",
       "1    Y\n",
       "2    B\n",
       "3    Y\n",
       "4    X\n",
       "Name: target, dtype: category\n",
       "Categories (16, object): [A, B, C, D, ..., T, X, Y, Z]"
      ]
     },
     "execution_count": 48,
     "metadata": {},
     "output_type": "execute_result"
    }
   ],
   "source": [
    "# If we print it out, it looks like nothing has changed... except the type is now \"category\"\n",
    "df.target.head()\n"
   ]
  },
  {
   "cell_type": "code",
   "execution_count": 49,
   "metadata": {},
   "outputs": [
    {
     "data": {
      "text/plain": [
       "Index(['A', 'B', 'C', 'D', 'E', 'F', 'G', 'H', 'J', 'K', 'L', 'M', 'T', 'X',\n",
       "       'Y', 'Z'],\n",
       "      dtype='object')"
      ]
     },
     "execution_count": 49,
     "metadata": {},
     "output_type": "execute_result"
    }
   ],
   "source": [
    "# Pandas has invented numbers for each of our letter codes\n",
    "df.target.cat.categories"
   ]
  },
  {
   "cell_type": "code",
   "execution_count": 50,
   "metadata": {},
   "outputs": [
    {
     "data": {
      "text/plain": [
       "0    13\n",
       "1    14\n",
       "2     1\n",
       "3    14\n",
       "4    13\n",
       "dtype: int8"
      ]
     },
     "execution_count": 50,
     "metadata": {},
     "output_type": "execute_result"
    }
   ],
   "source": [
    "# And these numbers are what is actually stored in the column now\n",
    "df.target.head().cat.codes"
   ]
  },
  {
   "cell_type": "code",
   "execution_count": 51,
   "metadata": {
    "collapsed": true
   },
   "outputs": [],
   "source": [
    "# Repeat all of our model building with the training labels in this new type of column\n",
    "features_and_target = pd.concat([df.target, vectors],axis=1)\n",
    "train, test = train_test_split(features_and_target, test_size=0.2)"
   ]
  },
  {
   "cell_type": "code",
   "execution_count": 52,
   "metadata": {},
   "outputs": [
    {
     "data": {
      "text/plain": [
       "DecisionTreeClassifier(class_weight=None, criterion='gini', max_depth=None,\n",
       "            max_features=None, max_leaf_nodes=None,\n",
       "            min_impurity_decrease=0.0, min_impurity_split=None,\n",
       "            min_samples_leaf=1, min_samples_split=2,\n",
       "            min_weight_fraction_leaf=0.0, presort=False, random_state=None,\n",
       "            splitter='best')"
      ]
     },
     "execution_count": 52,
     "metadata": {},
     "output_type": "execute_result"
    }
   ],
   "source": [
    "x_train = train.iloc[:,1:].values\n",
    "y_train = train.iloc[:,0].values\n",
    "\n",
    "dt = tree.DecisionTreeClassifier()\n",
    "dt.fit(x_train,y_train)"
   ]
  },
  {
   "cell_type": "code",
   "execution_count": 53,
   "metadata": {},
   "outputs": [
    {
     "data": {
      "text/plain": [
       "0.43149999999999999"
      ]
     },
     "execution_count": 53,
     "metadata": {},
     "output_type": "execute_result"
    }
   ],
   "source": [
    "x_test = test.iloc[:,1:].values\n",
    "y_test = test.iloc[:,0].values\n",
    "y_test_pred = dt.predict(x_test)\n",
    "metrics.accuracy_score(y_test_pred, y_test)"
   ]
  },
  {
   "cell_type": "code",
   "execution_count": 54,
   "metadata": {},
   "outputs": [
    {
     "data": {
      "text/html": [
       "<div>\n",
       "<style>\n",
       "    .dataframe thead tr:only-child th {\n",
       "        text-align: right;\n",
       "    }\n",
       "\n",
       "    .dataframe thead th {\n",
       "        text-align: left;\n",
       "    }\n",
       "\n",
       "    .dataframe tbody tr th {\n",
       "        vertical-align: top;\n",
       "    }\n",
       "</style>\n",
       "<table border=\"1\" class=\"dataframe\">\n",
       "  <thead>\n",
       "    <tr style=\"text-align: right;\">\n",
       "      <th></th>\n",
       "      <th>Guessed A</th>\n",
       "      <th>Guessed B</th>\n",
       "      <th>Guessed C</th>\n",
       "      <th>Guessed D</th>\n",
       "      <th>Guessed E</th>\n",
       "      <th>Guessed F</th>\n",
       "      <th>Guessed G</th>\n",
       "      <th>Guessed H</th>\n",
       "      <th>Guessed J</th>\n",
       "      <th>Guessed K</th>\n",
       "      <th>Guessed L</th>\n",
       "      <th>Guessed M</th>\n",
       "      <th>Guessed T</th>\n",
       "      <th>Guessed X</th>\n",
       "      <th>Guessed Y</th>\n",
       "      <th>Guessed Z</th>\n",
       "    </tr>\n",
       "  </thead>\n",
       "  <tbody>\n",
       "    <tr>\n",
       "      <th>True A</th>\n",
       "      <td>25</td>\n",
       "      <td>0</td>\n",
       "      <td>0</td>\n",
       "      <td>0</td>\n",
       "      <td>0</td>\n",
       "      <td>3</td>\n",
       "      <td>8</td>\n",
       "      <td>1</td>\n",
       "      <td>2</td>\n",
       "      <td>1</td>\n",
       "      <td>0</td>\n",
       "      <td>1</td>\n",
       "      <td>1</td>\n",
       "      <td>0</td>\n",
       "      <td>7</td>\n",
       "      <td>0</td>\n",
       "    </tr>\n",
       "    <tr>\n",
       "      <th>True B</th>\n",
       "      <td>0</td>\n",
       "      <td>65</td>\n",
       "      <td>1</td>\n",
       "      <td>1</td>\n",
       "      <td>3</td>\n",
       "      <td>5</td>\n",
       "      <td>2</td>\n",
       "      <td>2</td>\n",
       "      <td>4</td>\n",
       "      <td>1</td>\n",
       "      <td>0</td>\n",
       "      <td>2</td>\n",
       "      <td>0</td>\n",
       "      <td>2</td>\n",
       "      <td>25</td>\n",
       "      <td>1</td>\n",
       "    </tr>\n",
       "    <tr>\n",
       "      <th>True C</th>\n",
       "      <td>3</td>\n",
       "      <td>7</td>\n",
       "      <td>64</td>\n",
       "      <td>2</td>\n",
       "      <td>4</td>\n",
       "      <td>14</td>\n",
       "      <td>16</td>\n",
       "      <td>4</td>\n",
       "      <td>14</td>\n",
       "      <td>2</td>\n",
       "      <td>0</td>\n",
       "      <td>4</td>\n",
       "      <td>3</td>\n",
       "      <td>1</td>\n",
       "      <td>108</td>\n",
       "      <td>12</td>\n",
       "    </tr>\n",
       "    <tr>\n",
       "      <th>True D</th>\n",
       "      <td>0</td>\n",
       "      <td>0</td>\n",
       "      <td>2</td>\n",
       "      <td>2</td>\n",
       "      <td>1</td>\n",
       "      <td>0</td>\n",
       "      <td>0</td>\n",
       "      <td>0</td>\n",
       "      <td>0</td>\n",
       "      <td>0</td>\n",
       "      <td>0</td>\n",
       "      <td>0</td>\n",
       "      <td>0</td>\n",
       "      <td>0</td>\n",
       "      <td>0</td>\n",
       "      <td>0</td>\n",
       "    </tr>\n",
       "    <tr>\n",
       "      <th>True E</th>\n",
       "      <td>2</td>\n",
       "      <td>0</td>\n",
       "      <td>1</td>\n",
       "      <td>0</td>\n",
       "      <td>28</td>\n",
       "      <td>3</td>\n",
       "      <td>1</td>\n",
       "      <td>2</td>\n",
       "      <td>1</td>\n",
       "      <td>0</td>\n",
       "      <td>0</td>\n",
       "      <td>1</td>\n",
       "      <td>0</td>\n",
       "      <td>0</td>\n",
       "      <td>12</td>\n",
       "      <td>0</td>\n",
       "    </tr>\n",
       "    <tr>\n",
       "      <th>True F</th>\n",
       "      <td>4</td>\n",
       "      <td>8</td>\n",
       "      <td>8</td>\n",
       "      <td>3</td>\n",
       "      <td>9</td>\n",
       "      <td>319</td>\n",
       "      <td>12</td>\n",
       "      <td>16</td>\n",
       "      <td>30</td>\n",
       "      <td>5</td>\n",
       "      <td>1</td>\n",
       "      <td>9</td>\n",
       "      <td>4</td>\n",
       "      <td>9</td>\n",
       "      <td>144</td>\n",
       "      <td>20</td>\n",
       "    </tr>\n",
       "    <tr>\n",
       "      <th>True G</th>\n",
       "      <td>3</td>\n",
       "      <td>12</td>\n",
       "      <td>13</td>\n",
       "      <td>1</td>\n",
       "      <td>4</td>\n",
       "      <td>13</td>\n",
       "      <td>75</td>\n",
       "      <td>12</td>\n",
       "      <td>14</td>\n",
       "      <td>11</td>\n",
       "      <td>0</td>\n",
       "      <td>4</td>\n",
       "      <td>6</td>\n",
       "      <td>2</td>\n",
       "      <td>87</td>\n",
       "      <td>9</td>\n",
       "    </tr>\n",
       "    <tr>\n",
       "      <th>True H</th>\n",
       "      <td>3</td>\n",
       "      <td>4</td>\n",
       "      <td>9</td>\n",
       "      <td>0</td>\n",
       "      <td>4</td>\n",
       "      <td>6</td>\n",
       "      <td>5</td>\n",
       "      <td>268</td>\n",
       "      <td>21</td>\n",
       "      <td>3</td>\n",
       "      <td>1</td>\n",
       "      <td>2</td>\n",
       "      <td>4</td>\n",
       "      <td>8</td>\n",
       "      <td>106</td>\n",
       "      <td>16</td>\n",
       "    </tr>\n",
       "    <tr>\n",
       "      <th>True J</th>\n",
       "      <td>11</td>\n",
       "      <td>6</td>\n",
       "      <td>12</td>\n",
       "      <td>1</td>\n",
       "      <td>5</td>\n",
       "      <td>11</td>\n",
       "      <td>32</td>\n",
       "      <td>26</td>\n",
       "      <td>42</td>\n",
       "      <td>12</td>\n",
       "      <td>3</td>\n",
       "      <td>1</td>\n",
       "      <td>8</td>\n",
       "      <td>23</td>\n",
       "      <td>119</td>\n",
       "      <td>14</td>\n",
       "    </tr>\n",
       "    <tr>\n",
       "      <th>True K</th>\n",
       "      <td>0</td>\n",
       "      <td>0</td>\n",
       "      <td>3</td>\n",
       "      <td>2</td>\n",
       "      <td>2</td>\n",
       "      <td>9</td>\n",
       "      <td>3</td>\n",
       "      <td>0</td>\n",
       "      <td>8</td>\n",
       "      <td>130</td>\n",
       "      <td>0</td>\n",
       "      <td>1</td>\n",
       "      <td>0</td>\n",
       "      <td>7</td>\n",
       "      <td>43</td>\n",
       "      <td>6</td>\n",
       "    </tr>\n",
       "    <tr>\n",
       "      <th>True L</th>\n",
       "      <td>0</td>\n",
       "      <td>0</td>\n",
       "      <td>1</td>\n",
       "      <td>0</td>\n",
       "      <td>0</td>\n",
       "      <td>0</td>\n",
       "      <td>0</td>\n",
       "      <td>0</td>\n",
       "      <td>0</td>\n",
       "      <td>1</td>\n",
       "      <td>13</td>\n",
       "      <td>0</td>\n",
       "      <td>0</td>\n",
       "      <td>0</td>\n",
       "      <td>3</td>\n",
       "      <td>1</td>\n",
       "    </tr>\n",
       "    <tr>\n",
       "      <th>True M</th>\n",
       "      <td>0</td>\n",
       "      <td>0</td>\n",
       "      <td>1</td>\n",
       "      <td>0</td>\n",
       "      <td>0</td>\n",
       "      <td>2</td>\n",
       "      <td>0</td>\n",
       "      <td>0</td>\n",
       "      <td>0</td>\n",
       "      <td>0</td>\n",
       "      <td>0</td>\n",
       "      <td>8</td>\n",
       "      <td>1</td>\n",
       "      <td>0</td>\n",
       "      <td>5</td>\n",
       "      <td>1</td>\n",
       "    </tr>\n",
       "    <tr>\n",
       "      <th>True T</th>\n",
       "      <td>1</td>\n",
       "      <td>2</td>\n",
       "      <td>4</td>\n",
       "      <td>0</td>\n",
       "      <td>0</td>\n",
       "      <td>1</td>\n",
       "      <td>5</td>\n",
       "      <td>0</td>\n",
       "      <td>1</td>\n",
       "      <td>1</td>\n",
       "      <td>1</td>\n",
       "      <td>0</td>\n",
       "      <td>29</td>\n",
       "      <td>1</td>\n",
       "      <td>10</td>\n",
       "      <td>0</td>\n",
       "    </tr>\n",
       "    <tr>\n",
       "      <th>True X</th>\n",
       "      <td>0</td>\n",
       "      <td>1</td>\n",
       "      <td>3</td>\n",
       "      <td>1</td>\n",
       "      <td>1</td>\n",
       "      <td>2</td>\n",
       "      <td>3</td>\n",
       "      <td>3</td>\n",
       "      <td>7</td>\n",
       "      <td>1</td>\n",
       "      <td>3</td>\n",
       "      <td>1</td>\n",
       "      <td>0</td>\n",
       "      <td>79</td>\n",
       "      <td>29</td>\n",
       "      <td>7</td>\n",
       "    </tr>\n",
       "    <tr>\n",
       "      <th>True Y</th>\n",
       "      <td>19</td>\n",
       "      <td>55</td>\n",
       "      <td>67</td>\n",
       "      <td>11</td>\n",
       "      <td>33</td>\n",
       "      <td>133</td>\n",
       "      <td>112</td>\n",
       "      <td>66</td>\n",
       "      <td>72</td>\n",
       "      <td>110</td>\n",
       "      <td>5</td>\n",
       "      <td>20</td>\n",
       "      <td>32</td>\n",
       "      <td>38</td>\n",
       "      <td>576</td>\n",
       "      <td>35</td>\n",
       "    </tr>\n",
       "    <tr>\n",
       "      <th>True Z</th>\n",
       "      <td>0</td>\n",
       "      <td>1</td>\n",
       "      <td>0</td>\n",
       "      <td>1</td>\n",
       "      <td>0</td>\n",
       "      <td>6</td>\n",
       "      <td>1</td>\n",
       "      <td>8</td>\n",
       "      <td>5</td>\n",
       "      <td>3</td>\n",
       "      <td>0</td>\n",
       "      <td>1</td>\n",
       "      <td>0</td>\n",
       "      <td>4</td>\n",
       "      <td>5</td>\n",
       "      <td>3</td>\n",
       "    </tr>\n",
       "  </tbody>\n",
       "</table>\n",
       "</div>"
      ],
      "text/plain": [
       "        Guessed A  Guessed B  Guessed C  Guessed D  Guessed E  Guessed F  \\\n",
       "True A         25          0          0          0          0          3   \n",
       "True B          0         65          1          1          3          5   \n",
       "True C          3          7         64          2          4         14   \n",
       "True D          0          0          2          2          1          0   \n",
       "True E          2          0          1          0         28          3   \n",
       "True F          4          8          8          3          9        319   \n",
       "True G          3         12         13          1          4         13   \n",
       "True H          3          4          9          0          4          6   \n",
       "True J         11          6         12          1          5         11   \n",
       "True K          0          0          3          2          2          9   \n",
       "True L          0          0          1          0          0          0   \n",
       "True M          0          0          1          0          0          2   \n",
       "True T          1          2          4          0          0          1   \n",
       "True X          0          1          3          1          1          2   \n",
       "True Y         19         55         67         11         33        133   \n",
       "True Z          0          1          0          1          0          6   \n",
       "\n",
       "        Guessed G  Guessed H  Guessed J  Guessed K  Guessed L  Guessed M  \\\n",
       "True A          8          1          2          1          0          1   \n",
       "True B          2          2          4          1          0          2   \n",
       "True C         16          4         14          2          0          4   \n",
       "True D          0          0          0          0          0          0   \n",
       "True E          1          2          1          0          0          1   \n",
       "True F         12         16         30          5          1          9   \n",
       "True G         75         12         14         11          0          4   \n",
       "True H          5        268         21          3          1          2   \n",
       "True J         32         26         42         12          3          1   \n",
       "True K          3          0          8        130          0          1   \n",
       "True L          0          0          0          1         13          0   \n",
       "True M          0          0          0          0          0          8   \n",
       "True T          5          0          1          1          1          0   \n",
       "True X          3          3          7          1          3          1   \n",
       "True Y        112         66         72        110          5         20   \n",
       "True Z          1          8          5          3          0          1   \n",
       "\n",
       "        Guessed T  Guessed X  Guessed Y  Guessed Z  \n",
       "True A          1          0          7          0  \n",
       "True B          0          2         25          1  \n",
       "True C          3          1        108         12  \n",
       "True D          0          0          0          0  \n",
       "True E          0          0         12          0  \n",
       "True F          4          9        144         20  \n",
       "True G          6          2         87          9  \n",
       "True H          4          8        106         16  \n",
       "True J          8         23        119         14  \n",
       "True K          0          7         43          6  \n",
       "True L          0          0          3          1  \n",
       "True M          1          0          5          1  \n",
       "True T         29          1         10          0  \n",
       "True X          0         79         29          7  \n",
       "True Y         32         38        576         35  \n",
       "True Z          0          4          5          3  "
      ]
     },
     "execution_count": 54,
     "metadata": {},
     "output_type": "execute_result"
    }
   ],
   "source": [
    "# Now that we have the category names, we can make a much prettier confusion matrix\n",
    "truecats = \"True \" + df.target.cat.categories\n",
    "predcats = \"Guessed \" + df.target.cat.categories\n",
    "pd.DataFrame(metrics.confusion_matrix(y_test_pred, y_test, labels=df.target.cat.categories), columns=predcats, index=truecats)"
   ]
  }
 ],
 "metadata": {
  "kernelspec": {
   "display_name": "Python 3",
   "language": "python",
   "name": "python3"
  },
  "language_info": {
   "codemirror_mode": {
    "name": "ipython",
    "version": 3
   },
   "file_extension": ".py",
   "mimetype": "text/x-python",
   "name": "python",
   "nbconvert_exporter": "python",
   "pygments_lexer": "ipython3",
   "version": "3.6.2"
  }
 },
 "nbformat": 4,
 "nbformat_minor": 2
}
