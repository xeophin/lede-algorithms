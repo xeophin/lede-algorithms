{
 "cells": [
  {
   "cell_type": "markdown",
   "metadata": {},
   "source": [
    "# Week 5-2: The social effects of using machine learning for lending decisions\n",
    "\n",
    "This notebook uses about a 10% sample of the [Lending Club data set](https://www.kaggle.com/wendykan/lending-club-loan-data) to examine the results of improved default prediction on who gets a loan and who doesn't. \n",
    "\n",
    "This analysis is inspired by the paper [Predictably Unequal? The Effects of Machine Learning on Credit Markets](https://papers.ssrn.com/sol3/papers.cfm?abstract_id=3072038) by Fuster et al.\n",
    "\n",
    "For more code that deals with machine learning on this data set, see [Predicting Loan Repayment](https://towardsdatascience.com/predicting-loan-repayment-5df4e0023e92).\n",
    "\n",
    "This is ~100k row subset of the ~900k records in the original data set. The subset over-samples defaulters enormously, so that repaid vs. defaulted is about 50/50. In the original data it's very much smaller, about 80:20. The preprocessing script does this intentionally, to make the numbers in this example easier to understand. As a side effect, this skews the income distributions because defaulters (who were previously granted a loan, if they're in this data set!) will have different characteristics from non-defaulters, or defaulters who were denied a loan. Another unrealistic thing is that a real loan issuer has some key information that isn't publicly available for privacy reasons, like FICO credit score. \n",
    "\n",
    "So **don't take this as reasearch on what the effect of machine learning on loan decisions will actually be.** This document is a learning tool, meant to demonstrate some ways that question could be explored. "
   ]
  },
  {
   "cell_type": "code",
   "execution_count": null,
   "metadata": {
    "collapsed": true
   },
   "outputs": [],
   "source": [
    "import pandas as pd\n",
    "import numpy as np\n",
    "import pandas as pd\n",
    "import numpy as np\n",
    "import matplotlib.pyplot as plt\n",
    "from sklearn.linear_model import LogisticRegression\n",
    "from sklearn.ensemble import RandomForestClassifier\n",
    "from pandas.plotting import scatter_matrix\n",
    "from sklearn import metrics\n",
    "%matplotlib inline"
   ]
  },
  {
   "cell_type": "code",
   "execution_count": null,
   "metadata": {},
   "outputs": [],
   "source": [
    "# Our data subset is all the \"charged off\" or \"defaulted\" rows in the original, plus 1/20 the \"fully paid\"\n",
    "# In any case, it's concluded loans only, nothing that's still being repaid.\n"
   ]
  },
  {
   "cell_type": "code",
   "execution_count": null,
   "metadata": {},
   "outputs": [],
   "source": [
    "# how many rows?\n"
   ]
  },
  {
   "cell_type": "code",
   "execution_count": null,
   "metadata": {},
   "outputs": [],
   "source": [
    "# What are the columns? For the column descriptions, see LCDataDictionary.xlsx\n"
   ]
  },
  {
   "cell_type": "code",
   "execution_count": null,
   "metadata": {},
   "outputs": [],
   "source": [
    "# Let's look at value counts for a few fields, to get a sense of what this data is\n"
   ]
  },
  {
   "cell_type": "code",
   "execution_count": 1,
   "metadata": {},
   "outputs": [],
   "source": [
    "# What do people get loans for?\n"
   ]
  },
  {
   "cell_type": "code",
   "execution_count": null,
   "metadata": {
    "collapsed": true
   },
   "outputs": [],
   "source": [
    "# What does the distribution of income look like?\n"
   ]
  },
  {
   "cell_type": "markdown",
   "metadata": {},
   "source": [
    "## 1. A simple classifier\n",
    "Logisitic regression on a handful of features to try to predict who will fall behind on payments.\n",
    "\n",
    "We'll generate features from the following columns\n",
    "\n",
    "- purpose: The purpose of the loan such as: credit_card, debt_consolidation, etc.\n",
    "- installment: The monthly payment on the loan\n",
    "- annual_inc: the annual income of the borrower.\n",
    "- dti: The debt-to-income ratio of the borrower, excluding this loan\n",
    "- pub_rec: The borrower’s number of derogatory public records.\n",
    "\n",
    "And the target variable, that we're trying to predict, is:\n",
    "- loan_status: Fully Paid, Charged Off, or Default"
   ]
  },
  {
   "cell_type": "code",
   "execution_count": null,
   "metadata": {},
   "outputs": [],
   "source": [
    "# Encode everything into a feature matrix\n",
    "features = pd.concat(\n",
    "    [\n",
    "        loans.annual_inc/1000, # count in 1000s of dollars, to make the coefficient more easily interpretable\n",
    "        loans.dti,\n",
    "        loans.installment,\n",
    "        loans.pub_rec,\n",
    "        pd.get_dummies(loans.purpose, prefix='purpose'),\n",
    "    ],\n",
    "    axis=1)\n",
    "\n",
    "# Code the target variable as True if we are predicting that this loan gets repaid in full\n",
    "target = loans.loan_status == 'Fully Paid'\n",
    "\n",
    "features.head()"
   ]
  },
  {
   "cell_type": "code",
   "execution_count": 2,
   "metadata": {},
   "outputs": [],
   "source": [
    "# Your basic logistic regression\n"
   ]
  },
  {
   "cell_type": "code",
   "execution_count": null,
   "metadata": {},
   "outputs": [],
   "source": [
    "# Examine regression coefficients\n"
   ]
  },
  {
   "cell_type": "code",
   "execution_count": null,
   "metadata": {},
   "outputs": [],
   "source": [
    "# Let's see how well this classifier did\n"
   ]
  },
  {
   "cell_type": "code",
   "execution_count": null,
   "metadata": {},
   "outputs": [],
   "source": []
  },
  {
   "cell_type": "markdown",
   "metadata": {},
   "source": [
    "Our interest here is the people who were predicted repay the loan, but actually didn't. These are the false positives, and there are a lot of them in this data set (because this data set is artificially enriched so that about half are defaulters.) On the other hand, the false negatives represent people who we guessed would default, but repaid."
   ]
  },
  {
   "cell_type": "code",
   "execution_count": null,
   "metadata": {},
   "outputs": [],
   "source": []
  },
  {
   "cell_type": "code",
   "execution_count": null,
   "metadata": {},
   "outputs": [],
   "source": []
  },
  {
   "cell_type": "markdown",
   "metadata": {},
   "source": [
    "Who are these people? We we get an idea by looking at their relative income distribution. First, here's everybody:"
   ]
  },
  {
   "cell_type": "code",
   "execution_count": null,
   "metadata": {},
   "outputs": [],
   "source": []
  },
  {
   "cell_type": "markdown",
   "metadata": {},
   "source": [
    "And here's the income of just the false positives:"
   ]
  },
  {
   "cell_type": "code",
   "execution_count": null,
   "metadata": {},
   "outputs": [],
   "source": []
  },
  {
   "cell_type": "markdown",
   "metadata": {},
   "source": [
    "The false positives have a higher income than the average, \\$75,000 vs \\$70,000. This makes sense as these are people who we thought would repay, and the model increases its odds of repayment by 0.5% for every thousand dollars of income. This adds up, as you can see in the high income of those predicted to repay:"
   ]
  },
  {
   "cell_type": "code",
   "execution_count": null,
   "metadata": {},
   "outputs": [],
   "source": []
  },
  {
   "cell_type": "markdown",
   "metadata": {},
   "source": [
    "## 2. A more accurate classifier\n",
    "\n",
    "Let's add more features and use a better classifier to see if we can better predict who will pay off their loans. This is what many lending companies are doing right now.\n",
    "\n",
    "The features we'll add:\n",
    "- loan_amnt: how much was loaned\n",
    "- int_rate: The interest rate of the loan \n",
    "- grade: Lending Club's internal loan quality grade\n",
    "- home_ownership: RENT, OWN, MORTGAGE, OTHER\n",
    "- earliest_cr_line: The month the borrower's earliest reported credit line was opened\n",
    "- emp_length: employment length in years\n"
   ]
  },
  {
   "cell_type": "code",
   "execution_count": null,
   "metadata": {},
   "outputs": [],
   "source": [
    "# To clean up this column, we'll just extract the year using a regex\n",
    "loans.earliest_cr_line.head()"
   ]
  },
  {
   "cell_type": "code",
   "execution_count": null,
   "metadata": {
    "collapsed": true
   },
   "outputs": [],
   "source": [
    "emp_dict = {\n",
    "     'n/a' : 0,\n",
    "     '< 1 year' : 0.5,\n",
    "     ' < 1 year' : 0.5,  # look, dirty data!\n",
    "     '1 year' : 1,\n",
    "     '2 years' : 2,\n",
    "     '3 years' : 3,\n",
    "     '4 years' : 4,\n",
    "     '5 years' : 5,\n",
    "     '6 years' : 6,\n",
    "     '7 years' : 7,\n",
    "     '8 years' : 8,\n",
    "     '9 years' : 9,\n",
    "     '10+ years' : 10\n",
    "    }\n",
    "\n",
    "\n",
    "features2 = pd.concat(\n",
    "    [\n",
    "        features,\n",
    "        loans.loan_amnt,\n",
    "        loans.int_rate,\n",
    "        pd.get_dummies(loans.grade, prefix='grade'),\n",
    "        pd.get_dummies(loans.home_ownership, prefix='home'),\n",
    "        loans.emp_length.replace(emp_dict),\n",
    "        loans.earliest_cr_line.str.extract('(\\d\\d\\d\\d)', expand=False).astype(int)\n",
    "    ],\n",
    "    axis=1)\n"
   ]
  },
  {
   "cell_type": "code",
   "execution_count": null,
   "metadata": {},
   "outputs": [],
   "source": [
    "# Fit another logistic regression to the new features\n"
   ]
  },
  {
   "cell_type": "code",
   "execution_count": null,
   "metadata": {},
   "outputs": [],
   "source": []
  },
  {
   "cell_type": "markdown",
   "metadata": {},
   "source": [
    "Well, we did it. We got a 5.3% accuracy increase from our big data efforts. In real life the impact of using big data could substantial because it's large, percentage-wise, or because the lender has a large number of customers so small changes affect many people.\n",
    "\n",
    "The confusion matrix shows where the improved accuracy comes from:"
   ]
  },
  {
   "cell_type": "code",
   "execution_count": null,
   "metadata": {},
   "outputs": [],
   "source": []
  },
  {
   "cell_type": "code",
   "execution_count": null,
   "metadata": {},
   "outputs": [],
   "source": [
    "# Change in false positive rate\n"
   ]
  },
  {
   "cell_type": "code",
   "execution_count": null,
   "metadata": {},
   "outputs": [],
   "source": [
    "# Change in false positive rate\n"
   ]
  },
  {
   "cell_type": "markdown",
   "metadata": {},
   "source": [
    "This classifer reduces the number of both false negatives and false positives. False negatives are people who repaid their loan, when the old model said they would not, so they have new access to credit that they will successfully repay. On the other hand, a reduction in false positives means we are now denying credit to people who would have gotten it before.\n",
    "\n",
    "Who are the people who we didn't think would repay, but now believe they will?\n"
   ]
  },
  {
   "cell_type": "code",
   "execution_count": null,
   "metadata": {},
   "outputs": [],
   "source": []
  },
  {
   "cell_type": "code",
   "execution_count": null,
   "metadata": {
    "scrolled": false
   },
   "outputs": [],
   "source": []
  },
  {
   "cell_type": "markdown",
   "metadata": {},
   "source": [
    "In this case the new classifier admitted a bunch of people who are below our average income (of \\$70K), which is a probably a socially desirable outcome -- at least for the ones who are able to repay. How many of the newly admitted will default?"
   ]
  },
  {
   "cell_type": "code",
   "execution_count": null,
   "metadata": {},
   "outputs": [],
   "source": []
  },
  {
   "cell_type": "markdown",
   "metadata": {},
   "source": [
    "and whether *that* is socially desirable or not depends on what happens when someone defaults, which is a complicated question of law, finance, and power. There's only so far that technical analysis of machine learning can go before it hits the interface with the real world, where everything happens to real people."
   ]
  }
 ],
 "metadata": {
  "kernelspec": {
   "display_name": "Python 3",
   "language": "python",
   "name": "python3"
  },
  "language_info": {
   "codemirror_mode": {
    "name": "ipython",
    "version": 3
   },
   "file_extension": ".py",
   "mimetype": "text/x-python",
   "name": "python",
   "nbconvert_exporter": "python",
   "pygments_lexer": "ipython3",
   "version": "3.6.2"
  }
 },
 "nbformat": 4,
 "nbformat_minor": 2
}
