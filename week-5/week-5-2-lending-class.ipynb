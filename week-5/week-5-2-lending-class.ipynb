{
  "cells": [
    {
      "cell_type": "markdown",
      "source": [
        "# Week 5-2: The social effects of using machine learning for lending decisions\n",
        "\n",
        "This notebook uses about a 10% sample of the [Lending Club data set](https://www.kaggle.com/wendykan/lending-club-loan-data) to examine the results of improved default prediction on who gets a loan and who doesn't. \n",
        "\n",
        "This analysis is inspired by the paper [Predictably Unequal? The Effects of Machine Learning on Credit Markets](https://papers.ssrn.com/sol3/papers.cfm?abstract_id=3072038) by Fuster et al.\n",
        "\n",
        "For more code that deals with machine learning on this data set, see [Predicting Loan Repayment](https://towardsdatascience.com/predicting-loan-repayment-5df4e0023e92).\n",
        "\n",
        "This is ~100k row subset of the ~900k records in the original data set. The subset over-samples defaulters enormously, so that repaid vs. defaulted is about 50/50. In the original data it's very much smaller, about 80:20. The preprocessing script does this intentionally, to make the numbers in this example easier to understand. As a side effect, this skews the income distributions because defaulters (who were previously granted a loan, if they're in this data set!) will have different characteristics from non-defaulters, or defaulters who were denied a loan. Another unrealistic thing is that a real loan issuer has some key information that isn't publicly available for privacy reasons, like FICO credit score. \n",
        "\nSo **don't take this as reasearch on what the effect of machine learning on loan decisions will actually be.** This document is a learning tool, meant to demonstrate some ways that question could be explored. "
      ],
      "metadata": {}
    },
    {
      "cell_type": "code",
      "source": [
        "import pandas as pd\n",
        "import numpy as np\n",
        "import pandas as pd\n",
        "import numpy as np\n",
        "import matplotlib.pyplot as plt\n",
        "from sklearn.linear_model import LogisticRegression\n",
        "from sklearn.ensemble import RandomForestClassifier\n",
        "from pandas.plotting import scatter_matrix\n",
        "from sklearn import metrics\n",
        "%matplotlib inline"
      ],
      "outputs": [],
      "execution_count": 2,
      "metadata": {
        "collapsed": true
      }
    },
    {
      "cell_type": "code",
      "source": [
        "# Our data subset is all the \"charged off\" or \"defaulted\" rows in the original, plus 1/20 the \"fully paid\"\n",
        "# In any case, it's concluded loans only, nothing that's still being repaid.\n",
        "loans = pd.read_csv('loan-subset.csv')\n",
        "loans.head()"
      ],
      "outputs": [
        {
          "output_type": "stream",
          "name": "stderr",
          "text": [
            "/Users/km/.pyenv/versions/3.6.5/lib/python3.6/site-packages/IPython/core/interactiveshell.py:2705: DtypeWarning: Columns (19) have mixed types. Specify dtype option on import or set low_memory=False.\n",
            "  interactivity=interactivity, compiler=compiler, result=result)\n"
          ]
        },
        {
          "output_type": "execute_result",
          "execution_count": 3,
          "data": {
            "text/plain": [
              "        id  member_id  loan_amnt  funded_amnt  funded_amnt_inv        term  \\\n",
              "0  1077430    1314167     2500.0       2500.0           2500.0   60 months   \n",
              "1  1071795    1306957     5600.0       5600.0           5600.0   60 months   \n",
              "2  1071570    1306721     5375.0       5375.0           5350.0   60 months   \n",
              "3  1064687    1298717     9000.0       9000.0           9000.0   36 months   \n",
              "4  1069057    1303503    10000.0      10000.0          10000.0   36 months   \n",
              "\n",
              "   int_rate  installment grade sub_grade     ...      total_bal_il il_util  \\\n",
              "0     15.27        59.83     C        C4     ...               NaN     NaN   \n",
              "1     21.28       152.39     F        F2     ...               NaN     NaN   \n",
              "2     12.69       121.45     B        B5     ...               NaN     NaN   \n",
              "3     13.49       305.38     C        C1     ...               NaN     NaN   \n",
              "4     10.65       325.74     B        B2     ...               NaN     NaN   \n",
              "\n",
              "  open_rv_12m  open_rv_24m max_bal_bc all_util total_rev_hi_lim inq_fi  \\\n",
              "0         NaN          NaN        NaN      NaN              NaN    NaN   \n",
              "1         NaN          NaN        NaN      NaN              NaN    NaN   \n",
              "2         NaN          NaN        NaN      NaN              NaN    NaN   \n",
              "3         NaN          NaN        NaN      NaN              NaN    NaN   \n",
              "4         NaN          NaN        NaN      NaN              NaN    NaN   \n",
              "\n",
              "  total_cu_tl inq_last_12m  \n",
              "0         NaN          NaN  \n",
              "1         NaN          NaN  \n",
              "2         NaN          NaN  \n",
              "3         NaN          NaN  \n",
              "4         NaN          NaN  \n",
              "\n[5 rows x 74 columns]"
            ],
            "text/html": [
              "<div>\n",
              "<style scoped>\n",
              "    .dataframe tbody tr th:only-of-type {\n",
              "        vertical-align: middle;\n",
              "    }\n",
              "\n",
              "    .dataframe tbody tr th {\n",
              "        vertical-align: top;\n",
              "    }\n",
              "\n",
              "    .dataframe thead th {\n",
              "        text-align: right;\n",
              "    }\n",
              "</style>\n",
              "<table border=\"1\" class=\"dataframe\">\n",
              "  <thead>\n",
              "    <tr style=\"text-align: right;\">\n",
              "      <th></th>\n",
              "      <th>id</th>\n",
              "      <th>member_id</th>\n",
              "      <th>loan_amnt</th>\n",
              "      <th>funded_amnt</th>\n",
              "      <th>funded_amnt_inv</th>\n",
              "      <th>term</th>\n",
              "      <th>int_rate</th>\n",
              "      <th>installment</th>\n",
              "      <th>grade</th>\n",
              "      <th>sub_grade</th>\n",
              "      <th>...</th>\n",
              "      <th>total_bal_il</th>\n",
              "      <th>il_util</th>\n",
              "      <th>open_rv_12m</th>\n",
              "      <th>open_rv_24m</th>\n",
              "      <th>max_bal_bc</th>\n",
              "      <th>all_util</th>\n",
              "      <th>total_rev_hi_lim</th>\n",
              "      <th>inq_fi</th>\n",
              "      <th>total_cu_tl</th>\n",
              "      <th>inq_last_12m</th>\n",
              "    </tr>\n",
              "  </thead>\n",
              "  <tbody>\n",
              "    <tr>\n",
              "      <th>0</th>\n",
              "      <td>1077430</td>\n",
              "      <td>1314167</td>\n",
              "      <td>2500.0</td>\n",
              "      <td>2500.0</td>\n",
              "      <td>2500.0</td>\n",
              "      <td>60 months</td>\n",
              "      <td>15.27</td>\n",
              "      <td>59.83</td>\n",
              "      <td>C</td>\n",
              "      <td>C4</td>\n",
              "      <td>...</td>\n",
              "      <td>NaN</td>\n",
              "      <td>NaN</td>\n",
              "      <td>NaN</td>\n",
              "      <td>NaN</td>\n",
              "      <td>NaN</td>\n",
              "      <td>NaN</td>\n",
              "      <td>NaN</td>\n",
              "      <td>NaN</td>\n",
              "      <td>NaN</td>\n",
              "      <td>NaN</td>\n",
              "    </tr>\n",
              "    <tr>\n",
              "      <th>1</th>\n",
              "      <td>1071795</td>\n",
              "      <td>1306957</td>\n",
              "      <td>5600.0</td>\n",
              "      <td>5600.0</td>\n",
              "      <td>5600.0</td>\n",
              "      <td>60 months</td>\n",
              "      <td>21.28</td>\n",
              "      <td>152.39</td>\n",
              "      <td>F</td>\n",
              "      <td>F2</td>\n",
              "      <td>...</td>\n",
              "      <td>NaN</td>\n",
              "      <td>NaN</td>\n",
              "      <td>NaN</td>\n",
              "      <td>NaN</td>\n",
              "      <td>NaN</td>\n",
              "      <td>NaN</td>\n",
              "      <td>NaN</td>\n",
              "      <td>NaN</td>\n",
              "      <td>NaN</td>\n",
              "      <td>NaN</td>\n",
              "    </tr>\n",
              "    <tr>\n",
              "      <th>2</th>\n",
              "      <td>1071570</td>\n",
              "      <td>1306721</td>\n",
              "      <td>5375.0</td>\n",
              "      <td>5375.0</td>\n",
              "      <td>5350.0</td>\n",
              "      <td>60 months</td>\n",
              "      <td>12.69</td>\n",
              "      <td>121.45</td>\n",
              "      <td>B</td>\n",
              "      <td>B5</td>\n",
              "      <td>...</td>\n",
              "      <td>NaN</td>\n",
              "      <td>NaN</td>\n",
              "      <td>NaN</td>\n",
              "      <td>NaN</td>\n",
              "      <td>NaN</td>\n",
              "      <td>NaN</td>\n",
              "      <td>NaN</td>\n",
              "      <td>NaN</td>\n",
              "      <td>NaN</td>\n",
              "      <td>NaN</td>\n",
              "    </tr>\n",
              "    <tr>\n",
              "      <th>3</th>\n",
              "      <td>1064687</td>\n",
              "      <td>1298717</td>\n",
              "      <td>9000.0</td>\n",
              "      <td>9000.0</td>\n",
              "      <td>9000.0</td>\n",
              "      <td>36 months</td>\n",
              "      <td>13.49</td>\n",
              "      <td>305.38</td>\n",
              "      <td>C</td>\n",
              "      <td>C1</td>\n",
              "      <td>...</td>\n",
              "      <td>NaN</td>\n",
              "      <td>NaN</td>\n",
              "      <td>NaN</td>\n",
              "      <td>NaN</td>\n",
              "      <td>NaN</td>\n",
              "      <td>NaN</td>\n",
              "      <td>NaN</td>\n",
              "      <td>NaN</td>\n",
              "      <td>NaN</td>\n",
              "      <td>NaN</td>\n",
              "    </tr>\n",
              "    <tr>\n",
              "      <th>4</th>\n",
              "      <td>1069057</td>\n",
              "      <td>1303503</td>\n",
              "      <td>10000.0</td>\n",
              "      <td>10000.0</td>\n",
              "      <td>10000.0</td>\n",
              "      <td>36 months</td>\n",
              "      <td>10.65</td>\n",
              "      <td>325.74</td>\n",
              "      <td>B</td>\n",
              "      <td>B2</td>\n",
              "      <td>...</td>\n",
              "      <td>NaN</td>\n",
              "      <td>NaN</td>\n",
              "      <td>NaN</td>\n",
              "      <td>NaN</td>\n",
              "      <td>NaN</td>\n",
              "      <td>NaN</td>\n",
              "      <td>NaN</td>\n",
              "      <td>NaN</td>\n",
              "      <td>NaN</td>\n",
              "      <td>NaN</td>\n",
              "    </tr>\n",
              "  </tbody>\n",
              "</table>\n",
              "<p>5 rows × 74 columns</p>\n",
              "</div>"
            ]
          },
          "metadata": {}
        }
      ],
      "execution_count": 3,
      "metadata": {}
    },
    {
      "cell_type": "code",
      "source": [
        "# how many rows?\n",
        "len(loans)"
      ],
      "outputs": [
        {
          "output_type": "execute_result",
          "execution_count": 3,
          "data": {
            "text/plain": [
              "98054"
            ]
          },
          "metadata": {}
        }
      ],
      "execution_count": 3,
      "metadata": {}
    },
    {
      "cell_type": "code",
      "source": [
        "# What are the columns? For the column descriptions, see LCDataDictionary.xlsx\n",
        "loans.columns"
      ],
      "outputs": [
        {
          "output_type": "execute_result",
          "execution_count": 4,
          "data": {
            "text/plain": [
              "Index(['id', 'member_id', 'loan_amnt', 'funded_amnt', 'funded_amnt_inv',\n",
              "       'term', 'int_rate', 'installment', 'grade', 'sub_grade', 'emp_title',\n",
              "       'emp_length', 'home_ownership', 'annual_inc', 'verification_status',\n",
              "       'issue_d', 'loan_status', 'pymnt_plan', 'url', 'desc', 'purpose',\n",
              "       'title', 'zip_code', 'addr_state', 'dti', 'delinq_2yrs',\n",
              "       'earliest_cr_line', 'inq_last_6mths', 'mths_since_last_delinq',\n",
              "       'mths_since_last_record', 'open_acc', 'pub_rec', 'revol_bal',\n",
              "       'revol_util', 'total_acc', 'initial_list_status', 'out_prncp',\n",
              "       'out_prncp_inv', 'total_pymnt', 'total_pymnt_inv', 'total_rec_prncp',\n",
              "       'total_rec_int', 'total_rec_late_fee', 'recoveries',\n",
              "       'collection_recovery_fee', 'last_pymnt_d', 'last_pymnt_amnt',\n",
              "       'next_pymnt_d', 'last_credit_pull_d', 'collections_12_mths_ex_med',\n",
              "       'mths_since_last_major_derog', 'policy_code', 'application_type',\n",
              "       'annual_inc_joint', 'dti_joint', 'verification_status_joint',\n",
              "       'acc_now_delinq', 'tot_coll_amt', 'tot_cur_bal', 'open_acc_6m',\n",
              "       'open_il_6m', 'open_il_12m', 'open_il_24m', 'mths_since_rcnt_il',\n",
              "       'total_bal_il', 'il_util', 'open_rv_12m', 'open_rv_24m', 'max_bal_bc',\n",
              "       'all_util', 'total_rev_hi_lim', 'inq_fi', 'total_cu_tl',\n",
              "       'inq_last_12m'],\n",
              "      dtype='object')"
            ]
          },
          "metadata": {}
        }
      ],
      "execution_count": 4,
      "metadata": {}
    },
    {
      "cell_type": "code",
      "source": [
        "# Let's look at value counts for a few fields, to get a sense of what this data is\n",
        "loans.loan_status.value_counts()"
      ],
      "outputs": [
        {
          "output_type": "execute_result",
          "execution_count": 5,
          "data": {
            "text/plain": [
              "Fully Paid     51587\n",
              "Charged Off    45248\n",
              "Default         1219\n",
              "Name: loan_status, dtype: int64"
            ]
          },
          "metadata": {}
        }
      ],
      "execution_count": 5,
      "metadata": {}
    },
    {
      "cell_type": "code",
      "source": [
        "# What do people get loans for?\n",
        "loans.purpose.value_counts()"
      ],
      "outputs": [
        {
          "output_type": "execute_result",
          "execution_count": 6,
          "data": {
            "text/plain": [
              "debt_consolidation    58233\n",
              "credit_card           18661\n",
              "other                  5785\n",
              "home_improvement       5454\n",
              "small_business         2231\n",
              "major_purchase         2209\n",
              "car                    1305\n",
              "medical                1163\n",
              "moving                  823\n",
              "wedding                 705\n",
              "house                   626\n",
              "vacation                618\n",
              "educational             131\n",
              "renewable_energy        110\n",
              "Name: purpose, dtype: int64"
            ]
          },
          "metadata": {}
        }
      ],
      "execution_count": 6,
      "metadata": {}
    },
    {
      "cell_type": "code",
      "source": [
        "# What does the distribution of income look like?\n",
        "income_bins=list(range(0,200000,5000))\n",
        "loans.annual_inc.hist(bins=income_bins)"
      ],
      "outputs": [
        {
          "output_type": "execute_result",
          "execution_count": 7,
          "data": {
            "text/plain": [
              "<matplotlib.axes._subplots.AxesSubplot at 0x10c66c898>"
            ]
          },
          "metadata": {}
        },
        {
          "output_type": "display_data",
          "data": {
            "text/plain": [
              "<Figure size 432x288 with 1 Axes>"
            ],
            "image/png": "[encoded data removed]"
          },
          "metadata": {}
        }
      ],
      "execution_count": 7,
      "metadata": {
        "collapsed": true
      }
    },
    {
      "cell_type": "markdown",
      "source": [
        "## 1. A simple classifier\n",
        "Logisitic regression on a handful of features to try to predict who will fall behind on payments.\n",
        "\n",
        "We'll generate features from the following columns\n",
        "\n",
        "- purpose: The purpose of the loan such as: credit_card, debt_consolidation, etc.\n",
        "- installment: The monthly payment on the loan\n",
        "- annual_inc: the annual income of the borrower.\n",
        "- dti: The debt-to-income ratio of the borrower, excluding this loan\n",
        "- pub_rec: The borrower’s number of derogatory public records.\n",
        "\n",
        "And the target variable, that we're trying to predict, is:\n",
        "- loan_status: Fully Paid, Charged Off, or Default"
      ],
      "metadata": {}
    },
    {
      "cell_type": "code",
      "source": [
        "# Encode everything into a feature matrix\n",
        "features = pd.concat(\n",
        "    [\n",
        "        loans.annual_inc/1000, # count in 1000s of dollars, to make the coefficient more easily interpretable\n",
        "        loans.dti,\n",
        "        loans.installment,\n",
        "        loans.pub_rec,\n",
        "        pd.get_dummies(loans.purpose, prefix='purpose'),\n",
        "    ],\n",
        "    axis=1)\n",
        "\n",
        "# Code the target variable as True if we are predicting that this loan gets repaid in full\n",
        "target = loans.loan_status == 'Fully Paid'\n",
        "\nfeatures.head()"
      ],
      "outputs": [
        {
          "output_type": "execute_result",
          "execution_count": 8,
          "data": {
            "text/html": [
              "<div>\n",
              "<style>\n",
              "    .dataframe thead tr:only-child th {\n",
              "        text-align: right;\n",
              "    }\n",
              "\n",
              "    .dataframe thead th {\n",
              "        text-align: left;\n",
              "    }\n",
              "\n",
              "    .dataframe tbody tr th {\n",
              "        vertical-align: top;\n",
              "    }\n",
              "</style>\n",
              "<table border=\"1\" class=\"dataframe\">\n",
              "  <thead>\n",
              "    <tr style=\"text-align: right;\">\n",
              "      <th></th>\n",
              "      <th>annual_inc</th>\n",
              "      <th>dti</th>\n",
              "      <th>installment</th>\n",
              "      <th>pub_rec</th>\n",
              "      <th>purpose_car</th>\n",
              "      <th>purpose_credit_card</th>\n",
              "      <th>purpose_debt_consolidation</th>\n",
              "      <th>purpose_educational</th>\n",
              "      <th>purpose_home_improvement</th>\n",
              "      <th>purpose_house</th>\n",
              "      <th>purpose_major_purchase</th>\n",
              "      <th>purpose_medical</th>\n",
              "      <th>purpose_moving</th>\n",
              "      <th>purpose_other</th>\n",
              "      <th>purpose_renewable_energy</th>\n",
              "      <th>purpose_small_business</th>\n",
              "      <th>purpose_vacation</th>\n",
              "      <th>purpose_wedding</th>\n",
              "    </tr>\n",
              "  </thead>\n",
              "  <tbody>\n",
              "    <tr>\n",
              "      <th>0</th>\n",
              "      <td>30.0</td>\n",
              "      <td>1.00</td>\n",
              "      <td>59.83</td>\n",
              "      <td>0.0</td>\n",
              "      <td>1</td>\n",
              "      <td>0</td>\n",
              "      <td>0</td>\n",
              "      <td>0</td>\n",
              "      <td>0</td>\n",
              "      <td>0</td>\n",
              "      <td>0</td>\n",
              "      <td>0</td>\n",
              "      <td>0</td>\n",
              "      <td>0</td>\n",
              "      <td>0</td>\n",
              "      <td>0</td>\n",
              "      <td>0</td>\n",
              "      <td>0</td>\n",
              "    </tr>\n",
              "    <tr>\n",
              "      <th>1</th>\n",
              "      <td>40.0</td>\n",
              "      <td>5.55</td>\n",
              "      <td>152.39</td>\n",
              "      <td>0.0</td>\n",
              "      <td>0</td>\n",
              "      <td>0</td>\n",
              "      <td>0</td>\n",
              "      <td>0</td>\n",
              "      <td>0</td>\n",
              "      <td>0</td>\n",
              "      <td>0</td>\n",
              "      <td>0</td>\n",
              "      <td>0</td>\n",
              "      <td>0</td>\n",
              "      <td>0</td>\n",
              "      <td>1</td>\n",
              "      <td>0</td>\n",
              "      <td>0</td>\n",
              "    </tr>\n",
              "    <tr>\n",
              "      <th>2</th>\n",
              "      <td>15.0</td>\n",
              "      <td>18.08</td>\n",
              "      <td>121.45</td>\n",
              "      <td>0.0</td>\n",
              "      <td>0</td>\n",
              "      <td>0</td>\n",
              "      <td>0</td>\n",
              "      <td>0</td>\n",
              "      <td>0</td>\n",
              "      <td>0</td>\n",
              "      <td>0</td>\n",
              "      <td>0</td>\n",
              "      <td>0</td>\n",
              "      <td>1</td>\n",
              "      <td>0</td>\n",
              "      <td>0</td>\n",
              "      <td>0</td>\n",
              "      <td>0</td>\n",
              "    </tr>\n",
              "    <tr>\n",
              "      <th>3</th>\n",
              "      <td>30.0</td>\n",
              "      <td>10.08</td>\n",
              "      <td>305.38</td>\n",
              "      <td>0.0</td>\n",
              "      <td>0</td>\n",
              "      <td>0</td>\n",
              "      <td>1</td>\n",
              "      <td>0</td>\n",
              "      <td>0</td>\n",
              "      <td>0</td>\n",
              "      <td>0</td>\n",
              "      <td>0</td>\n",
              "      <td>0</td>\n",
              "      <td>0</td>\n",
              "      <td>0</td>\n",
              "      <td>0</td>\n",
              "      <td>0</td>\n",
              "      <td>0</td>\n",
              "    </tr>\n",
              "    <tr>\n",
              "      <th>4</th>\n",
              "      <td>100.0</td>\n",
              "      <td>7.06</td>\n",
              "      <td>325.74</td>\n",
              "      <td>0.0</td>\n",
              "      <td>0</td>\n",
              "      <td>0</td>\n",
              "      <td>0</td>\n",
              "      <td>0</td>\n",
              "      <td>0</td>\n",
              "      <td>0</td>\n",
              "      <td>0</td>\n",
              "      <td>0</td>\n",
              "      <td>0</td>\n",
              "      <td>1</td>\n",
              "      <td>0</td>\n",
              "      <td>0</td>\n",
              "      <td>0</td>\n",
              "      <td>0</td>\n",
              "    </tr>\n",
              "  </tbody>\n",
              "</table>\n",
              "</div>"
            ],
            "text/plain": [
              "   annual_inc    dti  installment  pub_rec  purpose_car  purpose_credit_card  \\\n",
              "0        30.0   1.00        59.83      0.0            1                    0   \n",
              "1        40.0   5.55       152.39      0.0            0                    0   \n",
              "2        15.0  18.08       121.45      0.0            0                    0   \n",
              "3        30.0  10.08       305.38      0.0            0                    0   \n",
              "4       100.0   7.06       325.74      0.0            0                    0   \n",
              "\n",
              "   purpose_debt_consolidation  purpose_educational  purpose_home_improvement  \\\n",
              "0                           0                    0                         0   \n",
              "1                           0                    0                         0   \n",
              "2                           0                    0                         0   \n",
              "3                           1                    0                         0   \n",
              "4                           0                    0                         0   \n",
              "\n",
              "   purpose_house  purpose_major_purchase  purpose_medical  purpose_moving  \\\n",
              "0              0                       0                0               0   \n",
              "1              0                       0                0               0   \n",
              "2              0                       0                0               0   \n",
              "3              0                       0                0               0   \n",
              "4              0                       0                0               0   \n",
              "\n",
              "   purpose_other  purpose_renewable_energy  purpose_small_business  \\\n",
              "0              0                         0                       0   \n",
              "1              0                         0                       1   \n",
              "2              1                         0                       0   \n",
              "3              0                         0                       0   \n",
              "4              1                         0                       0   \n",
              "\n",
              "   purpose_vacation  purpose_wedding  \n",
              "0                 0                0  \n",
              "1                 0                0  \n",
              "2                 0                0  \n",
              "3                 0                0  \n",
              "4                 0                0  "
            ]
          },
          "metadata": {}
        }
      ],
      "execution_count": 8,
      "metadata": {}
    },
    {
      "cell_type": "code",
      "source": [
        "# Your basic logistic regression\n",
        "lr = LogisticRegression()\n",
        "lr.fit(features.values,target.values)"
      ],
      "outputs": [
        {
          "output_type": "execute_result",
          "execution_count": 9,
          "data": {
            "text/plain": [
              "LogisticRegression(C=1.0, class_weight=None, dual=False, fit_intercept=True,\n",
              "          intercept_scaling=1, max_iter=100, multi_class='ovr', n_jobs=1,\n",
              "          penalty='l2', random_state=None, solver='liblinear', tol=0.0001,\n",
              "          verbose=0, warm_start=False)"
            ]
          },
          "metadata": {}
        }
      ],
      "execution_count": 9,
      "metadata": {}
    },
    {
      "cell_type": "code",
      "source": [
        "# Examine regression coefficients\n",
        "coeffs = pd.DataFrame(np.exp(lr.coef_), columns=features.columns)\n",
        "coeffs"
      ],
      "outputs": [
        {
          "output_type": "execute_result",
          "execution_count": 10,
          "data": {
            "text/html": [
              "<div>\n",
              "<style>\n",
              "    .dataframe thead tr:only-child th {\n",
              "        text-align: right;\n",
              "    }\n",
              "\n",
              "    .dataframe thead th {\n",
              "        text-align: left;\n",
              "    }\n",
              "\n",
              "    .dataframe tbody tr th {\n",
              "        vertical-align: top;\n",
              "    }\n",
              "</style>\n",
              "<table border=\"1\" class=\"dataframe\">\n",
              "  <thead>\n",
              "    <tr style=\"text-align: right;\">\n",
              "      <th></th>\n",
              "      <th>annual_inc</th>\n",
              "      <th>dti</th>\n",
              "      <th>installment</th>\n",
              "      <th>pub_rec</th>\n",
              "      <th>purpose_car</th>\n",
              "      <th>purpose_credit_card</th>\n",
              "      <th>purpose_debt_consolidation</th>\n",
              "      <th>purpose_educational</th>\n",
              "      <th>purpose_home_improvement</th>\n",
              "      <th>purpose_house</th>\n",
              "      <th>purpose_major_purchase</th>\n",
              "      <th>purpose_medical</th>\n",
              "      <th>purpose_moving</th>\n",
              "      <th>purpose_other</th>\n",
              "      <th>purpose_renewable_energy</th>\n",
              "      <th>purpose_small_business</th>\n",
              "      <th>purpose_vacation</th>\n",
              "      <th>purpose_wedding</th>\n",
              "    </tr>\n",
              "  </thead>\n",
              "  <tbody>\n",
              "    <tr>\n",
              "      <th>0</th>\n",
              "      <td>1.0069</td>\n",
              "      <td>0.96986</td>\n",
              "      <td>0.999012</td>\n",
              "      <td>0.928943</td>\n",
              "      <td>1.505477</td>\n",
              "      <td>1.400082</td>\n",
              "      <td>1.144862</td>\n",
              "      <td>1.024311</td>\n",
              "      <td>1.168251</td>\n",
              "      <td>1.058983</td>\n",
              "      <td>1.241957</td>\n",
              "      <td>0.850134</td>\n",
              "      <td>0.754301</td>\n",
              "      <td>0.833169</td>\n",
              "      <td>0.964637</td>\n",
              "      <td>0.52969</td>\n",
              "      <td>1.040044</td>\n",
              "      <td>1.464149</td>\n",
              "    </tr>\n",
              "  </tbody>\n",
              "</table>\n",
              "</div>"
            ],
            "text/plain": [
              "   annual_inc      dti  installment   pub_rec  purpose_car  \\\n",
              "0      1.0069  0.96986     0.999012  0.928943     1.505477   \n",
              "\n",
              "   purpose_credit_card  purpose_debt_consolidation  purpose_educational  \\\n",
              "0             1.400082                    1.144862             1.024311   \n",
              "\n",
              "   purpose_home_improvement  purpose_house  purpose_major_purchase  \\\n",
              "0                  1.168251       1.058983                1.241957   \n",
              "\n",
              "   purpose_medical  purpose_moving  purpose_other  purpose_renewable_energy  \\\n",
              "0         0.850134        0.754301       0.833169                  0.964637   \n",
              "\n",
              "   purpose_small_business  purpose_vacation  purpose_wedding  \n",
              "0                 0.52969          1.040044         1.464149  "
            ]
          },
          "metadata": {}
        }
      ],
      "execution_count": 10,
      "metadata": {}
    },
    {
      "cell_type": "code",
      "source": [
        "# Let's see how well this classifier did\n",
        "pred_repaid = lr.predict(features.values)\n",
        "actual_repaid = target.values\n",
        "metrics.accuracy_score(pred_repaid, actual_repaid)"
      ],
      "outputs": [
        {
          "output_type": "execute_result",
          "execution_count": 11,
          "data": {
            "text/plain": [
              "0.5922144940542966"
            ]
          },
          "metadata": {}
        }
      ],
      "execution_count": 11,
      "metadata": {}
    },
    {
      "cell_type": "code",
      "source": [
        "cm = pd.crosstab(pred_repaid, actual_repaid, rownames=['guessed'], colnames=['actual'])\n",
        "cm"
      ],
      "outputs": [
        {
          "output_type": "execute_result",
          "execution_count": 12,
          "data": {
            "text/html": [
              "<div>\n",
              "<style>\n",
              "    .dataframe thead tr:only-child th {\n",
              "        text-align: right;\n",
              "    }\n",
              "\n",
              "    .dataframe thead th {\n",
              "        text-align: left;\n",
              "    }\n",
              "\n",
              "    .dataframe tbody tr th {\n",
              "        vertical-align: top;\n",
              "    }\n",
              "</style>\n",
              "<table border=\"1\" class=\"dataframe\">\n",
              "  <thead>\n",
              "    <tr style=\"text-align: right;\">\n",
              "      <th>actual</th>\n",
              "      <th>False</th>\n",
              "      <th>True</th>\n",
              "    </tr>\n",
              "    <tr>\n",
              "      <th>guessed</th>\n",
              "      <th></th>\n",
              "      <th></th>\n",
              "    </tr>\n",
              "  </thead>\n",
              "  <tbody>\n",
              "    <tr>\n",
              "      <th>False</th>\n",
              "      <td>23423</td>\n",
              "      <td>16941</td>\n",
              "    </tr>\n",
              "    <tr>\n",
              "      <th>True</th>\n",
              "      <td>23044</td>\n",
              "      <td>34646</td>\n",
              "    </tr>\n",
              "  </tbody>\n",
              "</table>\n",
              "</div>"
            ],
            "text/plain": [
              "actual   False  True \n",
              "guessed              \n",
              "False    23423  16941\n",
              "True     23044  34646"
            ]
          },
          "metadata": {}
        }
      ],
      "execution_count": 12,
      "metadata": {}
    },
    {
      "cell_type": "markdown",
      "source": [
        "Our interest here is the people who were predicted repay the loan, but actually didn't. These are the false positives, and there are a lot of them in this data set (because this data set is artificially enriched so that about half are defaulters.) On the other hand, the false negatives represent people who we guessed would default, but repaid."
      ],
      "metadata": {}
    },
    {
      "cell_type": "code",
      "source": [
        "fp = cm[False][True]  # column, row\n",
        "fp"
      ],
      "outputs": [
        {
          "output_type": "execute_result",
          "execution_count": 13,
          "data": {
            "text/plain": [
              "23044"
            ]
          },
          "metadata": {}
        }
      ],
      "execution_count": 13,
      "metadata": {}
    },
    {
      "cell_type": "code",
      "source": [
        "fn = cm[True][False]\n",
        "fn"
      ],
      "outputs": [
        {
          "output_type": "execute_result",
          "execution_count": 14,
          "data": {
            "text/plain": [
              "16941"
            ]
          },
          "metadata": {}
        }
      ],
      "execution_count": 14,
      "metadata": {}
    },
    {
      "cell_type": "markdown",
      "source": [
        "Who are these people? We we get an idea by looking at their relative income distribution. First, here's everybody:"
      ],
      "metadata": {}
    },
    {
      "cell_type": "code",
      "source": [
        "income_bins=list(range(0,200,5))\n",
        "features.annual_inc.hist(bins=income_bins)\n",
        "features.annual_inc.mean()"
      ],
      "outputs": [
        {
          "output_type": "execute_result",
          "execution_count": 15,
          "data": {
            "text/plain": [
              "69.91291217910539"
            ]
          },
          "metadata": {}
        },
        {
          "output_type": "display_data",
          "data": {
            "image/png": "[encoded data removed]",
            "text/plain": [
              "<Figure size 432x288 with 1 Axes>"
            ]
          },
          "metadata": {}
        }
      ],
      "execution_count": 15,
      "metadata": {}
    },
    {
      "cell_type": "markdown",
      "source": [
        "And here's the income of just the false positives:"
      ],
      "metadata": {}
    },
    {
      "cell_type": "code",
      "source": [
        "fp_loans = features[~actual_repaid & pred_repaid]\n",
        "fp_loans.annual_inc.hist(bins=income_bins)\n",
        "fp_loans.annual_inc.mean()"
      ],
      "outputs": [
        {
          "output_type": "execute_result",
          "execution_count": 16,
          "data": {
            "text/plain": [
              "74.704691478475965"
            ]
          },
          "metadata": {}
        },
        {
          "output_type": "display_data",
          "data": {
            "image/png": "[encoded data removed]",
            "text/plain": [
              "<Figure size 432x288 with 1 Axes>"
            ]
          },
          "metadata": {}
        }
      ],
      "execution_count": 16,
      "metadata": {}
    },
    {
      "cell_type": "markdown",
      "source": [
        "The false positives have a higher income than the average, \\$75,000 vs \\$70,000. This makes sense as these are people who we thought would repay, and the model increases its odds of repayment by 0.5% for every thousand dollars of income. This adds up, as you can see in the high income of those predicted to repay:"
      ],
      "metadata": {}
    },
    {
      "cell_type": "code",
      "source": [
        "pred_repaid_loans = features[pred_repaid]\n",
        "pred_repaid_loans.annual_inc.hist(bins=income_bins)\n",
        "pred_repaid_loans.annual_inc.mean()"
      ],
      "outputs": [
        {
          "output_type": "execute_result",
          "execution_count": 28,
          "data": {
            "text/plain": [
              "79.101337028254463"
            ]
          },
          "metadata": {}
        },
        {
          "output_type": "display_data",
          "data": {
            "image/png": "[encoded data removed]",
            "text/plain": [
              "<Figure size 432x288 with 1 Axes>"
            ]
          },
          "metadata": {}
        }
      ],
      "execution_count": 28,
      "metadata": {}
    },
    {
      "cell_type": "markdown",
      "source": [
        "## 2. A more accurate classifier\n",
        "\n",
        "Let's add more features and use a better classifier to see if we can better predict who will pay off their loans. This is what many lending companies are doing right now.\n",
        "\n",
        "The features we'll add:\n",
        "- loan_amnt: how much was loaned\n",
        "- int_rate: The interest rate of the loan \n",
        "- grade: Lending Club's internal loan quality grade\n",
        "- home_ownership: RENT, OWN, MORTGAGE, OTHER\n",
        "- earliest_cr_line: The month the borrower's earliest reported credit line was opened\n",
        "- emp_length: employment length in years\n"
      ],
      "metadata": {}
    },
    {
      "cell_type": "code",
      "source": [
        "# To clean up this column, we'll just extract the year using a regex\n",
        "loans.earliest_cr_line.head()"
      ],
      "outputs": [
        {
          "output_type": "execute_result",
          "execution_count": 18,
          "data": {
            "text/plain": [
              "0    Apr-1999\n",
              "1    Apr-2004\n",
              "2    Sep-2004\n",
              "3    Apr-2004\n",
              "4    May-1991\n",
              "Name: earliest_cr_line, dtype: object"
            ]
          },
          "metadata": {}
        }
      ],
      "execution_count": 18,
      "metadata": {}
    },
    {
      "cell_type": "code",
      "source": [
        "emp_dict = {\n",
        "     'n/a' : 0,\n",
        "     '< 1 year' : 0.5,\n",
        "     ' < 1 year' : 0.5,  # look, dirty data!\n",
        "     '1 year' : 1,\n",
        "     '2 years' : 2,\n",
        "     '3 years' : 3,\n",
        "     '4 years' : 4,\n",
        "     '5 years' : 5,\n",
        "     '6 years' : 6,\n",
        "     '7 years' : 7,\n",
        "     '8 years' : 8,\n",
        "     '9 years' : 9,\n",
        "     '10+ years' : 10\n",
        "    }\n",
        "\n\n",
        "features2 = pd.concat(\n",
        "    [\n",
        "        features,\n",
        "        loans.loan_amnt,\n",
        "        loans.int_rate,\n",
        "        pd.get_dummies(loans.grade, prefix='grade'),\n",
        "        pd.get_dummies(loans.home_ownership, prefix='home'),\n",
        "        loans.emp_length.replace(emp_dict, inplace=True),\n",
        "        loans.earliest_cr_line.str.extract('(\\d\\d\\d\\d)', expand=False).astype(int)\n",
        "    ],\n",
        "    axis=1)\n"
      ],
      "outputs": [],
      "execution_count": 19,
      "metadata": {}
    },
    {
      "cell_type": "code",
      "source": [
        "lr2 = LogisticRegression()\n",
        "lr2.fit(features2.values, actual_repaid)\n",
        "pred_repaid2 = lr2.predict(features2.values)\n",
        "metrics.accuracy_score(pred_repaid2, actual_repaid)"
      ],
      "outputs": [
        {
          "output_type": "execute_result",
          "execution_count": 20,
          "data": {
            "text/plain": [
              "0.64507312297305563"
            ]
          },
          "metadata": {}
        }
      ],
      "execution_count": 20,
      "metadata": {}
    },
    {
      "cell_type": "code",
      "source": [
        "metrics.accuracy_score(pred_repaid2, actual_repaid) - metrics.accuracy_score(pred_repaid, actual_repaid)"
      ],
      "outputs": [
        {
          "output_type": "execute_result",
          "execution_count": 21,
          "data": {
            "text/plain": [
              "0.052858628918759032"
            ]
          },
          "metadata": {}
        }
      ],
      "execution_count": 21,
      "metadata": {}
    },
    {
      "cell_type": "markdown",
      "source": [
        "Well, we did it. We got a 5.3% accuracy increase from our big data efforts. In real life the impact of using big data could substantial because it's large, percentage-wise, or because the lender has a large number of customers so small changes affect many people.\n",
        "\nThe confusion matrix shows where the improved accuracy comes from:"
      ],
      "metadata": {}
    },
    {
      "cell_type": "code",
      "source": [
        "cm2 = pd.crosstab(pred_repaid2, actual_repaid, rownames=['guessed'], colnames=['actual'])\n",
        "cm2"
      ],
      "outputs": [
        {
          "output_type": "execute_result",
          "execution_count": 22,
          "data": {
            "text/html": [
              "<div>\n",
              "<style>\n",
              "    .dataframe thead tr:only-child th {\n",
              "        text-align: right;\n",
              "    }\n",
              "\n",
              "    .dataframe thead th {\n",
              "        text-align: left;\n",
              "    }\n",
              "\n",
              "    .dataframe tbody tr th {\n",
              "        vertical-align: top;\n",
              "    }\n",
              "</style>\n",
              "<table border=\"1\" class=\"dataframe\">\n",
              "  <thead>\n",
              "    <tr style=\"text-align: right;\">\n",
              "      <th>actual</th>\n",
              "      <th>False</th>\n",
              "      <th>True</th>\n",
              "    </tr>\n",
              "    <tr>\n",
              "      <th>guessed</th>\n",
              "      <th></th>\n",
              "      <th></th>\n",
              "    </tr>\n",
              "  </thead>\n",
              "  <tbody>\n",
              "    <tr>\n",
              "      <th>False</th>\n",
              "      <td>28367</td>\n",
              "      <td>16702</td>\n",
              "    </tr>\n",
              "    <tr>\n",
              "      <th>True</th>\n",
              "      <td>18100</td>\n",
              "      <td>34885</td>\n",
              "    </tr>\n",
              "  </tbody>\n",
              "</table>\n",
              "</div>"
            ],
            "text/plain": [
              "actual   False  True \n",
              "guessed              \n",
              "False    28367  16702\n",
              "True     18100  34885"
            ]
          },
          "metadata": {}
        }
      ],
      "execution_count": 22,
      "metadata": {}
    },
    {
      "cell_type": "code",
      "source": [
        "# Change in false positive rate\n",
        "fp2 = cm2[False][True]  # column, row\n",
        "fp2 - fp"
      ],
      "outputs": [
        {
          "output_type": "execute_result",
          "execution_count": 23,
          "data": {
            "text/plain": [
              "-4944"
            ]
          },
          "metadata": {}
        }
      ],
      "execution_count": 23,
      "metadata": {}
    },
    {
      "cell_type": "code",
      "source": [
        "# Change in false positive rate\n",
        "fn2 = cm2[True][False]  # column, row\n",
        "fn2 - fn"
      ],
      "outputs": [
        {
          "output_type": "execute_result",
          "execution_count": 24,
          "data": {
            "text/plain": [
              "-239"
            ]
          },
          "metadata": {}
        }
      ],
      "execution_count": 24,
      "metadata": {}
    },
    {
      "cell_type": "markdown",
      "source": [
        "This classifer reduces the number of both false negatives and false positives. False negatives are people who repaid their loan, when the old model said they would not, so they have new access to credit that they will successfully repay. On the other hand, a reduction in false positives means we are now denying credit to people who would have gotten it before.\n",
        "\n",
        "Who are the people who we didn't think would repay, but now believe they will?\n"
      ],
      "metadata": {}
    },
    {
      "cell_type": "code",
      "source": [
        "newly_eligible = features[~pred_repaid & pred_repaid2]\n",
        "len(newly_eligible)"
      ],
      "outputs": [
        {
          "output_type": "execute_result",
          "execution_count": 25,
          "data": {
            "text/plain": [
              "12468"
            ]
          },
          "metadata": {}
        }
      ],
      "execution_count": 25,
      "metadata": {}
    },
    {
      "cell_type": "code",
      "source": [
        "newly_eligible.annual_inc.hist(bins=income_bins)\n",
        "newly_eligible.annual_inc.mean()"
      ],
      "outputs": [
        {
          "output_type": "execute_result",
          "execution_count": 26,
          "data": {
            "text/plain": [
              "58.841178647738211"
            ]
          },
          "metadata": {}
        },
        {
          "output_type": "display_data",
          "data": {
            "image/png": "[encoded data removed]",
            "text/plain": [
              "<Figure size 432x288 with 1 Axes>"
            ]
          },
          "metadata": {}
        }
      ],
      "execution_count": 26,
      "metadata": {
        "scrolled": false
      }
    },
    {
      "cell_type": "markdown",
      "source": [
        "In this case the new classifier admitted a bunch of people who are below our average income (of \\$70K), which is a probably a socially desirable outcome -- at least for the ones who are able to repay. How many of the newly admitted will default?"
      ],
      "metadata": {}
    },
    {
      "cell_type": "code",
      "source": [
        "(~pred_repaid & pred_repaid2 & ~actual_repaid).sum()"
      ],
      "outputs": [
        {
          "output_type": "execute_result",
          "execution_count": 27,
          "data": {
            "text/plain": [
              "5046"
            ]
          },
          "metadata": {}
        }
      ],
      "execution_count": 27,
      "metadata": {}
    },
    {
      "cell_type": "markdown",
      "source": [
        "and whether *that* is socially desirable or not depends on what happens when someone defaults, which is a complicated question of law, finance, and power. There's only so far that technical analysis of machine learning can go before it hits the interface with the real world, where everything happens to real people."
      ],
      "metadata": {}
    },
    {
      "cell_type": "code",
      "source": [],
      "outputs": [],
      "execution_count": null,
      "metadata": {
        "collapsed": false,
        "outputHidden": false,
        "inputHidden": false
      }
    }
  ],
  "metadata": {
    "kernelspec": {
      "name": "python3",
      "language": "python",
      "display_name": "Python 3"
    },
    "language_info": {
      "name": "python",
      "version": "3.6.5",
      "mimetype": "text/x-python",
      "codemirror_mode": {
        "name": "ipython",
        "version": 3
      },
      "pygments_lexer": "ipython3",
      "nbconvert_exporter": "python",
      "file_extension": ".py"
    },
    "kernel_info": {
      "name": "python3"
    },
    "nteract": {
      "version": "0.11.6"
    }
  },
  "nbformat": 4,
  "nbformat_minor": 2
}