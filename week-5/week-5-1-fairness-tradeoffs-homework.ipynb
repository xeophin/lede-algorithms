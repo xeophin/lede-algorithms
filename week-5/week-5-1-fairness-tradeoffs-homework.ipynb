{
  "cells": [
    {
      "cell_type": "markdown",
      "source": [
        "## Homework 5-2: Fair prediction\n",
        "\nIn this homework you will experiment with modifying the logistic regression classifier we built on the COMPAS data, tuning it to get equal false positive rates between black and white defendants."
      ],
      "metadata": {}
    },
    {
      "cell_type": "markdown",
      "source": [
        "### Part 0. Loading the data and building the feature matrix.\n",
        "Free code, copied from our class notebook."
      ],
      "metadata": {}
    },
    {
      "cell_type": "code",
      "source": [
        "import pandas as pd\n",
        "import numpy as np\n",
        "import matplotlib.pyplot as plt\n",
        "from sklearn.linear_model import LogisticRegression\n",
        "from sklearn import tree\n",
        "from sklearn import metrics\n",
        "%matplotlib inline"
      ],
      "outputs": [],
      "execution_count": 1,
      "metadata": {
        "collapsed": true
      }
    },
    {
      "cell_type": "code",
      "source": [
        "# Select between data on overall arrests and arrests for violent crimes\n",
        "# This allows quick comparisons of the difference between these two data sets\n",
        "violent = False\n",
        "\n",
        "if violent:\n",
        "    fname ='compas-scores-two-years-violent.csv'\n",
        "    decile_col = 'v_decile_score'\n",
        "    score_col = 'v_score_text'\n",
        "else:\n",
        "    fname ='compas-scores-two-years.csv'\n",
        "    decile_col = 'decile_score'\n",
        "    score_col = 'score_text'\n"
      ],
      "outputs": [],
      "execution_count": 2,
      "metadata": {
        "collapsed": true
      }
    },
    {
      "cell_type": "code",
      "source": [
        "cv = pd.read_csv(fname)"
      ],
      "outputs": [],
      "execution_count": 3,
      "metadata": {
        "collapsed": true
      }
    },
    {
      "cell_type": "code",
      "source": [
        "# Data cleaning ala ProPublica\n",
        "cv = cv[\n",
        "    (cv.days_b_screening_arrest <= 30) &  \n",
        "    (cv.days_b_screening_arrest >= -30) &  \n",
        "    (cv.is_recid != -1) &\n",
        "    (cv.c_charge_degree != 'O') &\n",
        "    (cv[score_col] != 'N/A')\n",
        "]\n",
        "\n",
        "# Keep only black and white races for this analysis\n",
        "cv = cv[(cv.race == 'African-American') | (cv.race=='Caucasian')]\n",
        "         \n",
        "# renumber the rows from 0 again\n",
        "cv.reset_index(inplace=True, drop=True) \n",
        "cv.shape"
      ],
      "outputs": [
        {
          "output_type": "execute_result",
          "execution_count": 4,
          "data": {
            "text/plain": [
              "(5278, 53)"
            ]
          },
          "metadata": {}
        }
      ],
      "execution_count": 4,
      "metadata": {}
    },
    {
      "cell_type": "code",
      "source": [
        "# build up dummy variables for age, race, gender\n",
        "features = pd.concat(\n",
        "    [pd.get_dummies(cv.age_cat, prefix='age'),\n",
        "     pd.get_dummies(cv.sex, prefix='sex'),\n",
        "     pd.get_dummies(cv.c_charge_degree, prefix='degree'), # felony or misdemeanor charge ('f' or 'm')\n",
        "     cv.priors_count],\n",
        "    axis=1)\n",
        "\n",
        "# We should have one less dummy variable than the number of categories, to avoid the \"dummy variable trap\"\n",
        "# See https://www.quora.com/When-do-I-fall-in-the-dummy-variable-trap\n",
        "features.drop(['age_25 - 45', 'sex_Female', 'degree_M'], axis=1, inplace=True)\n",
        "\n",
        "# Try to predict whether someone is re-arrested\n",
        "target = cv.two_year_recid"
      ],
      "outputs": [],
      "execution_count": 5,
      "metadata": {
        "collapsed": true
      }
    },
    {
      "cell_type": "markdown",
      "source": [
        "### Part 1. Your basic logistic regression\n",
        "\n",
        "Fit a logistic regression to this data. Print out the accuracy, PPV, and FPV overall, and for just black vs. white defendants. \n",
        "\nMost of the code you need can be found in the class notebook."
      ],
      "metadata": {}
    },
    {
      "cell_type": "code",
      "source": [
        "# Fit a logistic regression\n",
        "x = features.values\n",
        "y = target.values\n",
        "lr = LogisticRegression()\n",
        "lr.fit(x,y)"
      ],
      "outputs": [
        {
          "output_type": "execute_result",
          "execution_count": 6,
          "data": {
            "text/plain": [
              "LogisticRegression(C=1.0, class_weight=None, dual=False, fit_intercept=True,\n",
              "          intercept_scaling=1, max_iter=100, multi_class='ovr', n_jobs=1,\n",
              "          penalty='l2', random_state=None, solver='liblinear', tol=0.0001,\n",
              "          verbose=0, warm_start=False)"
            ]
          },
          "metadata": {}
        }
      ],
      "execution_count": 6,
      "metadata": {}
    },
    {
      "cell_type": "code",
      "source": [
        "# Predict the result on the training data\n",
        "y_pred = lr.predict(x)\n",
        "guessed=pd.Series(y_pred)==1\n",
        "actual=cv.two_year_recid==1"
      ],
      "outputs": [],
      "execution_count": 9,
      "metadata": {
        "collapsed": true
      }
    },
    {
      "cell_type": "code",
      "source": [
        "# Free code for you!\n",
        "\n",
        "# cm is a confusion matrix. The rows are guessed, the columns are actual \n",
        "def print_ppv_fpv(cm):\n",
        "    # the indices here are [col][row] or [actual][guessed]\n",
        "    TN = cm[False][False]   \n",
        "    TP = cm[True][True]\n",
        "    FN = cm[True][False]\n",
        "    FP = cm[False][True]\n",
        "    print('Accuracy: ', (TN+TP)/(TN+TP+FN+FP))\n",
        "    print('PPV: ', TP / (TP + FP))\n",
        "    print('FPR: ', FP / (FP + TN))\n",
        "    print('FNR: ', FN / (FN + TP))\n",
        "    print()\n",
        "\n",
        "def print_metrics(guessed, actual):\n",
        "    cm = pd.crosstab(guessed, actual, rownames=['guessed'], colnames=['actual'])\n",
        "    print(cm)\n",
        "    print()\n",
        "    print_ppv_fpv(cm)    \n"
      ],
      "outputs": [],
      "execution_count": 11,
      "metadata": {
        "collapsed": true
      }
    },
    {
      "cell_type": "code",
      "source": [
        "# Print out the accuracy, PPV, FPV, FNV for\n",
        "#  - everyone \n",
        "print('Everyone')\n",
        "print('========')\n",
        "print_metrics(guessed, actual)\n",
        "\n",
        "#  - just white defendants\n",
        "print('Caucasian')\n",
        "print('=====')\n",
        "subset = cv.race == 'Caucasian'\n",
        "print_metrics(guessed[subset], actual[subset])\n",
        "\n\n",
        "#  - just black defendants\n",
        "print('African-American')\n",
        "print('================')\n",
        "subset = cv.race == 'African-American'\n",
        "print_metrics(guessed[subset], actual[subset])\n"
      ],
      "outputs": [
        {
          "output_type": "stream",
          "name": "stdout",
          "text": [
            "Everyone\n",
            "========\n",
            "actual   False  True \n",
            "guessed              \n",
            "False     2076   1047\n",
            "True       719   1436\n",
            "\n",
            "Accuracy:  0.665403561955286\n",
            "PPV:  0.6663573085846868\n",
            "FPR:  0.25724508050089445\n",
            "FNR:  0.4216673378977044\n",
            "\n",
            "Caucasian\n",
            "=====\n",
            "actual   False  True \n",
            "guessed              \n",
            "False     1061    493\n",
            "True       220    329\n",
            "\n",
            "Accuracy:  0.6609605325725154\n",
            "PPV:  0.599271402550091\n",
            "FPR:  0.1717408274785324\n",
            "FNR:  0.5997566909975669\n",
            "\n",
            "African-American\n",
            "================\n",
            "actual   False  True \n",
            "guessed              \n",
            "False     1015    554\n",
            "True       499   1107\n",
            "\n",
            "Accuracy:  0.6683464566929134\n",
            "PPV:  0.6892901618929016\n",
            "FPR:  0.3295904887714663\n",
            "FNR:  0.33353401565322094\n",
            "\n"
          ]
        }
      ],
      "execution_count": 12,
      "metadata": {}
    },
    {
      "cell_type": "markdown",
      "source": [
        "### Part 2. Equalizing false positive rates\n",
        "Now you'll build your own classifier that equalizes the false positive rates between white and non-white defendants. There are many ways to do this. We're going to use race explicitly to set a different threshold for white and black defendants. \n",
        "\nTo begin with, we are going to write our own prediction function, starting with this one:"
      ],
      "metadata": {}
    },
    {
      "cell_type": "code",
      "source": [
        "# This takes a trained LogisticRegression, a set of features, and a threshold\n",
        "# Predicts true wherever the regression gives a probability > threshold\n",
        "# Note: returns a numpy array, not a dataframe\n",
        "def predict_threshold(classifier, features, threshold):\n",
        "    # predict_proba returns two columns: probability of true, and probability of false\n",
        "    # [:,1] selects the second column\n",
        "    return classifier.predict_proba(features)[:,1] > threshold"
      ],
      "outputs": [],
      "execution_count": 13,
      "metadata": {
        "collapsed": true
      }
    },
    {
      "cell_type": "code",
      "source": [
        "# This is the same as lr.predict(x) when we use a threshold of 0.5\n",
        "guessed2 = predict_threshold(lr, x, 0.5)"
      ],
      "outputs": [],
      "execution_count": 14,
      "metadata": {
        "collapsed": true
      }
    },
    {
      "cell_type": "markdown",
      "source": [
        "Now adapt this function so it takes two thresholds `a_threshold` and `b_threshold`, and a column of values `use_b` which means use the `b_threshold` for any row where it's true. The idea is to allow us to adjust the thresholds independently on two different groups."
      ],
      "metadata": {}
    },
    {
      "cell_type": "code",
      "source": [
        "# Write a function which takes the following arguments\n",
        "def predict_threshold_groups(classifier, features, a_threshold, b_threshold, use_b):\n",
        "    # calculate probabilities from our classifier\n",
        "    \n",
        "    # Create one Series which is True where the probabilities are bigger than a_threshold, \n",
        "    # and another for b_threshold\n",
        "    series_a = predict_threshold(classifier, features, a_threshold)\n",
        "    series_b = predict_threshold(classifier, features, b_threshold)\n",
        "    \n",
        "    # Then combine them, selecting values from either Series according to use_b\n",
        "    return np.where(use_b, series_b, series_a)"
      ],
      "outputs": [],
      "execution_count": 15,
      "metadata": {
        "collapsed": true
      }
    },
    {
      "cell_type": "markdown",
      "source": [
        "Now use this function with different thresholds for black and white defendants. Print out the confusion martrix, accuracy, FPV, and PPV for the results -- again, overall and for each race."
      ],
      "metadata": {}
    },
    {
      "cell_type": "code",
      "source": [
        "# Predict recidivism with different thresholds for black and white\n",
        "is_caucasian = cv.race == 'Caucasian'\n",
        "is_african_american = cv.race == 'African-American'\n",
        "\n",
        "guessed = predict_threshold_groups(lr, x, 0.5, 0.587, is_african_american)\n",
        "\n\n",
        "# Print out metrics for everyone, black, and white\n",
        "print('Everyone')\n",
        "print('========')\n",
        "print_metrics(guessed, actual)\n",
        "\n",
        "print('Caucasian')\n",
        "print('=====')\n",
        "print_metrics(guessed[is_caucasian], actual[is_caucasian])\n",
        "\n",
        "print('African-American')\n",
        "print('================')\n",
        "print_metrics(guessed[is_african_american], actual[is_african_american])\n"
      ],
      "outputs": [
        {
          "output_type": "stream",
          "name": "stdout",
          "text": [
            "Everyone\n",
            "========\n",
            "actual   False  True \n",
            "guessed              \n",
            "False     2305   1360\n",
            "True       490   1123\n",
            "\n",
            "Accuracy:  0.6494884425918909\n",
            "PPV:  0.6962182269063856\n",
            "FPR:  0.17531305903398928\n",
            "FNR:  0.5477245267821184\n",
            "\n",
            "Caucasian\n",
            "=====\n",
            "actual   False  True \n",
            "guessed              \n",
            "False     1061    493\n",
            "True       220    329\n",
            "\n",
            "Accuracy:  0.6609605325725154\n",
            "PPV:  0.599271402550091\n",
            "FPR:  0.1717408274785324\n",
            "FNR:  0.5997566909975669\n",
            "\n",
            "African-American\n",
            "================\n",
            "actual   False  True \n",
            "guessed              \n",
            "False     1244    867\n",
            "True       270    794\n",
            "\n",
            "Accuracy:  0.6418897637795276\n",
            "PPV:  0.7462406015037594\n",
            "FPR:  0.178335535006605\n",
            "FNR:  0.5219747140276941\n",
            "\n"
          ]
        }
      ],
      "execution_count": 42,
      "metadata": {
        "tags": []
      }
    },
    {
      "cell_type": "markdown",
      "source": [
        "Tune the thresholds so the False Positive Rate is the same for white and black defendants.\n",
        "- What did you change to achive this?\n",
        "- What effect does this have on the overall accuracy, FPR, FNR, and PPV?\n",
        "- What effect does this have on the PPV for white and black?\n"
      ],
      "metadata": {}
    },
    {
      "cell_type": "markdown",
      "source": [
        "In this case I raised the threshold for black defendants from 0.5 to 0.585, which equalizes the FPR at about 17%. The overall accuracy fell only slightly from 66% to 65%, and the accuracy for black defendants fell from 67% to 64%. But the PPV for black defendants -- the probability that someone who is categorized as high risk will actually be re-arrested within two years -- increased from 69% to 75%, because the higher threshold removes some of the people who were not particularly risky from the high risk group. The cost is a higher false negative rate for black defendents, which has gone up from 33% to 52%"
      ],
      "metadata": {}
    },
    {
      "cell_type": "markdown",
      "source": [
        "### Bonus: Predicting race and the impossibility of blinding\n",
        "So far we've excluded race as a predictive variable, hoping that this would make the results unbiased. But is race encoded in the other data points? To find out, alter the regression above to try to predict race from the other demographic and criminal history variables.\n",
        "\nHow accurately can you predict race just on these factors alone?"
      ],
      "metadata": {}
    },
    {
      "cell_type": "code",
      "source": [
        "# Use cross validation and the classifier of your choice to see how well you can predict race\n",
        "from sklearn.model_selection import cross_val_score\n",
        "\n",
        "my_classifier = tree.DecisionTreeClassifier()\n",
        "scores = cross_val_score(my_classifier, \n",
        "                         features.values, \n",
        "                         pd.get_dummies(cv.race, prefix='race')['race_African-American'].values,\n",
        "                         cv=5)\n",
        "scores"
      ],
      "outputs": [
        {
          "output_type": "execute_result",
          "execution_count": 47,
          "data": {
            "text/plain": [
              "array([0.64867424, 0.63920455, 0.63541667, 0.62654028, 0.63981043])"
            ]
          },
          "metadata": {}
        }
      ],
      "execution_count": 47,
      "metadata": {}
    },
    {
      "cell_type": "markdown",
      "source": [
        "Let's compare this accuracy to just guessing one race all the time. Which race is more common in this data and what would the accuracy be if we just always guessed that race."
      ],
      "metadata": {}
    },
    {
      "cell_type": "code",
      "source": [
        "# What is the most common race in our arrest data?\n",
        "# African-American"
      ],
      "outputs": [],
      "execution_count": null,
      "metadata": {}
    },
    {
      "cell_type": "code",
      "source": [
        "# What is the accuracy if we always guess the most common race?\n",
        "cv.race.value_counts()"
      ],
      "outputs": [
        {
          "output_type": "execute_result",
          "execution_count": 48,
          "data": {
            "text/plain": [
              "African-American    3175\n",
              "Caucasian           2103\n",
              "Name: race, dtype: int64"
            ]
          },
          "metadata": {}
        }
      ],
      "execution_count": 48,
      "metadata": {}
    },
    {
      "cell_type": "code",
      "source": [
        "3175/(3175+2103)"
      ],
      "outputs": [
        {
          "output_type": "execute_result",
          "execution_count": 49,
          "data": {
            "text/plain": [
              "0.6015536187949981"
            ]
          },
          "metadata": {}
        }
      ],
      "execution_count": 49,
      "metadata": {
        "collapsed": false,
        "outputHidden": false,
        "inputHidden": false
      }
    },
    {
      "cell_type": "markdown",
      "source": [
        "Based on this, how much information about race \"leaks\" into our original recidivism predictor, even if we don't give it the race variable as a feature?"
      ],
      "metadata": {}
    },
    {
      "cell_type": "markdown",
      "source": [
        "The Decision Tree Classifier had a 2.5–4% better chance at guessing the race correctly."
      ],
      "metadata": {}
    },
    {
      "cell_type": "markdown",
      "source": [],
      "metadata": {}
    }
  ],
  "metadata": {
    "kernelspec": {
      "name": "python3",
      "language": "python",
      "display_name": "Python 3"
    },
    "language_info": {
      "name": "python",
      "version": "3.6.5",
      "mimetype": "text/x-python",
      "codemirror_mode": {
        "name": "ipython",
        "version": 3
      },
      "pygments_lexer": "ipython3",
      "nbconvert_exporter": "python",
      "file_extension": ".py"
    },
    "kernel_info": {
      "name": "python3"
    },
    "nteract": {
      "version": "0.11.6"
    }
  },
  "nbformat": 4,
  "nbformat_minor": 2
}