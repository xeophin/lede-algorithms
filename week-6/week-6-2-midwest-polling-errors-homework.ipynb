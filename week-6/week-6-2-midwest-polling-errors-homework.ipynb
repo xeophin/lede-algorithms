{
  "cells": [
    {
      "cell_type": "markdown",
      "source": [
        "# Homework 6-2: Correlated polling errors in 2016\n",
        "\n",
        "In this homework you will develop a slightly higher fidelity simulation of the correlated polling errors in the 2016 election. Instead of saying that the polling error for all states is identical, we'll do something closer to reality: the midwest will move as a block.\n"
      ],
      "metadata": {}
    },
    {
      "cell_type": "code",
      "source": [
        "import math\n",
        "import pandas as pd\n",
        "import numpy as np\n",
        "import matplotlib.pyplot as plt\n",
        "%matplotlib inline"
      ],
      "outputs": [],
      "execution_count": 1,
      "metadata": {
        "collapsed": true
      }
    },
    {
      "cell_type": "markdown",
      "source": [
        "## Part 0: The Setup\n",
        "Loads the data, copied from your class notebook"
      ],
      "metadata": {}
    },
    {
      "cell_type": "code",
      "source": [
        "# Load a CSV of electoral college votes for each state. \n",
        "# Ref: https://www.archives.gov/federal-register/electoral-college/allocation.html\n",
        "states = pd.read_csv('data/states.csv')\n",
        "states.head()"
      ],
      "outputs": [
        {
          "output_type": "execute_result",
          "execution_count": 2,
          "data": {
            "text/plain": [
              "         name abbr  electoral_votes\n",
              "0     Alabama   AL                9\n",
              "1      Alaska   AK                3\n",
              "2     Arizona   AZ               11\n",
              "3    Arkansas   AR                6\n",
              "4  California   CA               55"
            ],
            "text/html": [
              "<div>\n",
              "<style scoped>\n",
              "    .dataframe tbody tr th:only-of-type {\n",
              "        vertical-align: middle;\n",
              "    }\n",
              "\n",
              "    .dataframe tbody tr th {\n",
              "        vertical-align: top;\n",
              "    }\n",
              "\n",
              "    .dataframe thead th {\n",
              "        text-align: right;\n",
              "    }\n",
              "</style>\n",
              "<table border=\"1\" class=\"dataframe\">\n",
              "  <thead>\n",
              "    <tr style=\"text-align: right;\">\n",
              "      <th></th>\n",
              "      <th>name</th>\n",
              "      <th>abbr</th>\n",
              "      <th>electoral_votes</th>\n",
              "    </tr>\n",
              "  </thead>\n",
              "  <tbody>\n",
              "    <tr>\n",
              "      <th>0</th>\n",
              "      <td>Alabama</td>\n",
              "      <td>AL</td>\n",
              "      <td>9</td>\n",
              "    </tr>\n",
              "    <tr>\n",
              "      <th>1</th>\n",
              "      <td>Alaska</td>\n",
              "      <td>AK</td>\n",
              "      <td>3</td>\n",
              "    </tr>\n",
              "    <tr>\n",
              "      <th>2</th>\n",
              "      <td>Arizona</td>\n",
              "      <td>AZ</td>\n",
              "      <td>11</td>\n",
              "    </tr>\n",
              "    <tr>\n",
              "      <th>3</th>\n",
              "      <td>Arkansas</td>\n",
              "      <td>AR</td>\n",
              "      <td>6</td>\n",
              "    </tr>\n",
              "    <tr>\n",
              "      <th>4</th>\n",
              "      <td>California</td>\n",
              "      <td>CA</td>\n",
              "      <td>55</td>\n",
              "    </tr>\n",
              "  </tbody>\n",
              "</table>\n",
              "</div>"
            ]
          },
          "metadata": {}
        }
      ],
      "execution_count": 2,
      "metadata": {}
    },
    {
      "cell_type": "code",
      "source": [
        "# We'll use a little Pandas trick to make merging in the poll data easier: \n",
        "# set the index to the abbreviation\n",
        "states = states.set_index(states.abbr)\n",
        "\n",
        "# And add the columns we'll need: Trump, Clinton, margin_of_error, all initially blank\n",
        "states['Trump'] = np.nan\n",
        "states['Clinton'] = np.nan\n",
        "states['margin_of_error'] = np.nan\n",
        "\nstates.head()"
      ],
      "outputs": [
        {
          "output_type": "execute_result",
          "execution_count": 3,
          "data": {
            "text/plain": [
              "            name abbr  electoral_votes  Trump  Clinton  margin_of_error\n",
              "abbr                                                                   \n",
              "AL       Alabama   AL                9    NaN      NaN              NaN\n",
              "AK        Alaska   AK                3    NaN      NaN              NaN\n",
              "AZ       Arizona   AZ               11    NaN      NaN              NaN\n",
              "AR      Arkansas   AR                6    NaN      NaN              NaN\n",
              "CA    California   CA               55    NaN      NaN              NaN"
            ],
            "text/html": [
              "<div>\n",
              "<style scoped>\n",
              "    .dataframe tbody tr th:only-of-type {\n",
              "        vertical-align: middle;\n",
              "    }\n",
              "\n",
              "    .dataframe tbody tr th {\n",
              "        vertical-align: top;\n",
              "    }\n",
              "\n",
              "    .dataframe thead th {\n",
              "        text-align: right;\n",
              "    }\n",
              "</style>\n",
              "<table border=\"1\" class=\"dataframe\">\n",
              "  <thead>\n",
              "    <tr style=\"text-align: right;\">\n",
              "      <th></th>\n",
              "      <th>name</th>\n",
              "      <th>abbr</th>\n",
              "      <th>electoral_votes</th>\n",
              "      <th>Trump</th>\n",
              "      <th>Clinton</th>\n",
              "      <th>margin_of_error</th>\n",
              "    </tr>\n",
              "    <tr>\n",
              "      <th>abbr</th>\n",
              "      <th></th>\n",
              "      <th></th>\n",
              "      <th></th>\n",
              "      <th></th>\n",
              "      <th></th>\n",
              "      <th></th>\n",
              "    </tr>\n",
              "  </thead>\n",
              "  <tbody>\n",
              "    <tr>\n",
              "      <th>AL</th>\n",
              "      <td>Alabama</td>\n",
              "      <td>AL</td>\n",
              "      <td>9</td>\n",
              "      <td>NaN</td>\n",
              "      <td>NaN</td>\n",
              "      <td>NaN</td>\n",
              "    </tr>\n",
              "    <tr>\n",
              "      <th>AK</th>\n",
              "      <td>Alaska</td>\n",
              "      <td>AK</td>\n",
              "      <td>3</td>\n",
              "      <td>NaN</td>\n",
              "      <td>NaN</td>\n",
              "      <td>NaN</td>\n",
              "    </tr>\n",
              "    <tr>\n",
              "      <th>AZ</th>\n",
              "      <td>Arizona</td>\n",
              "      <td>AZ</td>\n",
              "      <td>11</td>\n",
              "      <td>NaN</td>\n",
              "      <td>NaN</td>\n",
              "      <td>NaN</td>\n",
              "    </tr>\n",
              "    <tr>\n",
              "      <th>AR</th>\n",
              "      <td>Arkansas</td>\n",
              "      <td>AR</td>\n",
              "      <td>6</td>\n",
              "      <td>NaN</td>\n",
              "      <td>NaN</td>\n",
              "      <td>NaN</td>\n",
              "    </tr>\n",
              "    <tr>\n",
              "      <th>CA</th>\n",
              "      <td>California</td>\n",
              "      <td>CA</td>\n",
              "      <td>55</td>\n",
              "      <td>NaN</td>\n",
              "      <td>NaN</td>\n",
              "      <td>NaN</td>\n",
              "    </tr>\n",
              "  </tbody>\n",
              "</table>\n",
              "</div>"
            ]
          },
          "metadata": {}
        }
      ],
      "execution_count": 3,
      "metadata": {}
    },
    {
      "cell_type": "code",
      "source": [
        "# Not all polls have reported margins of error, but we can figure it out if we know the number of people surveyed.\n",
        "# This function salculate the 95% margin of error, using the classic formula. \n",
        "# Ref: https://onlinecourses.science.psu.edu/stat100/node/56/\n",
        "def calc_moe(sample_size, proportion):\n",
        "    return 100 * 1.96 * math.sqrt((proportion*(1-proportion)/sample_size))"
      ],
      "outputs": [],
      "execution_count": 4,
      "metadata": {
        "collapsed": true
      }
    },
    {
      "cell_type": "code",
      "source": [
        "# Now we'll load polls for each state and pick one poll\n",
        "for abbr in states.abbr: \n",
        "    polls = pd.read_csv('data/' + abbr + '.tsv', sep='\\t')\n",
        "    polls = polls[polls.sample_subpopulation == 'Likely Voters']\n",
        "    poll = polls.tail(1).squeeze() \n",
        "\n",
        "    states.loc[abbr,'Trump'] = poll.Trump\n",
        "    states.loc[abbr,'Clinton'] = poll.Clinton\n",
        "\n",
        "    # There may be no MOE reported for this poll. If not, calculate it\n",
        "    moe = poll.margin_of_error\n",
        "    if pd.isnull(moe):\n",
        "        proportion = poll.Trump / 100  # or Clinton, will give nearly same result \n",
        "        moe = calc_moe(poll.observations, proportion)\n",
        "\n    states.loc[abbr,'margin_of_error'] = moe"
      ],
      "outputs": [],
      "execution_count": 5,
      "metadata": {
        "collapsed": true
      }
    },
    {
      "cell_type": "code",
      "source": [
        "# Helper function to interpret results\n",
        "def plot_results(results):\n",
        "    plt.hist(results, bins=range(150, 500, 10), density=True)\n",
        "    plt.axvline(270, color='black', linestyle='dashed');\n",
        "    print(\"Clinton win probability: \" + str((results>=270).mean()))"
      ],
      "outputs": [],
      "execution_count": 6,
      "metadata": {
        "collapsed": true
      }
    },
    {
      "cell_type": "markdown",
      "source": [
        "## Part 1: The correlated Midwest"
      ],
      "metadata": {}
    },
    {
      "cell_type": "markdown",
      "source": [
        "\nThis is the function we developed in class that simulates an election where all polling errors for all states are identical."
      ],
      "metadata": {}
    },
    {
      "cell_type": "code",
      "source": [
        "def simulate_election_national_error(n_times, polling_error_stddev):\n",
        "    # Start with 3 votes for DC (for which we have no polls, but went solidly Clinton)        \n",
        "    clinton_ec_votes = np.zeros(n_times) + 3 \n",
        "    \n",
        "    # For each \"election\", add in the same random polling error for every state\n",
        "    polling_errors = np.random.normal(0, polling_error_stddev, n_times)\n",
        "    \n",
        "    # run n_times simulated 'elections' for each state\n",
        "    for abbr in states.abbr:\n",
        "        mean = states['Clinton'][abbr] - states['Trump'][abbr]\n",
        "        stddev = states['margin_of_error'][abbr]\n",
        "        \n",
        "        results = np.random.normal(mean, stddev, n_times)\n",
        "        \n",
        "        results += polling_errors\n",
        "        \n",
        "        # Add ec votes for every election where Clinton won this state\n",
        "        clinton_ec_votes[results>0] += states['electoral_votes'][abbr]\n",
        "    \n",
        "    return clinton_ec_votes"
      ],
      "outputs": [],
      "execution_count": 7,
      "metadata": {
        "collapsed": true
      }
    },
    {
      "cell_type": "markdown",
      "source": [
        "You mission is to turn it into a function that just adds these polling errors to the Midwest states."
      ],
      "metadata": {}
    },
    {
      "cell_type": "code",
      "source": [
        "# Which states are the \"midwest\"? Nobody is quite sure!\n",
        "# See https://fivethirtyeight.com/features/what-states-are-in-the-midwest/\n",
        "# This definition corresponds to states popularly called \"midwest\", but it's more or less arbitrary\n",
        "midwest_states = ['MN', 'IA', 'MO', 'WI', 'IL', 'MI', 'IN', 'OH']"
      ],
      "outputs": [],
      "execution_count": 8,
      "metadata": {
        "collapsed": true
      }
    },
    {
      "cell_type": "code",
      "source": [
        "def simulate_election_midwest_error(n_times, polling_error_stddev):\n",
        "    # mostly copied from above, but add in polling error only for midwest states\n",
        "    \n",
        "    # Start with 3 votes for DC (for which we have no polls, but went solidly Clinton)        \n",
        "    clinton_ec_votes = np.zeros(n_times) + 3 \n",
        "    \n",
        "    # For each \"election\", add in the same random polling error for every state\n",
        "    polling_errors = np.random.normal(0, polling_error_stddev, n_times)\n",
        "    \n",
        "    # run n_times simulated 'elections' for each state\n",
        "    for abbr in states.abbr:\n",
        "        mean = states['Clinton'][abbr] - states['Trump'][abbr]\n",
        "        stddev = states['margin_of_error'][abbr]\n",
        "        \n",
        "        results = np.random.normal(mean, stddev, n_times)\n",
        "        \n",
        "        if abbr in midwest_states:\n",
        "            results += polling_errors\n",
        "        \n",
        "        # Add ec votes for every election where Clinton won this state\n",
        "        clinton_ec_votes[results>0] += states['electoral_votes'][abbr]\n",
        "    \n",
        "    return clinton_ec_votes\n"
      ],
      "outputs": [],
      "execution_count": 23,
      "metadata": {
        "collapsed": true
      }
    },
    {
      "cell_type": "markdown",
      "source": [
        "When you've written this function, plot the results and Clinton win probability (according to our model) with up to a 4% polling error across the Midwest. This is similar to [what we actually saw](https://www.nytimes.com/interactive/2016/11/13/upshot/putting-the-polling-miss-of-2016-in-perspective.html)."
      ],
      "metadata": {}
    },
    {
      "cell_type": "code",
      "source": [
        "# Your answer here\n",
        "plot_results(simulate_election_midwest_error(100000, 4))"
      ],
      "outputs": [
        {
          "output_type": "stream",
          "name": "stdout",
          "text": [
            "Clinton win probability: 0.92688\n"
          ]
        },
        {
          "output_type": "display_data",
          "data": {
            "text/plain": [
              "<Figure size 432x288 with 1 Axes>"
            ],
            "image/png": "[encoded data removed]"
          },
          "metadata": {}
        }
      ],
      "execution_count": 25,
      "metadata": {}
    },
    {
      "cell_type": "code",
      "source": [],
      "outputs": [],
      "execution_count": null,
      "metadata": {
        "collapsed": false,
        "outputHidden": false,
        "inputHidden": false
      }
    }
  ],
  "metadata": {
    "kernelspec": {
      "name": "python3",
      "language": "python",
      "display_name": "Python 3"
    },
    "language_info": {
      "name": "python",
      "version": "3.6.5",
      "mimetype": "text/x-python",
      "codemirror_mode": {
        "name": "ipython",
        "version": 3
      },
      "pygments_lexer": "ipython3",
      "nbconvert_exporter": "python",
      "file_extension": ".py"
    },
    "kernel_info": {
      "name": "python3"
    },
    "nteract": {
      "version": "0.11.6"
    }
  },
  "nbformat": 4,
  "nbformat_minor": 2
}