{
 "cells": [
  {
   "cell_type": "markdown",
   "metadata": {},
   "source": [
    "# Homework 6-2: Correlated polling errors in 2016\n",
    "\n",
    "In this homework you will develop a slightly higher fidelity simulation of the correlated polling errors in the 2016 election. Instead of saying that the polling error for all states is identical, we'll do something closer to reality: the midwest will move as a block.\n"
   ]
  },
  {
   "cell_type": "code",
   "execution_count": null,
   "metadata": {
    "collapsed": true
   },
   "outputs": [],
   "source": [
    "import math\n",
    "import pandas as pd\n",
    "import numpy as np\n",
    "import matplotlib.pyplot as plt\n",
    "%matplotlib inline"
   ]
  },
  {
   "cell_type": "markdown",
   "metadata": {},
   "source": [
    "## Part 0: The Setup\n",
    "Loads the data, copied from your class notebook"
   ]
  },
  {
   "cell_type": "code",
   "execution_count": null,
   "metadata": {},
   "outputs": [],
   "source": [
    "# Load a CSV of electoral college votes for each state. \n",
    "# Ref: https://www.archives.gov/federal-register/electoral-college/allocation.html\n",
    "states = pd.read_csv('data/states.csv')\n",
    "states.head()"
   ]
  },
  {
   "cell_type": "code",
   "execution_count": null,
   "metadata": {},
   "outputs": [],
   "source": [
    "# We'll use a little Pandas trick to make merging in the poll data easier: \n",
    "# set the index to the abbreviation\n",
    "states = states.set_index(states.abbr)\n",
    "\n",
    "# And add the columns we'll need: Trump, Clinton, margin_of_error, all initially blank\n",
    "states['Trump'] = np.nan\n",
    "states['Clinton'] = np.nan\n",
    "states['margin_of_error'] = np.nan\n",
    "\n",
    "states.head()"
   ]
  },
  {
   "cell_type": "code",
   "execution_count": null,
   "metadata": {
    "collapsed": true
   },
   "outputs": [],
   "source": [
    "# Not all polls have reported margins of error, but we can figure it out if we know the number of people surveyed.\n",
    "# This function salculate the 95% margin of error, using the classic formula. \n",
    "# Ref: https://onlinecourses.science.psu.edu/stat100/node/56/\n",
    "def calc_moe(sample_size, proportion):\n",
    "    return 100 * 1.96 * math.sqrt((proportion*(1-proportion)/sample_size))"
   ]
  },
  {
   "cell_type": "code",
   "execution_count": null,
   "metadata": {
    "collapsed": true
   },
   "outputs": [],
   "source": [
    "# Now we'll load polls for each state and pick one poll\n",
    "for abbr in states.abbr: \n",
    "    polls = pd.read_csv('data/' + abbr + '.tsv', sep='\\t')\n",
    "    polls = polls[polls.sample_subpopulation == 'Likely Voters']\n",
    "    poll = polls.tail(1).squeeze() \n",
    "\n",
    "    states.loc[abbr,'Trump'] = poll.Trump\n",
    "    states.loc[abbr,'Clinton'] = poll.Clinton\n",
    "\n",
    "    # There may be no MOE reported for this poll. If not, calculate it\n",
    "    moe = poll.margin_of_error\n",
    "    if pd.isnull(moe):\n",
    "        proportion = poll.Trump / 100  # or Clinton, will give nearly same result \n",
    "        moe = calc_moe(poll.observations, proportion)\n",
    "\n",
    "    states.loc[abbr,'margin_of_error'] = moe"
   ]
  },
  {
   "cell_type": "code",
   "execution_count": null,
   "metadata": {
    "collapsed": true
   },
   "outputs": [],
   "source": [
    "# Helper function to interpret results\n",
    "def plot_results(results):\n",
    "    plt.hist(results, bins=range(150, 500, 10), density=True)\n",
    "    plt.axvline(270, color='black', linestyle='dashed');\n",
    "    print(\"Clinton win probability: \" + str((results>=270).mean()))"
   ]
  },
  {
   "cell_type": "markdown",
   "metadata": {},
   "source": [
    "## Part 1: The correlated Midwest"
   ]
  },
  {
   "cell_type": "markdown",
   "metadata": {},
   "source": [
    "This is the function we developed in class that simulates an election where all polling errors for all states are identical."
   ]
  },
  {
   "cell_type": "code",
   "execution_count": null,
   "metadata": {
    "collapsed": true
   },
   "outputs": [],
   "source": [
    "def simulate_election_national_error(n_times, polling_error_stddev):\n",
    "    # Start with 3 votes for DC (for which we have no polls, but went solidly Clinton)        \n",
    "    clinton_ec_votes = np.zeros(n_times) + 3 \n",
    "    \n",
    "    # For each \"election\", add in the same random polling error for every state\n",
    "    polling_errors = np.random.normal(0, polling_error_stddev, n_times)\n",
    "    \n",
    "    # run n_times simulated 'elections' for each state\n",
    "    for abbr in states.abbr:\n",
    "        mean = states['Clinton'][abbr] - states['Trump'][abbr]\n",
    "        stddev = states['margin_of_error'][abbr]\n",
    "        \n",
    "        results = np.random.normal(mean, stddev, n_times)\n",
    "        \n",
    "        results += polling_errors\n",
    "        \n",
    "        # Add ec votes for every election where Clinton won this state\n",
    "        clinton_ec_votes[results>0] += states['electoral_votes'][abbr]\n",
    "    \n",
    "    return clinton_ec_votes"
   ]
  },
  {
   "cell_type": "markdown",
   "metadata": {},
   "source": [
    "You mission is to turn it into a function that just adds these polling errors to the Midwest states."
   ]
  },
  {
   "cell_type": "code",
   "execution_count": null,
   "metadata": {
    "collapsed": true
   },
   "outputs": [],
   "source": [
    "# Which states are the \"midwest\"? Nobody is quite sure!\n",
    "# See https://fivethirtyeight.com/features/what-states-are-in-the-midwest/\n",
    "# This definition corresponds to states popularly called \"midwest\", but it's more or less arbitrary\n",
    "midwest_states = ['MN', 'IA', 'MO', 'WI', 'IL', 'MI', 'IN', 'OH']"
   ]
  },
  {
   "cell_type": "code",
   "execution_count": null,
   "metadata": {
    "collapsed": true
   },
   "outputs": [],
   "source": [
    "def simulate_election_midwest_error(n_times, polling_error_stddev):\n",
    "    # mostly copied from above, but add in polling error only for midwest states\n",
    "    \n"
   ]
  },
  {
   "cell_type": "markdown",
   "metadata": {},
   "source": [
    "When you've written this function, plot the results and Clinton win probability (according to our model) with up to a 4% polling error across the Midwest. This is similar to [what we actually saw](https://www.nytimes.com/interactive/2016/11/13/upshot/putting-the-polling-miss-of-2016-in-perspective.html)."
   ]
  },
  {
   "cell_type": "code",
   "execution_count": null,
   "metadata": {},
   "outputs": [],
   "source": [
    "# Your answer here"
   ]
  }
 ],
 "metadata": {
  "kernelspec": {
   "display_name": "Python 3",
   "language": "python",
   "name": "python3"
  },
  "language_info": {
   "codemirror_mode": {
    "name": "ipython",
    "version": 3
   },
   "file_extension": ".py",
   "mimetype": "text/x-python",
   "name": "python",
   "nbconvert_exporter": "python",
   "pygments_lexer": "ipython3",
   "version": "3.6.2"
  }
 },
 "nbformat": 4,
 "nbformat_minor": 2
}
