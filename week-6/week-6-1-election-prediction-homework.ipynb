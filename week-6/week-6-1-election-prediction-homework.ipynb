{
  "cells": [
    {
      "cell_type": "markdown",
      "source": [
        "# Homework 6-1: \"Fundamentals\" based election prediction\n",
        "\n",
        "In this homework you will explore an alternate election prediction model, using various economic and political indicators instead of polling data -- and also deal with the challenges of model building when there is very little training data. Political scientists have long analyzed these types of \"fundamentals\" models, and they can be reasonably accurate. For example, fundamentals [slightly favored](https://fivethirtyeight.com/features/it-wasnt-clintons-election-to-lose/) the Republicans in 2016\n",
        "\n",
        "Data sources which I used to generate `election-fundamentals.csv`:\n",
        "\n",
        "- Historical presidential approval ratings (highest and lowest for each president) from [Wikipedia](https://en.wikipedia.org/wiki/United_States_presidential_approval_rating) \n",
        "- GDP growth in election year from [World Bank](https://data.worldbank.org/indicator/NY.GDP.MKTP.KD.ZG?locations=US)\n",
        "\n",
        "Note that there are some timing issues here which more careful forecasts would avoid. The presidential approval rating is for the entire presidential term.The GDP growth is for the entire election year. These variables might have higher predictive power if they were (for example) sampled in the last quarters before the election.\n",
        "\nFor a comprehensive view of election prediction from non-poll data, and how well it might or might not be able to do, try [this](https://fivethirtyeight.com/features/models-based-on-fundamentals-have-failed-at-predicting-presidential-elections/) from Fivethirtyeight."
      ],
      "metadata": {}
    },
    {
      "cell_type": "code",
      "source": [
        "import pandas as pd\n",
        "import numpy as np\n",
        "from sklearn.linear_model import LogisticRegression\n",
        "from sklearn.tree import DecisionTreeClassifier\n",
        "from sklearn.ensemble import RandomForestClassifier\n",
        "from sklearn.model_selection import cross_val_score"
      ],
      "outputs": [],
      "execution_count": 1,
      "metadata": {
        "collapsed": true
      }
    },
    {
      "cell_type": "code",
      "source": [
        "# First, import data/election-fundamentals.csv and take a look at what we have\n",
        "fund = pd.read_csv('data/election-fundamentals.csv')\n",
        "fund.head()"
      ],
      "outputs": [
        {
          "output_type": "execute_result",
          "execution_count": 2,
          "data": {
            "text/plain": [
              "   year incumbent_president incumbent_party  term  highest_approval  \\\n",
              "0  1960          Esienhower               R     2                79   \n",
              "1  1964             Johnson               D     1                79   \n",
              "2  1968             Johnson               D     2                79   \n",
              "3  1972               Nixon               R     1                66   \n",
              "4  1976               Nixon               R     2                66   \n",
              "\n",
              "   lowest_approval  year_gdp_growth winner  \n",
              "0               47              2.6      D  \n",
              "1               34              5.8      D  \n",
              "2               34              4.8      R  \n",
              "3               24              5.3      R  \n",
              "4               24              5.4      D  "
            ],
            "text/html": [
              "<div>\n",
              "<style scoped>\n",
              "    .dataframe tbody tr th:only-of-type {\n",
              "        vertical-align: middle;\n",
              "    }\n",
              "\n",
              "    .dataframe tbody tr th {\n",
              "        vertical-align: top;\n",
              "    }\n",
              "\n",
              "    .dataframe thead th {\n",
              "        text-align: right;\n",
              "    }\n",
              "</style>\n",
              "<table border=\"1\" class=\"dataframe\">\n",
              "  <thead>\n",
              "    <tr style=\"text-align: right;\">\n",
              "      <th></th>\n",
              "      <th>year</th>\n",
              "      <th>incumbent_president</th>\n",
              "      <th>incumbent_party</th>\n",
              "      <th>term</th>\n",
              "      <th>highest_approval</th>\n",
              "      <th>lowest_approval</th>\n",
              "      <th>year_gdp_growth</th>\n",
              "      <th>winner</th>\n",
              "    </tr>\n",
              "  </thead>\n",
              "  <tbody>\n",
              "    <tr>\n",
              "      <th>0</th>\n",
              "      <td>1960</td>\n",
              "      <td>Esienhower</td>\n",
              "      <td>R</td>\n",
              "      <td>2</td>\n",
              "      <td>79</td>\n",
              "      <td>47</td>\n",
              "      <td>2.6</td>\n",
              "      <td>D</td>\n",
              "    </tr>\n",
              "    <tr>\n",
              "      <th>1</th>\n",
              "      <td>1964</td>\n",
              "      <td>Johnson</td>\n",
              "      <td>D</td>\n",
              "      <td>1</td>\n",
              "      <td>79</td>\n",
              "      <td>34</td>\n",
              "      <td>5.8</td>\n",
              "      <td>D</td>\n",
              "    </tr>\n",
              "    <tr>\n",
              "      <th>2</th>\n",
              "      <td>1968</td>\n",
              "      <td>Johnson</td>\n",
              "      <td>D</td>\n",
              "      <td>2</td>\n",
              "      <td>79</td>\n",
              "      <td>34</td>\n",
              "      <td>4.8</td>\n",
              "      <td>R</td>\n",
              "    </tr>\n",
              "    <tr>\n",
              "      <th>3</th>\n",
              "      <td>1972</td>\n",
              "      <td>Nixon</td>\n",
              "      <td>R</td>\n",
              "      <td>1</td>\n",
              "      <td>66</td>\n",
              "      <td>24</td>\n",
              "      <td>5.3</td>\n",
              "      <td>R</td>\n",
              "    </tr>\n",
              "    <tr>\n",
              "      <th>4</th>\n",
              "      <td>1976</td>\n",
              "      <td>Nixon</td>\n",
              "      <td>R</td>\n",
              "      <td>2</td>\n",
              "      <td>66</td>\n",
              "      <td>24</td>\n",
              "      <td>5.4</td>\n",
              "      <td>D</td>\n",
              "    </tr>\n",
              "  </tbody>\n",
              "</table>\n",
              "</div>"
            ]
          },
          "metadata": {}
        }
      ],
      "execution_count": 2,
      "metadata": {}
    },
    {
      "cell_type": "code",
      "source": [
        "# How many elections do we have data for?\n",
        "fund.shape"
      ],
      "outputs": [
        {
          "output_type": "execute_result",
          "execution_count": 3,
          "data": {
            "text/plain": [
              "(15, 8)"
            ]
          },
          "metadata": {}
        }
      ],
      "execution_count": 3,
      "metadata": {}
    },
    {
      "cell_type": "code",
      "source": [
        "# Rather than predicting the winning party, we're going to predict whether the same party stays in power or flips\n",
        "# This is going to be the target variable\n",
        "fund['flips'] = fund.winner != fund.incumbent_party"
      ],
      "outputs": [],
      "execution_count": 5,
      "metadata": {
        "collapsed": true
      }
    },
    {
      "cell_type": "code",
      "source": [
        "# Pull out all other numeric columns as features. Create features and and target numpy arrays\n",
        "fields = ['term', 'highest_approval', 'lowest_approval', 'year_gdp_growth']\n",
        "features = fund[fields].values\n",
        "target = fund['flips'].values"
      ],
      "outputs": [],
      "execution_count": 9,
      "metadata": {
        "collapsed": true
      }
    },
    {
      "cell_type": "code",
      "source": [
        "# Use 3-fold cross validation to see how well we can do with a RandomForestClassifier. \n",
        "# Print out the scores\n",
        "my_classifier = DecisionTreeClassifier()\n",
        "scores = cross_val_score(my_classifier,\n",
        "                        features,\n",
        "                         target,\n",
        "                         cv=3\n",
        "                        )\n",
        "scores"
      ],
      "outputs": [
        {
          "output_type": "execute_result",
          "execution_count": 10,
          "data": {
            "text/plain": [
              "array([0.83333333, 0.4       , 0.75      ])"
            ]
          },
          "metadata": {}
        }
      ],
      "execution_count": 10,
      "metadata": {}
    },
    {
      "cell_type": "markdown",
      "source": [
        "How predictable are election results just from these variables, as compared to a coin flip?"
      ],
      "metadata": {}
    },
    {
      "cell_type": "markdown",
      "source": [
        "Not really – after all, one of the scores is below 0.4, which indicates that the predictor is basically in the dark what is going on. Probably the data is not big enough."
      ],
      "metadata": {}
    },
    {
      "cell_type": "code",
      "source": [
        "# Now create a logistic regression using all the data\n",
        "# Normally we'd split into test and training years, but here we're only interested in the coefficients\n",
        "lr = LogisticRegression()\n",
        "lr.fit(features, target)\n",
        "lr.coef_"
      ],
      "outputs": [
        {
          "output_type": "execute_result",
          "execution_count": 13,
          "data": {
            "text/plain": [
              "array([[ 1.21895849,  0.025108  , -0.0436287 , -0.55659437]])"
            ]
          },
          "metadata": {}
        }
      ],
      "execution_count": 13,
      "metadata": {}
    },
    {
      "cell_type": "code",
      "source": [
        "# What is the influence of each feature?\n",
        "# Remeber to use np.exp to turn the lr coefficients into odds ratios\n",
        "results = pd.DataFrame(np.exp(lr.coef_), columns=fields)\n",
        "results"
      ],
      "outputs": [
        {
          "output_type": "execute_result",
          "execution_count": 14,
          "data": {
            "text/plain": [
              "       term  highest_approval  lowest_approval  year_gdp_growth\n",
              "0  3.383662          1.025426         0.957309         0.573158"
            ],
            "text/html": [
              "<div>\n",
              "<style scoped>\n",
              "    .dataframe tbody tr th:only-of-type {\n",
              "        vertical-align: middle;\n",
              "    }\n",
              "\n",
              "    .dataframe tbody tr th {\n",
              "        vertical-align: top;\n",
              "    }\n",
              "\n",
              "    .dataframe thead th {\n",
              "        text-align: right;\n",
              "    }\n",
              "</style>\n",
              "<table border=\"1\" class=\"dataframe\">\n",
              "  <thead>\n",
              "    <tr style=\"text-align: right;\">\n",
              "      <th></th>\n",
              "      <th>term</th>\n",
              "      <th>highest_approval</th>\n",
              "      <th>lowest_approval</th>\n",
              "      <th>year_gdp_growth</th>\n",
              "    </tr>\n",
              "  </thead>\n",
              "  <tbody>\n",
              "    <tr>\n",
              "      <th>0</th>\n",
              "      <td>3.383662</td>\n",
              "      <td>1.025426</td>\n",
              "      <td>0.957309</td>\n",
              "      <td>0.573158</td>\n",
              "    </tr>\n",
              "  </tbody>\n",
              "</table>\n",
              "</div>"
            ]
          },
          "metadata": {}
        }
      ],
      "execution_count": 14,
      "metadata": {}
    },
    {
      "cell_type": "markdown",
      "source": [
        "Describe the effect of each one of our features on whether or not the party in power flips. What feature has the biggest effect? How does economic growth relate? Are there any factors that operate backwards from what you would expect, and if so what do you think is happening?"
      ],
      "metadata": {}
    },
    {
      "cell_type": "markdown",
      "source": [
        "According to these numbers, the term has the highest influence – people probably expect something to change with a new person and a new party, and this grows the longer a party ruled before.\n",
        "\n",
        "GDP growth makes people less likely to vote a different party into power.\n",
        "\n",
        "Approval ratings seem to have very little influence either way.\n",
        "\n"
      ],
      "metadata": {}
    },
    {
      "cell_type": "markdown",
      "source": [],
      "metadata": {}
    }
  ],
  "metadata": {
    "kernelspec": {
      "name": "python3",
      "language": "python",
      "display_name": "Python 3"
    },
    "language_info": {
      "name": "python",
      "version": "3.6.5",
      "mimetype": "text/x-python",
      "codemirror_mode": {
        "name": "ipython",
        "version": 3
      },
      "pygments_lexer": "ipython3",
      "nbconvert_exporter": "python",
      "file_extension": ".py"
    },
    "kernel_info": {
      "name": "python3"
    },
    "nteract": {
      "version": "0.11.6"
    }
  },
  "nbformat": 4,
  "nbformat_minor": 2
}