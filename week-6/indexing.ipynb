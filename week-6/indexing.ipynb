{
  "cells": [
    {
      "cell_type": "code",
      "source": [
        "import pandas as pd"
      ],
      "outputs": [],
      "execution_count": 1,
      "metadata": {
        "collapsed": false,
        "outputHidden": false,
        "inputHidden": false
      }
    },
    {
      "cell_type": "code",
      "source": [
        "df = pd.read_csv('data/election-fundamentals.csv')"
      ],
      "outputs": [],
      "execution_count": 2,
      "metadata": {
        "collapsed": false,
        "outputHidden": false,
        "inputHidden": false
      }
    },
    {
      "cell_type": "code",
      "source": [
        "df.head()"
      ],
      "outputs": [
        {
          "output_type": "execute_result",
          "execution_count": 3,
          "data": {
            "text/plain": [
              "   year incumbent_president incumbent_party  term  highest_approval  \\\n",
              "0  1960          Esienhower               R     2                79   \n",
              "1  1964             Johnson               D     1                79   \n",
              "2  1968             Johnson               D     2                79   \n",
              "3  1972               Nixon               R     1                66   \n",
              "4  1976               Nixon               R     2                66   \n",
              "\n",
              "   lowest_approval  year_gdp_growth winner  \n",
              "0               47              2.6      D  \n",
              "1               34              5.8      D  \n",
              "2               34              4.8      R  \n",
              "3               24              5.3      R  \n",
              "4               24              5.4      D  "
            ],
            "text/html": [
              "<div>\n",
              "<style scoped>\n",
              "    .dataframe tbody tr th:only-of-type {\n",
              "        vertical-align: middle;\n",
              "    }\n",
              "\n",
              "    .dataframe tbody tr th {\n",
              "        vertical-align: top;\n",
              "    }\n",
              "\n",
              "    .dataframe thead th {\n",
              "        text-align: right;\n",
              "    }\n",
              "</style>\n",
              "<table border=\"1\" class=\"dataframe\">\n",
              "  <thead>\n",
              "    <tr style=\"text-align: right;\">\n",
              "      <th></th>\n",
              "      <th>year</th>\n",
              "      <th>incumbent_president</th>\n",
              "      <th>incumbent_party</th>\n",
              "      <th>term</th>\n",
              "      <th>highest_approval</th>\n",
              "      <th>lowest_approval</th>\n",
              "      <th>year_gdp_growth</th>\n",
              "      <th>winner</th>\n",
              "    </tr>\n",
              "  </thead>\n",
              "  <tbody>\n",
              "    <tr>\n",
              "      <th>0</th>\n",
              "      <td>1960</td>\n",
              "      <td>Esienhower</td>\n",
              "      <td>R</td>\n",
              "      <td>2</td>\n",
              "      <td>79</td>\n",
              "      <td>47</td>\n",
              "      <td>2.6</td>\n",
              "      <td>D</td>\n",
              "    </tr>\n",
              "    <tr>\n",
              "      <th>1</th>\n",
              "      <td>1964</td>\n",
              "      <td>Johnson</td>\n",
              "      <td>D</td>\n",
              "      <td>1</td>\n",
              "      <td>79</td>\n",
              "      <td>34</td>\n",
              "      <td>5.8</td>\n",
              "      <td>D</td>\n",
              "    </tr>\n",
              "    <tr>\n",
              "      <th>2</th>\n",
              "      <td>1968</td>\n",
              "      <td>Johnson</td>\n",
              "      <td>D</td>\n",
              "      <td>2</td>\n",
              "      <td>79</td>\n",
              "      <td>34</td>\n",
              "      <td>4.8</td>\n",
              "      <td>R</td>\n",
              "    </tr>\n",
              "    <tr>\n",
              "      <th>3</th>\n",
              "      <td>1972</td>\n",
              "      <td>Nixon</td>\n",
              "      <td>R</td>\n",
              "      <td>1</td>\n",
              "      <td>66</td>\n",
              "      <td>24</td>\n",
              "      <td>5.3</td>\n",
              "      <td>R</td>\n",
              "    </tr>\n",
              "    <tr>\n",
              "      <th>4</th>\n",
              "      <td>1976</td>\n",
              "      <td>Nixon</td>\n",
              "      <td>R</td>\n",
              "      <td>2</td>\n",
              "      <td>66</td>\n",
              "      <td>24</td>\n",
              "      <td>5.4</td>\n",
              "      <td>D</td>\n",
              "    </tr>\n",
              "  </tbody>\n",
              "</table>\n",
              "</div>"
            ]
          },
          "metadata": {}
        }
      ],
      "execution_count": 3,
      "metadata": {
        "collapsed": false,
        "outputHidden": false,
        "inputHidden": false
      }
    },
    {
      "cell_type": "code",
      "source": [
        "df['incumbent_president']"
      ],
      "outputs": [
        {
          "output_type": "execute_result",
          "execution_count": 4,
          "data": {
            "text/plain": [
              "0     Esienhower\n",
              "1        Johnson\n",
              "2        Johnson\n",
              "3          Nixon\n",
              "4          Nixon\n",
              "5         Carter\n",
              "6         Reagan\n",
              "7         Reagan\n",
              "8           Bush\n",
              "9        Clinton\n",
              "10       Clinton\n",
              "11          Bush\n",
              "12          Bush\n",
              "13         Obama\n",
              "14         Obama\n",
              "Name: incumbent_president, dtype: object"
            ]
          },
          "metadata": {}
        }
      ],
      "execution_count": 4,
      "metadata": {
        "collapsed": false,
        "outputHidden": false,
        "inputHidden": false
      }
    },
    {
      "cell_type": "code",
      "source": [
        "df['incumbent_president'][5]"
      ],
      "outputs": [
        {
          "output_type": "execute_result",
          "execution_count": 5,
          "data": {
            "text/plain": [
              "'Carter'"
            ]
          },
          "metadata": {}
        }
      ],
      "execution_count": 5,
      "metadata": {
        "collapsed": false,
        "outputHidden": false,
        "inputHidden": false
      }
    },
    {
      "cell_type": "code",
      "source": [
        "# .loc for slicing\n",
        "df.loc[2:5,:]"
      ],
      "outputs": [
        {
          "output_type": "execute_result",
          "execution_count": 6,
          "data": {
            "text/plain": [
              "   year incumbent_president incumbent_party  term  highest_approval  \\\n",
              "2  1968             Johnson               D     2                79   \n",
              "3  1972               Nixon               R     1                66   \n",
              "4  1976               Nixon               R     2                66   \n",
              "5  1980              Carter               D     1                74   \n",
              "\n",
              "   lowest_approval  year_gdp_growth winner  \n",
              "2               34              4.8      R  \n",
              "3               24              5.3      R  \n",
              "4               24              5.4      D  \n",
              "5               28             -0.2      R  "
            ],
            "text/html": [
              "<div>\n",
              "<style scoped>\n",
              "    .dataframe tbody tr th:only-of-type {\n",
              "        vertical-align: middle;\n",
              "    }\n",
              "\n",
              "    .dataframe tbody tr th {\n",
              "        vertical-align: top;\n",
              "    }\n",
              "\n",
              "    .dataframe thead th {\n",
              "        text-align: right;\n",
              "    }\n",
              "</style>\n",
              "<table border=\"1\" class=\"dataframe\">\n",
              "  <thead>\n",
              "    <tr style=\"text-align: right;\">\n",
              "      <th></th>\n",
              "      <th>year</th>\n",
              "      <th>incumbent_president</th>\n",
              "      <th>incumbent_party</th>\n",
              "      <th>term</th>\n",
              "      <th>highest_approval</th>\n",
              "      <th>lowest_approval</th>\n",
              "      <th>year_gdp_growth</th>\n",
              "      <th>winner</th>\n",
              "    </tr>\n",
              "  </thead>\n",
              "  <tbody>\n",
              "    <tr>\n",
              "      <th>2</th>\n",
              "      <td>1968</td>\n",
              "      <td>Johnson</td>\n",
              "      <td>D</td>\n",
              "      <td>2</td>\n",
              "      <td>79</td>\n",
              "      <td>34</td>\n",
              "      <td>4.8</td>\n",
              "      <td>R</td>\n",
              "    </tr>\n",
              "    <tr>\n",
              "      <th>3</th>\n",
              "      <td>1972</td>\n",
              "      <td>Nixon</td>\n",
              "      <td>R</td>\n",
              "      <td>1</td>\n",
              "      <td>66</td>\n",
              "      <td>24</td>\n",
              "      <td>5.3</td>\n",
              "      <td>R</td>\n",
              "    </tr>\n",
              "    <tr>\n",
              "      <th>4</th>\n",
              "      <td>1976</td>\n",
              "      <td>Nixon</td>\n",
              "      <td>R</td>\n",
              "      <td>2</td>\n",
              "      <td>66</td>\n",
              "      <td>24</td>\n",
              "      <td>5.4</td>\n",
              "      <td>D</td>\n",
              "    </tr>\n",
              "    <tr>\n",
              "      <th>5</th>\n",
              "      <td>1980</td>\n",
              "      <td>Carter</td>\n",
              "      <td>D</td>\n",
              "      <td>1</td>\n",
              "      <td>74</td>\n",
              "      <td>28</td>\n",
              "      <td>-0.2</td>\n",
              "      <td>R</td>\n",
              "    </tr>\n",
              "  </tbody>\n",
              "</table>\n",
              "</div>"
            ]
          },
          "metadata": {}
        }
      ],
      "execution_count": 6,
      "metadata": {
        "collapsed": false,
        "outputHidden": false,
        "inputHidden": false
      }
    },
    {
      "cell_type": "code",
      "source": [
        "df.loc[2:5, 'winner']"
      ],
      "outputs": [
        {
          "output_type": "execute_result",
          "execution_count": 7,
          "data": {
            "text/plain": [
              "2    R\n",
              "3    R\n",
              "4    D\n",
              "5    R\n",
              "Name: winner, dtype: object"
            ]
          },
          "metadata": {}
        }
      ],
      "execution_count": 7,
      "metadata": {
        "collapsed": false,
        "outputHidden": false,
        "inputHidden": false
      }
    },
    {
      "cell_type": "code",
      "source": [
        "df.loc[2:5, ['incumbent_president', 'winner']]"
      ],
      "outputs": [
        {
          "output_type": "execute_result",
          "execution_count": 8,
          "data": {
            "text/plain": [
              "  incumbent_president winner\n",
              "2             Johnson      R\n",
              "3               Nixon      R\n",
              "4               Nixon      D\n",
              "5              Carter      R"
            ],
            "text/html": [
              "<div>\n",
              "<style scoped>\n",
              "    .dataframe tbody tr th:only-of-type {\n",
              "        vertical-align: middle;\n",
              "    }\n",
              "\n",
              "    .dataframe tbody tr th {\n",
              "        vertical-align: top;\n",
              "    }\n",
              "\n",
              "    .dataframe thead th {\n",
              "        text-align: right;\n",
              "    }\n",
              "</style>\n",
              "<table border=\"1\" class=\"dataframe\">\n",
              "  <thead>\n",
              "    <tr style=\"text-align: right;\">\n",
              "      <th></th>\n",
              "      <th>incumbent_president</th>\n",
              "      <th>winner</th>\n",
              "    </tr>\n",
              "  </thead>\n",
              "  <tbody>\n",
              "    <tr>\n",
              "      <th>2</th>\n",
              "      <td>Johnson</td>\n",
              "      <td>R</td>\n",
              "    </tr>\n",
              "    <tr>\n",
              "      <th>3</th>\n",
              "      <td>Nixon</td>\n",
              "      <td>R</td>\n",
              "    </tr>\n",
              "    <tr>\n",
              "      <th>4</th>\n",
              "      <td>Nixon</td>\n",
              "      <td>D</td>\n",
              "    </tr>\n",
              "    <tr>\n",
              "      <th>5</th>\n",
              "      <td>Carter</td>\n",
              "      <td>R</td>\n",
              "    </tr>\n",
              "  </tbody>\n",
              "</table>\n",
              "</div>"
            ]
          },
          "metadata": {}
        }
      ],
      "execution_count": 8,
      "metadata": {
        "collapsed": false,
        "outputHidden": false,
        "inputHidden": false
      }
    },
    {
      "cell_type": "code",
      "source": [
        "df = df.set_index(df.year)"
      ],
      "outputs": [],
      "execution_count": 9,
      "metadata": {
        "collapsed": false,
        "outputHidden": false,
        "inputHidden": false
      }
    },
    {
      "cell_type": "code",
      "source": [
        "df"
      ],
      "outputs": [
        {
          "output_type": "execute_result",
          "execution_count": 10,
          "data": {
            "text/plain": [
              "      year incumbent_president incumbent_party  term  highest_approval  \\\n",
              "year                                                                     \n",
              "1960  1960          Esienhower               R     2                79   \n",
              "1964  1964             Johnson               D     1                79   \n",
              "1968  1968             Johnson               D     2                79   \n",
              "1972  1972               Nixon               R     1                66   \n",
              "1976  1976               Nixon               R     2                66   \n",
              "1980  1980              Carter               D     1                74   \n",
              "1984  1984              Reagan               R     1                71   \n",
              "1988  1988              Reagan               R     2                71   \n",
              "1992  1992                Bush               R     1                89   \n",
              "1996  1996             Clinton               D     1                73   \n",
              "2000  2000             Clinton               D     2                73   \n",
              "2004  2004                Bush               R     1                90   \n",
              "2008  2008                Bush               R     2                90   \n",
              "2012  2012               Obama               D     1                69   \n",
              "2016  2016               Obama               D     2                69   \n",
              "\n",
              "      lowest_approval  year_gdp_growth winner  \n",
              "year                                           \n",
              "1960               47             2.60      D  \n",
              "1964               34             5.80      D  \n",
              "1968               34             4.80      R  \n",
              "1972               24             5.30      R  \n",
              "1976               24             5.40      D  \n",
              "1980               28            -0.20      R  \n",
              "1984               35             7.26      R  \n",
              "1988               35             4.20      R  \n",
              "1992               29             3.60      D  \n",
              "1996               37             3.80      D  \n",
              "2000               37             4.10      R  \n",
              "2004               25             3.80      R  \n",
              "2008               25            -0.30      D  \n",
              "2012               38             2.20      D  \n",
              "2016               38             1.50      R  "
            ],
            "text/html": [
              "<div>\n",
              "<style scoped>\n",
              "    .dataframe tbody tr th:only-of-type {\n",
              "        vertical-align: middle;\n",
              "    }\n",
              "\n",
              "    .dataframe tbody tr th {\n",
              "        vertical-align: top;\n",
              "    }\n",
              "\n",
              "    .dataframe thead th {\n",
              "        text-align: right;\n",
              "    }\n",
              "</style>\n",
              "<table border=\"1\" class=\"dataframe\">\n",
              "  <thead>\n",
              "    <tr style=\"text-align: right;\">\n",
              "      <th></th>\n",
              "      <th>year</th>\n",
              "      <th>incumbent_president</th>\n",
              "      <th>incumbent_party</th>\n",
              "      <th>term</th>\n",
              "      <th>highest_approval</th>\n",
              "      <th>lowest_approval</th>\n",
              "      <th>year_gdp_growth</th>\n",
              "      <th>winner</th>\n",
              "    </tr>\n",
              "    <tr>\n",
              "      <th>year</th>\n",
              "      <th></th>\n",
              "      <th></th>\n",
              "      <th></th>\n",
              "      <th></th>\n",
              "      <th></th>\n",
              "      <th></th>\n",
              "      <th></th>\n",
              "      <th></th>\n",
              "    </tr>\n",
              "  </thead>\n",
              "  <tbody>\n",
              "    <tr>\n",
              "      <th>1960</th>\n",
              "      <td>1960</td>\n",
              "      <td>Esienhower</td>\n",
              "      <td>R</td>\n",
              "      <td>2</td>\n",
              "      <td>79</td>\n",
              "      <td>47</td>\n",
              "      <td>2.60</td>\n",
              "      <td>D</td>\n",
              "    </tr>\n",
              "    <tr>\n",
              "      <th>1964</th>\n",
              "      <td>1964</td>\n",
              "      <td>Johnson</td>\n",
              "      <td>D</td>\n",
              "      <td>1</td>\n",
              "      <td>79</td>\n",
              "      <td>34</td>\n",
              "      <td>5.80</td>\n",
              "      <td>D</td>\n",
              "    </tr>\n",
              "    <tr>\n",
              "      <th>1968</th>\n",
              "      <td>1968</td>\n",
              "      <td>Johnson</td>\n",
              "      <td>D</td>\n",
              "      <td>2</td>\n",
              "      <td>79</td>\n",
              "      <td>34</td>\n",
              "      <td>4.80</td>\n",
              "      <td>R</td>\n",
              "    </tr>\n",
              "    <tr>\n",
              "      <th>1972</th>\n",
              "      <td>1972</td>\n",
              "      <td>Nixon</td>\n",
              "      <td>R</td>\n",
              "      <td>1</td>\n",
              "      <td>66</td>\n",
              "      <td>24</td>\n",
              "      <td>5.30</td>\n",
              "      <td>R</td>\n",
              "    </tr>\n",
              "    <tr>\n",
              "      <th>1976</th>\n",
              "      <td>1976</td>\n",
              "      <td>Nixon</td>\n",
              "      <td>R</td>\n",
              "      <td>2</td>\n",
              "      <td>66</td>\n",
              "      <td>24</td>\n",
              "      <td>5.40</td>\n",
              "      <td>D</td>\n",
              "    </tr>\n",
              "    <tr>\n",
              "      <th>1980</th>\n",
              "      <td>1980</td>\n",
              "      <td>Carter</td>\n",
              "      <td>D</td>\n",
              "      <td>1</td>\n",
              "      <td>74</td>\n",
              "      <td>28</td>\n",
              "      <td>-0.20</td>\n",
              "      <td>R</td>\n",
              "    </tr>\n",
              "    <tr>\n",
              "      <th>1984</th>\n",
              "      <td>1984</td>\n",
              "      <td>Reagan</td>\n",
              "      <td>R</td>\n",
              "      <td>1</td>\n",
              "      <td>71</td>\n",
              "      <td>35</td>\n",
              "      <td>7.26</td>\n",
              "      <td>R</td>\n",
              "    </tr>\n",
              "    <tr>\n",
              "      <th>1988</th>\n",
              "      <td>1988</td>\n",
              "      <td>Reagan</td>\n",
              "      <td>R</td>\n",
              "      <td>2</td>\n",
              "      <td>71</td>\n",
              "      <td>35</td>\n",
              "      <td>4.20</td>\n",
              "      <td>R</td>\n",
              "    </tr>\n",
              "    <tr>\n",
              "      <th>1992</th>\n",
              "      <td>1992</td>\n",
              "      <td>Bush</td>\n",
              "      <td>R</td>\n",
              "      <td>1</td>\n",
              "      <td>89</td>\n",
              "      <td>29</td>\n",
              "      <td>3.60</td>\n",
              "      <td>D</td>\n",
              "    </tr>\n",
              "    <tr>\n",
              "      <th>1996</th>\n",
              "      <td>1996</td>\n",
              "      <td>Clinton</td>\n",
              "      <td>D</td>\n",
              "      <td>1</td>\n",
              "      <td>73</td>\n",
              "      <td>37</td>\n",
              "      <td>3.80</td>\n",
              "      <td>D</td>\n",
              "    </tr>\n",
              "    <tr>\n",
              "      <th>2000</th>\n",
              "      <td>2000</td>\n",
              "      <td>Clinton</td>\n",
              "      <td>D</td>\n",
              "      <td>2</td>\n",
              "      <td>73</td>\n",
              "      <td>37</td>\n",
              "      <td>4.10</td>\n",
              "      <td>R</td>\n",
              "    </tr>\n",
              "    <tr>\n",
              "      <th>2004</th>\n",
              "      <td>2004</td>\n",
              "      <td>Bush</td>\n",
              "      <td>R</td>\n",
              "      <td>1</td>\n",
              "      <td>90</td>\n",
              "      <td>25</td>\n",
              "      <td>3.80</td>\n",
              "      <td>R</td>\n",
              "    </tr>\n",
              "    <tr>\n",
              "      <th>2008</th>\n",
              "      <td>2008</td>\n",
              "      <td>Bush</td>\n",
              "      <td>R</td>\n",
              "      <td>2</td>\n",
              "      <td>90</td>\n",
              "      <td>25</td>\n",
              "      <td>-0.30</td>\n",
              "      <td>D</td>\n",
              "    </tr>\n",
              "    <tr>\n",
              "      <th>2012</th>\n",
              "      <td>2012</td>\n",
              "      <td>Obama</td>\n",
              "      <td>D</td>\n",
              "      <td>1</td>\n",
              "      <td>69</td>\n",
              "      <td>38</td>\n",
              "      <td>2.20</td>\n",
              "      <td>D</td>\n",
              "    </tr>\n",
              "    <tr>\n",
              "      <th>2016</th>\n",
              "      <td>2016</td>\n",
              "      <td>Obama</td>\n",
              "      <td>D</td>\n",
              "      <td>2</td>\n",
              "      <td>69</td>\n",
              "      <td>38</td>\n",
              "      <td>1.50</td>\n",
              "      <td>R</td>\n",
              "    </tr>\n",
              "  </tbody>\n",
              "</table>\n",
              "</div>"
            ]
          },
          "metadata": {}
        }
      ],
      "execution_count": 10,
      "metadata": {
        "collapsed": false,
        "outputHidden": false,
        "inputHidden": false
      }
    },
    {
      "cell_type": "code",
      "source": [
        "df['incumbent_president'][1988]"
      ],
      "outputs": [
        {
          "output_type": "execute_result",
          "execution_count": 11,
          "data": {
            "text/plain": [
              "'Reagan'"
            ]
          },
          "metadata": {}
        }
      ],
      "execution_count": 11,
      "metadata": {
        "collapsed": false,
        "outputHidden": false,
        "inputHidden": false
      }
    },
    {
      "cell_type": "code",
      "source": [
        "df.loc[1984:1992,['term', 'winner']]"
      ],
      "outputs": [
        {
          "output_type": "execute_result",
          "execution_count": 12,
          "data": {
            "text/plain": [
              "      term winner\n",
              "year             \n",
              "1984     1      R\n",
              "1988     2      R\n",
              "1992     1      D"
            ],
            "text/html": [
              "<div>\n",
              "<style scoped>\n",
              "    .dataframe tbody tr th:only-of-type {\n",
              "        vertical-align: middle;\n",
              "    }\n",
              "\n",
              "    .dataframe tbody tr th {\n",
              "        vertical-align: top;\n",
              "    }\n",
              "\n",
              "    .dataframe thead th {\n",
              "        text-align: right;\n",
              "    }\n",
              "</style>\n",
              "<table border=\"1\" class=\"dataframe\">\n",
              "  <thead>\n",
              "    <tr style=\"text-align: right;\">\n",
              "      <th></th>\n",
              "      <th>term</th>\n",
              "      <th>winner</th>\n",
              "    </tr>\n",
              "    <tr>\n",
              "      <th>year</th>\n",
              "      <th></th>\n",
              "      <th></th>\n",
              "    </tr>\n",
              "  </thead>\n",
              "  <tbody>\n",
              "    <tr>\n",
              "      <th>1984</th>\n",
              "      <td>1</td>\n",
              "      <td>R</td>\n",
              "    </tr>\n",
              "    <tr>\n",
              "      <th>1988</th>\n",
              "      <td>2</td>\n",
              "      <td>R</td>\n",
              "    </tr>\n",
              "    <tr>\n",
              "      <th>1992</th>\n",
              "      <td>1</td>\n",
              "      <td>D</td>\n",
              "    </tr>\n",
              "  </tbody>\n",
              "</table>\n",
              "</div>"
            ]
          },
          "metadata": {}
        }
      ],
      "execution_count": 12,
      "metadata": {
        "collapsed": false,
        "outputHidden": false,
        "inputHidden": false
      }
    },
    {
      "cell_type": "code",
      "source": [
        "# .iloc can help cleaning up first and last rows (or columns)\n",
        "df.iloc[:,-1]"
      ],
      "outputs": [
        {
          "output_type": "execute_result",
          "execution_count": 13,
          "data": {
            "text/plain": [
              "year\n",
              "1960    D\n",
              "1964    D\n",
              "1968    R\n",
              "1972    R\n",
              "1976    D\n",
              "1980    R\n",
              "1984    R\n",
              "1988    R\n",
              "1992    D\n",
              "1996    D\n",
              "2000    R\n",
              "2004    R\n",
              "2008    D\n",
              "2012    D\n",
              "2016    R\n",
              "Name: winner, dtype: object"
            ]
          },
          "metadata": {}
        }
      ],
      "execution_count": 13,
      "metadata": {
        "collapsed": false,
        "outputHidden": false,
        "inputHidden": false
      }
    },
    {
      "cell_type": "code",
      "source": [
        "df.index"
      ],
      "outputs": [
        {
          "output_type": "execute_result",
          "execution_count": 14,
          "data": {
            "text/plain": [
              "Int64Index([1960, 1964, 1968, 1972, 1976, 1980, 1984, 1988, 1992, 1996, 2000,\n",
              "            2004, 2008, 2012, 2016],\n",
              "           dtype='int64', name='year')"
            ]
          },
          "metadata": {}
        }
      ],
      "execution_count": 14,
      "metadata": {
        "collapsed": false,
        "outputHidden": false,
        "inputHidden": false
      }
    },
    {
      "cell_type": "code",
      "source": [],
      "outputs": [],
      "execution_count": null,
      "metadata": {
        "collapsed": false,
        "outputHidden": false,
        "inputHidden": false
      }
    }
  ],
  "metadata": {
    "kernel_info": {
      "name": "python3"
    },
    "language_info": {
      "name": "python",
      "version": "3.6.5",
      "mimetype": "text/x-python",
      "codemirror_mode": {
        "name": "ipython",
        "version": 3
      },
      "pygments_lexer": "ipython3",
      "nbconvert_exporter": "python",
      "file_extension": ".py"
    },
    "kernelspec": {
      "name": "python3",
      "language": "python",
      "display_name": "Python 3"
    },
    "nteract": {
      "version": "0.11.6"
    }
  },
  "nbformat": 4,
  "nbformat_minor": 4
}