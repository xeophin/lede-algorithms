{
 "cells": [
  {
   "cell_type": "markdown",
   "metadata": {},
   "source": [
    "## Week 3-1 - Linear Regression - homework\n",
    "\n",
    "This assignment is inspired by a 2006 [story in the Pioneer Press](\n",
    "https://www.twincities.com/2010/07/09/schools-that-work-despite-appearances-schools-doing-better-than-expected-have-traits-in-common/) which asked, what makes a school succeed despite disadvantages? The reporters performed a regression of standardized test scores vs. the number of low income students at that school (actually we only have the number of students who are eligable for free meals at school, but this is a widely used proxy for the economic status of the students.)\n",
    "\n",
    "The 2006 story explains the purpose of doing the regression:\n",
    "\n",
    "\"Schools with large numbers of students from low-income families — or who move often, are learning English or have other special needs — almost always fare worse on standardized tests, most educators agree. The Pioneer Press analyzed three years of test scores from all 731 Minnesota elementary schools to predict how well each school should do when its percentage of low-income students is taken into account — effectively leveling the playing field between the haves and have-nots.\"\n",
    "\n",
    "The reporters then visited those schools that out-performed their predicted scores, trying to determine what made them succeed despite the odds.\n",
    "\n",
    "This file was adapted from a notebook created by Chase Davis and Richard Dunks for the 2015 version of this course, gratefully used with permission.\n"
   ]
  },
  {
   "cell_type": "code",
   "execution_count": 1,
   "metadata": {
    "collapsed": true
   },
   "outputs": [],
   "source": [
    "import pandas as pd\n",
    "import numpy as np \n",
    "import matplotlib.pyplot as plt\n",
    "from sklearn.linear_model import LinearRegression\n",
    "%matplotlib inline"
   ]
  },
  {
   "cell_type": "markdown",
   "metadata": {},
   "source": [
    "### 1. Load the data\n",
    "\n",
    "Load the file and take a look. Each row is one school. The fields all have abbreviated names, and you can look at the [data dictionary](http://www.cde.ca.gov/ta/ac/ap/reclayout12b.asp) to see what's what.\n",
    "\n",
    "This is standardized test score results and many other variables for schools in California, from 2012. We are going to be looking at a variable called the Academic Performance Index (API) which is basically standardized test scores. This way of measuring school performance has was discontinued in 2017, but we're going to use this data anyway, because we can closely reproduce the original Pioneer Press analysis.\n"
   ]
  },
  {
   "cell_type": "code",
   "execution_count": 8,
   "metadata": {},
   "outputs": [
    {
     "data": {
      "text/plain": [
       "Index(['CHARTER', 'SNAME', 'DNAME', 'CNAME', 'API12B', 'ST_RANK', 'PCT_AA',\n",
       "       'PCT_AI', 'PCT_AS', 'PCT_FI', 'PCT_HI', 'PCT_PI', 'PCT_WH', 'PCT_MR',\n",
       "       'MEALS', 'P_GATE', 'P_MIGED', 'P_EL', 'P_RFEP', 'P_DI', 'ACS_K3',\n",
       "       'ACS_46', 'ACS_CORE', 'PCT_RESP', 'NOT_HSG', 'HSG', 'SOME_COL',\n",
       "       'COL_GRAD', 'GRAD_SCH', 'AVG_ED'],\n",
       "      dtype='object')"
      ]
     },
     "execution_count": 8,
     "metadata": {},
     "output_type": "execute_result"
    }
   ],
   "source": [
    "# Load `apib12tx.csv` and take a look at the raw data\n"
   ]
  },
  {
   "cell_type": "code",
   "execution_count": null,
   "metadata": {},
   "outputs": [],
   "source": []
  },
  {
   "cell_type": "markdown",
   "metadata": {},
   "source": [
    "### 2. Looking at one variable at a time\n",
    "\n",
    "To start with, let's look at some histograms of single variables, to get an idea what the data (and the students) look like."
   ]
  },
  {
   "cell_type": "code",
   "execution_count": 1,
   "metadata": {},
   "outputs": [],
   "source": [
    "# Make a histogram of the API12B column, which is standardized test scores for grade 12\n"
   ]
  },
  {
   "cell_type": "code",
   "execution_count": 2,
   "metadata": {},
   "outputs": [],
   "source": [
    "# Make a histogram of the MEALS column, which is the percentage of students enrolled in free/reduced-price lunch programs, which is often used as a proxy for poverty.\n"
   ]
  },
  {
   "cell_type": "markdown",
   "metadata": {},
   "source": [
    "You also find it interesting to look at variables like `PCT_WH` which is the percentage of white students, and `AVG_ED` which is the average education level of the parents of the students at that school."
   ]
  },
  {
   "cell_type": "markdown",
   "metadata": {},
   "source": [
    "### 3. Looking at two variables at a time\n",
    "\n",
    "Looking at histograms of one variable at a time cant't tell us about the relationship between variables, so let's do some scatter plots to get a qualitative sense of the relationships."
   ]
  },
  {
   "cell_type": "code",
   "execution_count": 3,
   "metadata": {},
   "outputs": [],
   "source": [
    "# Make a scatter plot of test scores (`API12B`) vs the percentage of students with subsidized lunches (`MEALS`)\n"
   ]
  },
  {
   "cell_type": "markdown",
   "metadata": {},
   "source": [
    "As expected, test scores decrease with an increasing fraction of students in poverty. The parents' education is also strongly correlated with test scores."
   ]
  },
  {
   "cell_type": "code",
   "execution_count": 4,
   "metadata": {},
   "outputs": [],
   "source": [
    "# Make a scatter plot of test scores vs parents' education (`AVG_ED`)\n"
   ]
  },
  {
   "cell_type": "markdown",
   "metadata": {},
   "source": [
    "## Linear regression"
   ]
  },
  {
   "cell_type": "markdown",
   "metadata": {},
   "source": [
    "Let's draw trend lines through these scatter plots. Or, more precisely, we're going to use single variable linear regression to build a model of the relationship between two variables (test scores, which is the \"dependent\" variable, and one \"independent\" variable.\")\n",
    "\n",
    "Let's start with text scores vs. our poverty proxy."
   ]
  },
  {
   "cell_type": "code",
   "execution_count": 49,
   "metadata": {
    "collapsed": true
   },
   "outputs": [],
   "source": [
    "# To start with, let's have the MEALS variable on the X axis and the API12B variable on the Y axis \n",
    "# This is some drudgery to convert dataframes into the NumPy arrays that sklearn needs\n"
   ]
  },
  {
   "cell_type": "code",
   "execution_count": 5,
   "metadata": {},
   "outputs": [],
   "source": [
    "# Make a LinearRegression object and fit our data to it \n"
   ]
  },
  {
   "cell_type": "markdown",
   "metadata": {},
   "source": [
    "Now let's see what we've got. Make the scatter plot of scores vs. meals, and add the regression line"
   ]
  },
  {
   "cell_type": "code",
   "execution_count": 6,
   "metadata": {},
   "outputs": [],
   "source": [
    "# scatter plot of test scores vs percentage of students eligable for subsidized meals\n"
   ]
  },
  {
   "cell_type": "code",
   "execution_count": 7,
   "metadata": {},
   "outputs": [],
   "source": [
    "# What is the slope of this line? That is, how many test score points do we lose \n",
    "# for every percentage point increase in students receiving subsidized meals?\n"
   ]
  },
  {
   "cell_type": "code",
   "execution_count": 8,
   "metadata": {},
   "outputs": [],
   "source": [
    "# And what is the intercept? That is, what does the model predict for MEALS=0?\n"
   ]
  },
  {
   "cell_type": "markdown",
   "metadata": {},
   "source": [
    "We now have a model that predicts test performance based on the number of students receiving subsidized meals. This is a pretty naive mdodel, but it's a start. And we can already learn things from it: there are some schools that seem to be doing much better than would be expected given the number of impoverished students attending. Essentially by, subtracting off the regression line we are \"taking poverty out of the equation.\"\n",
    "\n",
    "Let's take a look at some of these schools. "
   ]
  },
  {
   "cell_type": "code",
   "execution_count": 9,
   "metadata": {
    "scrolled": true
   },
   "outputs": [],
   "source": [
    "# Print out all schools with MEALS greater than 80 and API12B > 900\n"
   ]
  },
  {
   "cell_type": "markdown",
   "metadata": {},
   "source": [
    "Let's look specifically at Solano Avenue Elementary, which has an `API12B` of 922 and 80 percent of students being in the free/reduced lunch program. \n",
    "\n",
    "How well would we expect this school to do, based on its `MEALS` of 80?"
   ]
  },
  {
   "cell_type": "code",
   "execution_count": 10,
   "metadata": {},
   "outputs": [],
   "source": [
    "# Use the linear model to predict the score for this school\n"
   ]
  },
  {
   "cell_type": "markdown",
   "metadata": {},
   "source": [
    "With an index of 922, clearly the school is overperforming what our simplified model expects. What is different about this school? Use your favorite search engine to look for relevant articles and see if you can figure out anything that might matter (remembering that our data is from 2012)"
   ]
  },
  {
   "cell_type": "markdown",
   "metadata": {},
   "source": [
    "(your answer here)"
   ]
  }
 ],
 "metadata": {
  "kernelspec": {
   "display_name": "Python 3",
   "language": "python",
   "name": "python3"
  },
  "language_info": {
   "codemirror_mode": {
    "name": "ipython",
    "version": 3
   },
   "file_extension": ".py",
   "mimetype": "text/x-python",
   "name": "python",
   "nbconvert_exporter": "python",
   "pygments_lexer": "ipython3",
   "version": "3.6.2"
  }
 },
 "nbformat": 4,
 "nbformat_minor": 1
}
