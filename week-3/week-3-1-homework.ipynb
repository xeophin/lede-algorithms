{
 "cells": [
  {
   "cell_type": "markdown",
   "metadata": {},
   "source": [
    "## Week 3-1 - Linear Regression - homework\n",
    "\n",
    "This assignment is inspired by a 2006 [story in the Pioneer Press](\n",
    "https://www.twincities.com/2010/07/09/schools-that-work-despite-appearances-schools-doing-better-than-expected-have-traits-in-common/) which asked, what makes a school succeed despite disadvantages? The reporters performed a regression of standardized test scores vs. the number of low income students at that school (actually we only have the number of students who are eligable for free meals at school, but this is a widely used proxy for the economic status of the students.)\n",
    "\n",
    "The 2006 story explains the purpose of doing the regression:\n",
    "\n",
    "\"Schools with large numbers of students from low-income families — or who move often, are learning English or have other special needs — almost always fare worse on standardized tests, most educators agree. The Pioneer Press analyzed three years of test scores from all 731 Minnesota elementary schools to predict how well each school should do when its percentage of low-income students is taken into account — effectively leveling the playing field between the haves and have-nots.\"\n",
    "\n",
    "The reporters then visited those schools that out-performed their predicted scores, trying to determine what made them succeed despite the odds.\n",
    "\n",
    "This file was adapted from a notebook created by Chase Davis and Richard Dunks for the 2015 version of this course, gratefully used with permission.\n"
   ]
  },
  {
   "cell_type": "code",
   "execution_count": 1,
   "metadata": {
    "collapsed": true
   },
   "outputs": [],
   "source": [
    "import pandas as pd\n",
    "import numpy as np \n",
    "import matplotlib.pyplot as plt\n",
    "from sklearn.linear_model import LinearRegression\n",
    "%matplotlib inline"
   ]
  },
  {
   "cell_type": "markdown",
   "metadata": {},
   "source": [
    "### 1. Load the data\n",
    "\n",
    "Load the file and take a look. Each row is one school. The fields all have abbreviated names, and you can look at the [data dictionary](http://www.cde.ca.gov/ta/ac/ap/reclayout12b.asp) to see what's what.\n",
    "\n",
    "This is standardized test score results and many other variables for schools in California, from 2012. We are going to be looking at a variable called the Academic Performance Index (API) which is basically standardized test scores. This way of measuring school performance has was discontinued in 2017, but we're going to use this data anyway, because we can closely reproduce the original Pioneer Press analysis.\n"
   ]
  },
  {
   "cell_type": "code",
   "execution_count": 4,
   "metadata": {},
   "outputs": [
    {
     "data": {
      "text/html": [
       "<div>\n",
       "<style scoped>\n",
       "    .dataframe tbody tr th:only-of-type {\n",
       "        vertical-align: middle;\n",
       "    }\n",
       "\n",
       "    .dataframe tbody tr th {\n",
       "        vertical-align: top;\n",
       "    }\n",
       "\n",
       "    .dataframe thead th {\n",
       "        text-align: right;\n",
       "    }\n",
       "</style>\n",
       "<table border=\"1\" class=\"dataframe\">\n",
       "  <thead>\n",
       "    <tr style=\"text-align: right;\">\n",
       "      <th></th>\n",
       "      <th>CHARTER</th>\n",
       "      <th>SNAME</th>\n",
       "      <th>DNAME</th>\n",
       "      <th>CNAME</th>\n",
       "      <th>API12B</th>\n",
       "      <th>ST_RANK</th>\n",
       "      <th>PCT_AA</th>\n",
       "      <th>PCT_AI</th>\n",
       "      <th>PCT_AS</th>\n",
       "      <th>PCT_FI</th>\n",
       "      <th>...</th>\n",
       "      <th>ACS_K3</th>\n",
       "      <th>ACS_46</th>\n",
       "      <th>ACS_CORE</th>\n",
       "      <th>PCT_RESP</th>\n",
       "      <th>NOT_HSG</th>\n",
       "      <th>HSG</th>\n",
       "      <th>SOME_COL</th>\n",
       "      <th>COL_GRAD</th>\n",
       "      <th>GRAD_SCH</th>\n",
       "      <th>AVG_ED</th>\n",
       "    </tr>\n",
       "  </thead>\n",
       "  <tbody>\n",
       "    <tr>\n",
       "      <th>0</th>\n",
       "      <td>NaN</td>\n",
       "      <td>William Faria Elementary</td>\n",
       "      <td>Cupertino Union</td>\n",
       "      <td>Santa Clara</td>\n",
       "      <td>998</td>\n",
       "      <td>10</td>\n",
       "      <td>0</td>\n",
       "      <td>1</td>\n",
       "      <td>96</td>\n",
       "      <td>0</td>\n",
       "      <td>...</td>\n",
       "      <td>26.0</td>\n",
       "      <td>33.0</td>\n",
       "      <td>NaN</td>\n",
       "      <td>95</td>\n",
       "      <td>1</td>\n",
       "      <td>1</td>\n",
       "      <td>1</td>\n",
       "      <td>22</td>\n",
       "      <td>76</td>\n",
       "      <td>4.72</td>\n",
       "    </tr>\n",
       "    <tr>\n",
       "      <th>1</th>\n",
       "      <td>NaN</td>\n",
       "      <td>Millikin Elementary</td>\n",
       "      <td>Santa Clara Unified</td>\n",
       "      <td>Santa Clara</td>\n",
       "      <td>998</td>\n",
       "      <td>10</td>\n",
       "      <td>0</td>\n",
       "      <td>0</td>\n",
       "      <td>74</td>\n",
       "      <td>2</td>\n",
       "      <td>...</td>\n",
       "      <td>30.0</td>\n",
       "      <td>33.0</td>\n",
       "      <td>NaN</td>\n",
       "      <td>100</td>\n",
       "      <td>0</td>\n",
       "      <td>2</td>\n",
       "      <td>9</td>\n",
       "      <td>33</td>\n",
       "      <td>56</td>\n",
       "      <td>4.44</td>\n",
       "    </tr>\n",
       "    <tr>\n",
       "      <th>2</th>\n",
       "      <td>NaN</td>\n",
       "      <td>Manchester Gate</td>\n",
       "      <td>Fresno Unified</td>\n",
       "      <td>Fresno</td>\n",
       "      <td>998</td>\n",
       "      <td>10</td>\n",
       "      <td>4</td>\n",
       "      <td>1</td>\n",
       "      <td>11</td>\n",
       "      <td>1</td>\n",
       "      <td>...</td>\n",
       "      <td>31.0</td>\n",
       "      <td>32.0</td>\n",
       "      <td>NaN</td>\n",
       "      <td>84</td>\n",
       "      <td>5</td>\n",
       "      <td>8</td>\n",
       "      <td>29</td>\n",
       "      <td>26</td>\n",
       "      <td>32</td>\n",
       "      <td>3.71</td>\n",
       "    </tr>\n",
       "    <tr>\n",
       "      <th>3</th>\n",
       "      <td>NaN</td>\n",
       "      <td>Murdock-Portal Elementary</td>\n",
       "      <td>Cupertino Union</td>\n",
       "      <td>Santa Clara</td>\n",
       "      <td>997</td>\n",
       "      <td>10</td>\n",
       "      <td>0</td>\n",
       "      <td>1</td>\n",
       "      <td>95</td>\n",
       "      <td>0</td>\n",
       "      <td>...</td>\n",
       "      <td>23.0</td>\n",
       "      <td>30.0</td>\n",
       "      <td>NaN</td>\n",
       "      <td>99</td>\n",
       "      <td>0</td>\n",
       "      <td>0</td>\n",
       "      <td>0</td>\n",
       "      <td>14</td>\n",
       "      <td>85</td>\n",
       "      <td>4.85</td>\n",
       "    </tr>\n",
       "    <tr>\n",
       "      <th>4</th>\n",
       "      <td>NaN</td>\n",
       "      <td>Mission San Jose Elementary</td>\n",
       "      <td>Fremont Unified</td>\n",
       "      <td>Alameda</td>\n",
       "      <td>996</td>\n",
       "      <td>10</td>\n",
       "      <td>0</td>\n",
       "      <td>1</td>\n",
       "      <td>91</td>\n",
       "      <td>0</td>\n",
       "      <td>...</td>\n",
       "      <td>27.0</td>\n",
       "      <td>30.0</td>\n",
       "      <td>NaN</td>\n",
       "      <td>99</td>\n",
       "      <td>0</td>\n",
       "      <td>1</td>\n",
       "      <td>3</td>\n",
       "      <td>22</td>\n",
       "      <td>74</td>\n",
       "      <td>4.68</td>\n",
       "    </tr>\n",
       "  </tbody>\n",
       "</table>\n",
       "<p>5 rows × 30 columns</p>\n",
       "</div>"
      ],
      "text/plain": [
       "<div>\n",
       "<style scoped>\n",
       "    .dataframe tbody tr th:only-of-type {\n",
       "        vertical-align: middle;\n",
       "    }\n",
       "\n",
       "    .dataframe tbody tr th {\n",
       "        vertical-align: top;\n",
       "    }\n",
       "\n",
       "    .dataframe thead th {\n",
       "        text-align: right;\n",
       "    }\n",
       "</style>\n",
       "<table border=\"1\" class=\"dataframe\">\n",
       "  <thead>\n",
       "    <tr style=\"text-align: right;\">\n",
       "      <th></th>\n",
       "      <th>CHARTER</th>\n",
       "      <th>SNAME</th>\n",
       "      <th>DNAME</th>\n",
       "      <th>CNAME</th>\n",
       "      <th>API12B</th>\n",
       "      <th>ST_RANK</th>\n",
       "      <th>PCT_AA</th>\n",
       "      <th>PCT_AI</th>\n",
       "      <th>PCT_AS</th>\n",
       "      <th>PCT_FI</th>\n",
       "      <th>...</th>\n",
       "      <th>ACS_K3</th>\n",
       "      <th>ACS_46</th>\n",
       "      <th>ACS_CORE</th>\n",
       "      <th>PCT_RESP</th>\n",
       "      <th>NOT_HSG</th>\n",
       "      <th>HSG</th>\n",
       "      <th>SOME_COL</th>\n",
       "      <th>COL_GRAD</th>\n",
       "      <th>GRAD_SCH</th>\n",
       "      <th>AVG_ED</th>\n",
       "    </tr>\n",
       "  </thead>\n",
       "  <tbody>\n",
       "    <tr>\n",
       "      <th>0</th>\n",
       "      <td>NaN</td>\n",
       "      <td>William Faria Elementary</td>\n",
       "      <td>Cupertino Union</td>\n",
       "      <td>Santa Clara</td>\n",
       "      <td>998</td>\n",
       "      <td>10</td>\n",
       "      <td>0</td>\n",
       "      <td>1</td>\n",
       "      <td>96</td>\n",
       "      <td>0</td>\n",
       "      <td>...</td>\n",
       "      <td>26.0</td>\n",
       "      <td>33.0</td>\n",
       "      <td>NaN</td>\n",
       "      <td>95</td>\n",
       "      <td>1</td>\n",
       "      <td>1</td>\n",
       "      <td>1</td>\n",
       "      <td>22</td>\n",
       "      <td>76</td>\n",
       "      <td>4.72</td>\n",
       "    </tr>\n",
       "    <tr>\n",
       "      <th>1</th>\n",
       "      <td>NaN</td>\n",
       "      <td>Millikin Elementary</td>\n",
       "      <td>Santa Clara Unified</td>\n",
       "      <td>Santa Clara</td>\n",
       "      <td>998</td>\n",
       "      <td>10</td>\n",
       "      <td>0</td>\n",
       "      <td>0</td>\n",
       "      <td>74</td>\n",
       "      <td>2</td>\n",
       "      <td>...</td>\n",
       "      <td>30.0</td>\n",
       "      <td>33.0</td>\n",
       "      <td>NaN</td>\n",
       "      <td>100</td>\n",
       "      <td>0</td>\n",
       "      <td>2</td>\n",
       "      <td>9</td>\n",
       "      <td>33</td>\n",
       "      <td>56</td>\n",
       "      <td>4.44</td>\n",
       "    </tr>\n",
       "    <tr>\n",
       "      <th>2</th>\n",
       "      <td>NaN</td>\n",
       "      <td>Manchester Gate</td>\n",
       "      <td>Fresno Unified</td>\n",
       "      <td>Fresno</td>\n",
       "      <td>998</td>\n",
       "      <td>10</td>\n",
       "      <td>4</td>\n",
       "      <td>1</td>\n",
       "      <td>11</td>\n",
       "      <td>1</td>\n",
       "      <td>...</td>\n",
       "      <td>31.0</td>\n",
       "      <td>32.0</td>\n",
       "      <td>NaN</td>\n",
       "      <td>84</td>\n",
       "      <td>5</td>\n",
       "      <td>8</td>\n",
       "      <td>29</td>\n",
       "      <td>26</td>\n",
       "      <td>32</td>\n",
       "      <td>3.71</td>\n",
       "    </tr>\n",
       "    <tr>\n",
       "      <th>3</th>\n",
       "      <td>NaN</td>\n",
       "      <td>Murdock-Portal Elementary</td>\n",
       "      <td>Cupertino Union</td>\n",
       "      <td>Santa Clara</td>\n",
       "      <td>997</td>\n",
       "      <td>10</td>\n",
       "      <td>0</td>\n",
       "      <td>1</td>\n",
       "      <td>95</td>\n",
       "      <td>0</td>\n",
       "      <td>...</td>\n",
       "      <td>23.0</td>\n",
       "      <td>30.0</td>\n",
       "      <td>NaN</td>\n",
       "      <td>99</td>\n",
       "      <td>0</td>\n",
       "      <td>0</td>\n",
       "      <td>0</td>\n",
       "      <td>14</td>\n",
       "      <td>85</td>\n",
       "      <td>4.85</td>\n",
       "    </tr>\n",
       "    <tr>\n",
       "      <th>4</th>\n",
       "      <td>NaN</td>\n",
       "      <td>Mission San Jose Elementary</td>\n",
       "      <td>Fremont Unified</td>\n",
       "      <td>Alameda</td>\n",
       "      <td>996</td>\n",
       "      <td>10</td>\n",
       "      <td>0</td>\n",
       "      <td>1</td>\n",
       "      <td>91</td>\n",
       "      <td>0</td>\n",
       "      <td>...</td>\n",
       "      <td>27.0</td>\n",
       "      <td>30.0</td>\n",
       "      <td>NaN</td>\n",
       "      <td>99</td>\n",
       "      <td>0</td>\n",
       "      <td>1</td>\n",
       "      <td>3</td>\n",
       "      <td>22</td>\n",
       "      <td>74</td>\n",
       "      <td>4.68</td>\n",
       "    </tr>\n",
       "  </tbody>\n",
       "</table>\n",
       "<p>5 rows × 30 columns</p>\n",
       "</div>"
      ]
     },
     "execution_count": 4,
     "metadata": {},
     "output_type": "execute_result"
    }
   ],
   "source": [
    "# Load `apib12tx.csv` and take a look at the raw data\n",
    "df = pd.read_csv('week-3/apib12tx.csv')\n",
    "df.head()"
   ]
  },
  {
   "cell_type": "code",
   "execution_count": null,
   "metadata": {},
   "outputs": [],
   "source": []
  },
  {
   "cell_type": "markdown",
   "metadata": {},
   "source": [
    "### 2. Looking at one variable at a time\n",
    "\n",
    "To start with, let's look at some histograms of single variables, to get an idea what the data (and the students) look like."
   ]
  },
  {
   "cell_type": "code",
   "execution_count": 5,
   "metadata": {},
   "outputs": [
    {
     "data": {
      "text/plain": [
       "<matplotlib.axes._subplots.AxesSubplot at 0x10396cb00>"
      ]
     },
     "execution_count": 5,
     "metadata": {},
     "output_type": "execute_result"
    },
    {
     "data": {
      "image/png": "[encoded data removed]",
      "text/plain": [
       "<Figure size 432x288 with 1 Axes>"
      ]
     },
     "metadata": {},
     "output_type": "display_data"
    }
   ],
   "source": [
    "# Make a histogram of the API12B column, which is standardized test scores for grade 12\n",
    "df['API12B'].hist()"
   ]
  },
  {
   "cell_type": "code",
   "execution_count": 6,
   "metadata": {},
   "outputs": [
    {
     "data": {
      "text/plain": [
       "<matplotlib.axes._subplots.AxesSubplot at 0x1072acbe0>"
      ]
     },
     "execution_count": 6,
     "metadata": {},
     "output_type": "execute_result"
    },
    {
     "data": {
      "image/png": "[encoded data removed]",
      "text/plain": [
       "<Figure size 432x288 with 1 Axes>"
      ]
     },
     "metadata": {},
     "output_type": "display_data"
    }
   ],
   "source": [
    "# Make a histogram of the MEALS column, which is the percentage of students enrolled in free/reduced-price lunch programs, which is often used as a proxy for poverty.\n",
    "df['MEALS'].hist()\n"
   ]
  },
  {
   "cell_type": "markdown",
   "metadata": {},
   "source": [
    "You also find it interesting to look at variables like `PCT_WH` which is the percentage of white students, and `AVG_ED` which is the average education level of the parents of the students at that school."
   ]
  },
  {
   "cell_type": "code",
   "execution_count": 7,
   "metadata": {},
   "outputs": [
    {
     "data": {
      "text/plain": [
       "<matplotlib.axes._subplots.AxesSubplot at 0x10742e278>"
      ]
     },
     "execution_count": 7,
     "metadata": {},
     "output_type": "execute_result"
    },
    {
     "data": {
      "image/png": "[encoded data removed]",
      "text/plain": [
       "<Figure size 432x288 with 1 Axes>"
      ]
     },
     "metadata": {},
     "output_type": "display_data"
    }
   ],
   "source": [
    "df['PCT_WH'].hist()"
   ]
  },
  {
   "cell_type": "code",
   "execution_count": 8,
   "metadata": {},
   "outputs": [
    {
     "data": {
      "text/plain": [
       "<matplotlib.axes._subplots.AxesSubplot at 0x10750d668>"
      ]
     },
     "execution_count": 8,
     "metadata": {},
     "output_type": "execute_result"
    },
    {
     "data": {
      "image/png": "[encoded data removed]",
      "text/plain": [
       "<Figure size 432x288 with 1 Axes>"
      ]
     },
     "metadata": {},
     "output_type": "display_data"
    }
   ],
   "source": [
    "df['AVG_ED'].hist()"
   ]
  },
  {
   "cell_type": "markdown",
   "metadata": {},
   "source": [
    "### 3. Looking at two variables at a time\n",
    "\n",
    "Looking at histograms of one variable at a time cant't tell us about the relationship between variables, so let's do some scatter plots to get a qualitative sense of the relationships."
   ]
  },
  {
   "cell_type": "code",
   "execution_count": 10,
   "metadata": {},
   "outputs": [
    {
     "data": {
      "text/plain": [
       "<matplotlib.collections.PathCollection at 0x107537ef0>"
      ]
     },
     "execution_count": 10,
     "metadata": {},
     "output_type": "execute_result"
    },
    {
     "data": {
      "image/png": "[encoded data removed]",
      "text/plain": [
       "<Figure size 432x288 with 1 Axes>"
      ]
     },
     "metadata": {},
     "output_type": "display_data"
    }
   ],
   "source": [
    "# Make a scatter plot of test scores (`API12B`) vs the percentage of students with subsidized lunches (`MEALS`)\n",
    "\n",
    "plt.scatter(x=df['MEALS'], y=df['API12B'])"
   ]
  },
  {
   "cell_type": "markdown",
   "metadata": {},
   "source": [
    "As expected, test scores decrease with an increasing fraction of students in poverty. The parents' education is also strongly correlated with test scores."
   ]
  },
  {
   "cell_type": "code",
   "execution_count": 11,
   "metadata": {},
   "outputs": [
    {
     "data": {
      "text/plain": [
       "<matplotlib.collections.PathCollection at 0x10b963860>"
      ]
     },
     "execution_count": 11,
     "metadata": {},
     "output_type": "execute_result"
    },
    {
     "data": {
      "image/png": "[encoded data removed]",
      "text/plain": [
       "<Figure size 432x288 with 1 Axes>"
      ]
     },
     "metadata": {},
     "output_type": "display_data"
    }
   ],
   "source": [
    "# Make a scatter plot of test scores vs parents' education (`AVG_ED`)\n",
    "plt.scatter(x=df['API12B'], y=df['AVG_ED'])"
   ]
  },
  {
   "cell_type": "markdown",
   "metadata": {},
   "source": [
    "## Linear regression"
   ]
  },
  {
   "cell_type": "markdown",
   "metadata": {},
   "source": [
    "Let's draw trend lines through these scatter plots. Or, more precisely, we're going to use single variable linear regression to build a model of the relationship between two variables (test scores, which is the \"dependent\" variable, and one \"independent\" variable.\")\n",
    "\n",
    "Let's start with text scores vs. our poverty proxy."
   ]
  },
  {
   "cell_type": "code",
   "execution_count": 13,
   "metadata": {
    "collapsed": true
   },
   "outputs": [],
   "source": [
    "# To start with, let's have the MEALS variable on the X axis and the API12B variable on the Y axis \n",
    "# This is some drudgery to convert dataframes into the NumPy arrays that sklearn needs\n",
    "x = df[['MEALS']].values\n",
    "y = df[['API12B']].values"
   ]
  },
  {
   "cell_type": "code",
   "execution_count": 14,
   "metadata": {},
   "outputs": [
    {
     "name": "stderr",
     "output_type": "stream",
     "text": [
      "/Users/km/.pyenv/versions/3.6.5/lib/python3.6/site-packages/sklearn/linear_model/base.py:509: RuntimeWarning: internal gelsd driver lwork query error, required iwork dimension not returned. This is likely the result of LAPACK bug 0038, fixed in LAPACK 3.2.2 (released July 21, 2010). Falling back to 'gelss' driver.\n  linalg.lstsq(X, y)\n"
     ]
    },
    {
     "data": {
      "text/plain": [
       "LinearRegression(copy_X=True, fit_intercept=True, n_jobs=1, normalize=False)"
      ]
     },
     "execution_count": 14,
     "metadata": {},
     "output_type": "execute_result"
    }
   ],
   "source": [
    "# Make a LinearRegression object and fit our data to it \n",
    "lm = LinearRegression()\n",
    "lm.fit(x, y)"
   ]
  },
  {
   "cell_type": "markdown",
   "metadata": {},
   "source": [
    "Now let's see what we've got. Make the scatter plot of scores vs. meals, and add the regression line"
   ]
  },
  {
   "cell_type": "code",
   "execution_count": 20,
   "metadata": {},
   "outputs": [
    {
     "data": {
      "text/plain": [
       "[<matplotlib.lines.Line2D at 0x10c28f0b8>]"
      ]
     },
     "execution_count": 20,
     "metadata": {},
     "output_type": "execute_result"
    },
    {
     "data": {
      "image/png": "[encoded data removed]",
      "text/plain": [
       "<Figure size 432x288 with 1 Axes>"
      ]
     },
     "metadata": {},
     "output_type": "display_data"
    }
   ],
   "source": [
    "# scatter plot of test scores vs percentage of students eligable for subsidized meals\n",
    "m = lm.coef_[0]\n",
    "b = lm.intercept_\n",
    "df.plot(kind='scatter', x='MEALS', y='API12B')\n",
    "plt.plot(df['MEALS'], m * df['MEALS'] + b, '-', color='red')"
   ]
  },
  {
   "cell_type": "code",
   "execution_count": 21,
   "metadata": {},
   "outputs": [
    {
     "data": {
      "text/plain": [
       "array([-1.85881873])"
      ]
     },
     "execution_count": 21,
     "metadata": {},
     "output_type": "execute_result"
    }
   ],
   "source": [
    "# What is the slope of this line? That is, how many test score points do we lose \n",
    "# for every percentage point increase in students receiving subsidized meals?\n",
    "m"
   ]
  },
  {
   "cell_type": "code",
   "execution_count": 22,
   "metadata": {},
   "outputs": [
    {
     "data": {
      "text/plain": [
       "array([898.37836133])"
      ]
     },
     "execution_count": 22,
     "metadata": {},
     "output_type": "execute_result"
    }
   ],
   "source": [
    "# And what is the intercept? That is, what does the model predict for MEALS=0?\n",
    "b"
   ]
  },
  {
   "cell_type": "markdown",
   "metadata": {},
   "source": [
    "We now have a model that predicts test performance based on the number of students receiving subsidized meals. This is a pretty naive mdodel, but it's a start. And we can already learn things from it: there are some schools that seem to be doing much better than would be expected given the number of impoverished students attending. Essentially by, subtracting off the regression line we are \"taking poverty out of the equation.\"\n",
    "\n",
    "Let's take a look at some of these schools. "
   ]
  },
  {
   "cell_type": "code",
   "execution_count": 24,
   "metadata": {
    "scrolled": true
   },
   "outputs": [
    {
     "data": {
      "text/plain": [
       "15                 Chin (John Yehall) Elementary\n51      American Indian Public Charter School II\n161                          KIPP Raices Academy\n207                           Lincoln Elementary\n221                         Oakland Charter High\n445                           Richardson Prep Hi\n510                      Synergy Charter Academy\n542                            Sixth Street Prep\n683         KIPP Los Angeles College Preparatory\n702           Rocketship Mateo Sheedy Elementary\n739                     Solano Avenue Elementary\n788                     Laurel Street Elementary\n865                          Middle College High\n939            Design Science Early College High\n964                              Frank Lanterman\n1054       Futuro College Preparatory Elementary\n1071                      KIPP Heartwood Academy\nName: SNAME, dtype: object"
      ]
     },
     "execution_count": 24,
     "metadata": {},
     "output_type": "execute_result"
    }
   ],
   "source": [
    "# Print out all schools with MEALS greater than 80 and API12B > 900\n",
    "df[(df['MEALS'] >= 80) & (df['API12B'] > 900)]['SNAME']"
   ]
  },
  {
   "cell_type": "markdown",
   "metadata": {},
   "source": [
    "Let's look specifically at Solano Avenue Elementary, which has an `API12B` of 922 and 80 percent of students being in the free/reduced lunch program. \n",
    "\n",
    "How well would we expect this school to do, based on its `MEALS` of 80?"
   ]
  },
  {
   "cell_type": "code",
   "execution_count": 25,
   "metadata": {},
   "outputs": [
    {
     "data": {
      "text/plain": [
       "array([749.6728627])"
      ]
     },
     "execution_count": 25,
     "metadata": {},
     "output_type": "execute_result"
    }
   ],
   "source": [
    "# Use the linear model to predict the score for this school\n",
    "m * 80 + b"
   ]
  },
  {
   "cell_type": "markdown",
   "metadata": {},
   "source": [
    "With an index of 922, clearly the school is overperforming what our simplified model expects. What is different about this school? Use your favorite search engine to look for relevant articles and see if you can figure out anything that might matter (remembering that our data is from 2012)"
   ]
  },
  {
   "cell_type": "markdown",
   "metadata": {},
   "source": [
    "http://articles.latimes.com/1995-06-21/local/me-15425_1_central-los-angeles\n",
    "\n",
    "Probably because it is a rather small school, with highly motivated teachers and a large community of volounteers that support the school and students."
   ]
  },
  {
   "cell_type": "code",
   "execution_count": null,
   "metadata": {},
   "outputs": [],
   "source": []
  }
 ],
 "metadata": {
  "kernelspec": {
   "display_name": "Python 3",
   "language": "python",
   "name": "python3"
  },
  "language_info": {
   "codemirror_mode": {
    "name": "ipython",
    "version": 3
   },
   "file_extension": ".py",
   "mimetype": "text/x-python",
   "name": "python",
   "nbconvert_exporter": "python",
   "pygments_lexer": "ipython3",
   "version": "3.6.2"
  }
 },
 "nbformat": 4,
 "nbformat_minor": 1
}
